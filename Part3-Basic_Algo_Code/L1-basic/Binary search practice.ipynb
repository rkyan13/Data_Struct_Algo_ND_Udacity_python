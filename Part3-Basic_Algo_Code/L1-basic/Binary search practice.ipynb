{
 "cells": [
  {
   "cell_type": "markdown",
   "metadata": {
    "graffitiCellId": "id_brhw1bj"
   },
   "source": [
    "# Binary search practice\n",
    "\n",
    "Let's get some practice doing binary search on an array of integers. We'll solve the problem two different ways—both iteratively and resursively.\n",
    "\n",
    "Here is a reminder of how the algorithm works:\n",
    "\n",
    "1. Find the center of the list (try setting an upper and lower bound to find the center)\n",
    "2. Check to see if the element at the center is your target.\n",
    "3. If it is, return the index.\n",
    "4. If not, is the target greater or less than that element?\n",
    "5. If greater, move the lower bound to just above the current center\n",
    "6. If less, move the upper bound to just below the current center\n",
    "7. Repeat steps 1-6 until you find the target or until the bounds are the same or cross (the upper bound is less than the lower bound).\n",
    "\n",
    "\n",
    "## Problem statement:\n",
    "Given a sorted array of integers, and a target value, find the index of the target value in the array. If the target value is not present in the array, return -1.\n",
    "\n",
    "\n",
    "First, see if you can code an iterative solution (i.e., one that uses loops). If you get stuck, the solution is below.\n",
    "\n"
   ]
  },
  {
   "cell_type": "markdown",
   "metadata": {},
   "source": [
    "## Iterative solution(inelegant solution)\n",
    "\n",
    "The following is an inelegant solution\n",
    "Correct way to do it\n",
    "If greater, move the lower bound to just above the current center. \n",
    "If less, move the upper bound to just below the current center\n",
    "\n",
    "what I did\n",
    "instead I moved the bound to the center . This caused the while loop to run infinitey (under some conditions). Then I had to put in some hacks to address the infinite loops."
   ]
  },
  {
   "cell_type": "code",
   "execution_count": 1,
   "metadata": {
    "graffitiCellId": "id_xe6rg94"
   },
   "outputs": [
    {
     "name": "stdout",
     "output_type": "stream",
     "text": [
      "target = 0 : search_idx = -1 :search_complete = True\n",
      "target = 10 : search_idx = 0 :search_complete = True\n",
      "target = 15 : search_idx = -1 :search_complete = True\n",
      "target = 20 : search_idx = 1 :search_complete = True\n",
      "target = 25 : search_idx = -1 :search_complete = True\n",
      "target = -10 : search_idx = -1 :search_complete = True\n",
      "target = 0 : search_idx = 0 :search_complete = True\n",
      "target = 3 : search_idx = -1 :search_complete = True\n",
      "target = 20 : search_idx = 2 :search_complete = True\n",
      "target = 30 : search_idx = 3 :search_complete = True\n",
      "target = 50 : search_idx = 5 :search_complete = True\n",
      "target = 65 : search_idx = -1 :search_complete = True\n",
      "target = 100 : search_idx = 10 :search_complete = True\n",
      "target = 101 : search_idx = -1 :search_complete = True\n"
     ]
    },
    {
     "data": {
      "text/plain": [
       "-1"
      ]
     },
     "execution_count": 1,
     "metadata": {},
     "output_type": "execute_result"
    }
   ],
   "source": [
    "def binary_search_inelegant(array, target, debug=0):\n",
    "    '''Write a function that implements the binary search algorithm using iteration\n",
    "   \n",
    "    args:\n",
    "      array: a sorted array of items of the same type\n",
    "      target: the element you're searching for\n",
    "   \n",
    "    returns:\n",
    "      int: the index of the target, if found, in the source\n",
    "      -1: if the target is not found\n",
    "    '''\n",
    "    search_complete = False\n",
    "    lower_idx = 0\n",
    "    upper_idx = len(array)-1\n",
    "    search_idx = -1\n",
    "    while(search_complete==False):\n",
    "        \n",
    "        mid_idx = int(0.5*(lower_idx+upper_idx))\n",
    "        if(debug ==1):\n",
    "            print(\"lower_idx = \", lower_idx, \":upper_idx =\", upper_idx,\":mid_idx =\", mid_idx,\":array[mid_idx]=\",array[mid_idx])\n",
    "        \n",
    "        if(target==array[mid_idx]):\n",
    "            search_complete = True\n",
    "            search_idx = mid_idx\n",
    "            break\n",
    "        elif(target >array[mid_idx]):\n",
    "            lower_idx = mid_idx\n",
    "        else:\n",
    "            upper_idx = mid_idx\n",
    "            \n",
    "            \n",
    "        if(lower_idx > upper_idx):\n",
    "            search_complete = True\n",
    "            search_idx = -1\n",
    "        elif(upper_idx-lower_idx == 1):\n",
    "            search_complete = True\n",
    "            if(target==array[upper_idx]):                \n",
    "                search_idx = upper_idx\n",
    "            elif(target==array[lower_idx]):\n",
    "                search_idx = lower_idx\n",
    "            else: \n",
    "                search_idx = -1\n",
    "        elif(upper_idx==lower_idx):\n",
    "            search_complete = True\n",
    "            if(target==array[upper_idx]):                \n",
    "                search_idx = upper_idx\n",
    "            else: \n",
    "                search_idx = -1\n",
    "            \n",
    "    \n",
    "    print(\"target =\",target,\": search_idx =\", search_idx,\":search_complete =\", search_complete)\n",
    "    return search_idx\n",
    "\n",
    "\n",
    "array = [10,20]\n",
    "binary_search_inelegant(array,0)\n",
    "binary_search_inelegant(array,10)\n",
    "binary_search_inelegant(array,15)\n",
    "binary_search_inelegant(array,20)\n",
    "binary_search_inelegant(array,25)\n",
    "\n",
    "array = [0, 10, 20, 30, 40, 50, 60, 70, 80, 90, 100]\n",
    "binary_search_inelegant(array,-10) \n",
    "binary_search_inelegant(array,0)\n",
    "binary_search_inelegant(array,3)\n",
    "binary_search_inelegant(array,20)\n",
    "binary_search_inelegant(array,30)\n",
    "binary_search_inelegant(array,50)\n",
    "binary_search_inelegant(array,65)\n",
    "binary_search_inelegant(array,100)\n",
    "binary_search_inelegant(array,101)"
   ]
  },
  {
   "cell_type": "markdown",
   "metadata": {},
   "source": [
    "## Iterative solution(Elegant solution)\n",
    "\n",
    "The following is an inelegant solution\n",
    "Correct way to do it\n",
    "If greater, move the lower bound to just above the current center. \n",
    "If less, move the upper bound to just below the current center\n",
    "\n"
   ]
  },
  {
   "cell_type": "code",
   "execution_count": 2,
   "metadata": {},
   "outputs": [
    {
     "name": "stdout",
     "output_type": "stream",
     "text": [
      "target = 0 : search_idx = -1 :search_complete = True\n",
      "target = 10 : search_idx = 0 :search_complete = True\n",
      "target = 15 : search_idx = -1 :search_complete = True\n",
      "target = 20 : search_idx = 1 :search_complete = True\n",
      "target = 25 : search_idx = -1 :search_complete = True\n",
      "target = -10 : search_idx = -1 :search_complete = True\n",
      "target = 0 : search_idx = 0 :search_complete = True\n",
      "target = 3 : search_idx = -1 :search_complete = True\n",
      "target = 20 : search_idx = 2 :search_complete = True\n",
      "target = 30 : search_idx = 3 :search_complete = True\n",
      "target = 50 : search_idx = 5 :search_complete = True\n",
      "target = 65 : search_idx = -1 :search_complete = True\n",
      "target = 100 : search_idx = 10 :search_complete = True\n",
      "target = 101 : search_idx = -1 :search_complete = True\n"
     ]
    },
    {
     "data": {
      "text/plain": [
       "-1"
      ]
     },
     "execution_count": 2,
     "metadata": {},
     "output_type": "execute_result"
    }
   ],
   "source": [
    "def binary_search(array, target, debug=0):\n",
    "    '''Write a function that implements the binary search algorithm using iteration\n",
    "   \n",
    "    args:\n",
    "      array: a sorted array of items of the same type\n",
    "      target: the element you're searching for\n",
    "   \n",
    "    returns:\n",
    "      int: the index of the target, if found, in the source\n",
    "      -1: if the target is not found\n",
    "    '''\n",
    "    search_complete = False\n",
    "    lower_idx = 0\n",
    "    upper_idx = len(array)-1\n",
    "    search_idx = -1\n",
    "    while(search_complete==False):\n",
    "        \n",
    "        mid_idx = int(0.5*(lower_idx+upper_idx))\n",
    "        if(debug ==1):\n",
    "            print(\"lower_idx = \", lower_idx, \":upper_idx =\", upper_idx,\":mid_idx =\", mid_idx,\":array[mid_idx]=\",array[mid_idx])\n",
    "        \n",
    "        if(target==array[mid_idx]):\n",
    "            search_complete = True\n",
    "            search_idx = mid_idx\n",
    "            break\n",
    "        elif(target >array[mid_idx]):\n",
    "            lower_idx = mid_idx+1\n",
    "        else:\n",
    "            upper_idx = mid_idx-1    \n",
    "        \n",
    "        if(lower_idx > upper_idx):\n",
    "            search_complete = True\n",
    "            search_idx = -1\n",
    "            \n",
    "    \n",
    "    print(\"target =\",target,\": search_idx =\", search_idx,\":search_complete =\", search_complete)\n",
    "    return search_idx\n",
    "\n",
    "\n",
    "array = [10,20]\n",
    "binary_search(array,0)\n",
    "binary_search(array,10)\n",
    "binary_search(array,15)\n",
    "binary_search(array,20)\n",
    "binary_search(array,25)\n",
    "\n",
    "array = [0, 10, 20, 30, 40, 50, 60, 70, 80, 90, 100]\n",
    "binary_search(array,-10) \n",
    "binary_search(array,0)\n",
    "binary_search(array,3)\n",
    "binary_search(array,20)\n",
    "binary_search(array,30)\n",
    "binary_search(array,50)\n",
    "binary_search(array,65)\n",
    "binary_search(array,100)\n",
    "binary_search(array,101)"
   ]
  },
  {
   "cell_type": "markdown",
   "metadata": {
    "graffitiCellId": "id_2fv59c4"
   },
   "source": [
    "<span class=\"graffiti-highlight graffiti-id_2fv59c4-id_271h0jf\"><i></i><button>Show Solution</button></span>"
   ]
  },
  {
   "cell_type": "markdown",
   "metadata": {
    "graffitiCellId": "id_1hg1he1"
   },
   "source": [
    "Here's some code you can use to test the function:"
   ]
  },
  {
   "cell_type": "code",
   "execution_count": 3,
   "metadata": {
    "graffitiCellId": "id_dtarosq"
   },
   "outputs": [],
   "source": [
    "def test_function(test_case):\n",
    "    answer = binary_search(test_case[0], test_case[1])\n",
    "    if answer == test_case[2]:\n",
    "        print(\"Pass!\")\n",
    "    else:\n",
    "        print(\"Fail!\")"
   ]
  },
  {
   "cell_type": "code",
   "execution_count": 4,
   "metadata": {
    "graffitiCellId": "id_yfum0r9",
    "scrolled": true
   },
   "outputs": [
    {
     "name": "stdout",
     "output_type": "stream",
     "text": [
      "target = 6 : search_idx = 6 :search_complete = True\n",
      "Pass!\n"
     ]
    }
   ],
   "source": [
    "array = [0, 1, 2, 3, 4, 5, 6, 7, 8, 9, 10]\n",
    "target = 6\n",
    "index = 6\n",
    "test_case = [array, target, index]\n",
    "test_function(test_case)"
   ]
  },
  {
   "cell_type": "markdown",
   "metadata": {
    "graffitiCellId": "id_5qnceuf"
   },
   "source": [
    "## Recursive solution\n",
    "Now, see if you can write a function that gives the same results, but that uses recursion to do so."
   ]
  },
  {
   "cell_type": "code",
   "execution_count": 5,
   "metadata": {
    "graffitiCellId": "id_ybdzfm8"
   },
   "outputs": [
    {
     "name": "stdout",
     "output_type": "stream",
     "text": [
      "target = 0 : search_idx = -1\n",
      "target = 10 : search_idx = 0\n",
      "target = 15 : search_idx = -1\n",
      "target = 20 : search_idx = 1\n",
      "target = 25 : search_idx = -1\n",
      "...\n",
      "target = -10 : search_idx = -1\n",
      "target = 0 : search_idx = 0\n",
      "target = 3 : search_idx = -1\n",
      "target = 20 : search_idx = 2\n",
      "target = 30 : search_idx = 3\n",
      "target = 50 : search_idx = 5\n",
      "target = 65 : search_idx = -1\n",
      "target = 100 : search_idx = 10\n",
      "target = 101 : search_idx = -1\n"
     ]
    }
   ],
   "source": [
    "def binary_search_recursive(array, target, lower_idx=None, upper_idx=None):\n",
    "    '''Write a function that implements the binary search algorithm using recursion\n",
    "    \n",
    "    args:\n",
    "      array: a sorted array of items of the same type\n",
    "      target: the element you're searching for\n",
    "         \n",
    "    returns:\n",
    "      int: the index of the target, if found, in the source\n",
    "      -1: if the target is not found\n",
    "      \n",
    "    '''\n",
    "    \n",
    "    search_idx = -1\n",
    "    if(lower_idx==None):\n",
    "        lower_idx = 0\n",
    "    if(upper_idx==None):\n",
    "        upper_idx = len(array)-1\n",
    "    #print(\"lower_idx = \", lower_idx, \":upper_idx =\", upper_idx, \":search_idx =\", search_idx)\n",
    "        \n",
    "        \n",
    "    #Base Case: For Object not found(after searching entire array)\n",
    "    if(lower_idx>upper_idx):\n",
    "        search_idx = -1\n",
    "        print(\"target =\",target,\": search_idx =\", search_idx)\n",
    "        return search_idx\n",
    "    else:\n",
    "        mid_idx = int(0.5*(lower_idx+upper_idx))\n",
    "        #Base Case for object found\n",
    "        if(target==array[mid_idx]):\n",
    "            search_idx = mid_idx\n",
    "            print(\"target =\",target,\": search_idx =\", search_idx)\n",
    "            return search_idx\n",
    "        elif(target>array[mid_idx]):\n",
    "            lower_idx = mid_idx+1\n",
    "            binary_search_recursive(array, target, lower_idx, upper_idx)\n",
    "        else:\n",
    "            upper_idx = mid_idx-1  \n",
    "            binary_search_recursive(array, target, lower_idx, upper_idx)\n",
    "    \n",
    "    return \n",
    "\n",
    "array = [10,20]\n",
    "binary_search_recursive(array,0); \n",
    "binary_search_recursive(array,10)\n",
    "binary_search_recursive(array,15)\n",
    "binary_search_recursive(array,20)\n",
    "binary_search_recursive(array,25)\n",
    "\n",
    "print(\"...\")\n",
    "array = [0, 10, 20, 30, 40, 50, 60, 70, 80, 90, 100]\n",
    "binary_search_recursive(array,-10) \n",
    "binary_search_recursive(array,0)\n",
    "binary_search_recursive(array,3)\n",
    "binary_search_recursive(array,20)\n",
    "binary_search_recursive(array,30)\n",
    "binary_search_recursive(array,50)\n",
    "binary_search_recursive(array,65)\n",
    "binary_search_recursive(array,100)\n",
    "binary_search_recursive(array,101)"
   ]
  },
  {
   "cell_type": "markdown",
   "metadata": {
    "graffitiCellId": "id_6wztnno"
   },
   "source": [
    "<span class=\"graffiti-highlight graffiti-id_6wztnno-id_9gaa8a3\"><i></i><button>Show Solution</button></span>"
   ]
  },
  {
   "cell_type": "markdown",
   "metadata": {
    "graffitiCellId": "id_6oybjcx"
   },
   "source": [
    "Here's some code you can use to test the function:"
   ]
  },
  {
   "cell_type": "code",
   "execution_count": 6,
   "metadata": {
    "graffitiCellId": "id_gdvgd78"
   },
   "outputs": [],
   "source": [
    "def test_function(test_case):\n",
    "    answer = binary_search_recursive(test_case[0], test_case[1])\n",
    "    if answer == test_case[2]:\n",
    "        print(\"Pass!\")\n",
    "    else:\n",
    "        print(\"Fail!\")"
   ]
  },
  {
   "cell_type": "code",
   "execution_count": 7,
   "metadata": {
    "graffitiCellId": "id_jeg0cdm"
   },
   "outputs": [
    {
     "name": "stdout",
     "output_type": "stream",
     "text": [
      "target = 4 : search_idx = 4\n",
      "Pass!\n"
     ]
    }
   ],
   "source": [
    "array = [0, 1, 2, 3, 4, 5, 6, 7, 8, 9]\n",
    "target = 4\n",
    "index = 4\n",
    "test_case = [array, target, index]\n",
    "test_function(test_case)"
   ]
  }
 ],
 "metadata": {
  "graffiti": {
   "firstAuthorId": "dev",
   "id": "id_rnq144a",
   "language": "EN"
  },
  "kernelspec": {
   "display_name": "Python 3",
   "language": "python",
   "name": "python3"
  },
  "language_info": {
   "codemirror_mode": {
    "name": "ipython",
    "version": 3
   },
   "file_extension": ".py",
   "mimetype": "text/x-python",
   "name": "python",
   "nbconvert_exporter": "python",
   "pygments_lexer": "ipython3",
   "version": "3.5.2"
  },
  "widgets": {
   "state": {},
   "version": "1.1.2"
  }
 },
 "nbformat": 4,
 "nbformat_minor": 2
}
