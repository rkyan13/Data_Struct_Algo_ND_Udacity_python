{
 "cells": [
  {
   "cell_type": "markdown",
   "metadata": {
    "graffitiCellId": "id_pr3r54a"
   },
   "source": [
    "## Problem statement\n",
    "\n",
    "Given a sorted array that may have duplicate values, use *binary search* to find the **first** and **last** indexes of a given value.\n",
    "\n",
    "For example, if you have the array `[0, 1, 2, 2, 3, 3, 3, 4, 5, 6]` and the given value is `3`, the answer will be `[4, 6]` (because the value `3` occurs first at index `4` and last at index `6` in the array).\n",
    "\n",
    "The expected complexity of the problem is $O(log(n))$."
   ]
  },
  {
   "cell_type": "code",
   "execution_count": 8,
   "metadata": {
    "graffitiCellId": "id_stslkm6"
   },
   "outputs": [
    {
     "name": "stdout",
     "output_type": "stream",
     "text": [
      "lower_idx =  0 :upper_idx = 7 :search_idx = -1\n",
      "C2:target = 3 : search_idx = 3\n",
      "Summary search_idx = 3\n",
      "si1= 3\n"
     ]
    },
    {
     "data": {
      "text/plain": [
       "'\\nsolution = [5, 5]\\ntest_case_3 = [input_list, number, solution]\\ntest_function(test_case_3)\\n'"
      ]
     },
     "execution_count": 8,
     "metadata": {},
     "output_type": "execute_result"
    }
   ],
   "source": [
    "def binary_search_recursive(source, target, lower_idx=None, upper_idx=None):\n",
    "    '''Write a function that implements the binary search algorithm using recursion\n",
    "    \n",
    "    args:\n",
    "      source: a sorted source of items of the same type\n",
    "      target: the element you're searching for\n",
    "         \n",
    "    returns:\n",
    "      int: the index of the target, if found, in the source\n",
    "      -1: if the target is not found\n",
    "      \n",
    "    '''\n",
    "    \n",
    "    search_idx = -1\n",
    "    converged = False\n",
    "    if(lower_idx==None):\n",
    "        lower_idx = 0\n",
    "    if(upper_idx==None):\n",
    "        upper_idx = len(source)-1\n",
    "    print(\"lower_idx = \", lower_idx, \":upper_idx =\", upper_idx, \":search_idx =\", search_idx)\n",
    "        \n",
    "        \n",
    "    #Base Case: For Object not found(after searching entire source)\n",
    "    if(lower_idx>upper_idx):\n",
    "        search_idx = -1\n",
    "        print(\"C1:target =\",target,\": search_idx =\", search_idx)\n",
    "        converged = True\n",
    "    else:\n",
    "        mid_idx = int(0.5*(lower_idx+upper_idx))\n",
    "        #Base Case for object found\n",
    "        if(target==source[mid_idx]):\n",
    "            search_idx = mid_idx\n",
    "            print(\"C2:target =\",target,\": search_idx =\", search_idx)\n",
    "            converged = True\n",
    "        elif(target>source[mid_idx]):\n",
    "            lower_idx = mid_idx+1\n",
    "            binary_search_recursive(source, target, lower_idx, upper_idx)\n",
    "        else:\n",
    "            upper_idx = mid_idx-1  \n",
    "            binary_search_recursive(source, target, lower_idx, upper_idx)\n",
    "    \n",
    "    \n",
    "    if(converged == True):\n",
    "        print(\"Summary search_idx =\", search_idx)\n",
    "        return search_idx \n",
    "    \n",
    "    return search_idx\n",
    "\n",
    "def find_first(source,target,start_idx):\n",
    "    if(start_idx == -1):\n",
    "        return_idx = -1\n",
    "    else:\n",
    "        first_element_reached = False\n",
    "        return_idx = start_idx\n",
    "        print(\"ri=\",return_idx)\n",
    "        while(first_element_reached ==False):\n",
    "            if(return_idx == 0):\n",
    "                first_element_reached =True\n",
    "            elif(source[return_idx-1]==target):\n",
    "                return_idx = return_idx-1\n",
    "            else:\n",
    "                first_element_reached =True\n",
    "    \n",
    "    return return_idx\n",
    "\n",
    "def find_last(source,target,start_idx):\n",
    "    if(start_idx == -1):\n",
    "        return_idx = -1\n",
    "    else:\n",
    "        last_element_reached = False\n",
    "        return_idx = start_idx\n",
    "        while(last_element_reached ==False):\n",
    "            if(return_idx == len(source)-1):\n",
    "                last_element_reached =True\n",
    "            elif(source[return_idx+1]==target):\n",
    "                return_idx = return_idx+1\n",
    "            else:\n",
    "                last_element_reached =True\n",
    "    \n",
    "    return return_idx\n",
    "                \n",
    "        \n",
    "        \n",
    "def first_and_last_index(arr, number):\n",
    "    \"\"\"\n",
    "    Given a sorted array that may have duplicate values, use binary \n",
    "    search to find the first and last indexes of a given value.\n",
    "\n",
    "    Args:\n",
    "        arr(list): Sorted array (or Python list) that may have duplicate values\n",
    "        number(int): Value to search for in the array\n",
    "    Returns:\n",
    "        a list containing the first and last indexes of the given value\n",
    "    \"\"\"\n",
    "        \n",
    "    # TODO: Write your first_and_last function here\n",
    "    # Note that you may want to write helper functions to find the start \n",
    "    # index and the end index\n",
    "    print(\"arr:\",arr)\n",
    "    print(\"number:\",number)\n",
    "    start_idx = binary_search_recursive(arr, number)\n",
    "    print(\"si1=\",start_idx)\n",
    "    if(start_idx == -1):\n",
    "        return_pair = [-1,-1]\n",
    "    else:\n",
    "        print(\"si2=\",start_idx)\n",
    "        first_idx = find_first(arr, number,start_idx)\n",
    "        last_idx  = find_last(arr,  number,start_idx)\n",
    "        return_pair = [first_idx,last_idx]\n",
    "    \n",
    "    return return_pair\n",
    "\n",
    "\n",
    "input_list = [0, 1, 2, 3, 4, 5]\n",
    "number = 4\n",
    "\n",
    "input_list = [0, 1, 2, 3, 45, 5, 6,7]\n",
    "number =3\n",
    "start_idx = binary_search_recursive(input_list, number)\n",
    "print(\"si1=\",start_idx)\n",
    "\n",
    "\n",
    "\"\"\"\n",
    "solution = [5, 5]\n",
    "test_case_3 = [input_list, number, solution]\n",
    "test_function(test_case_3)\n",
    "\"\"\""
   ]
  },
  {
   "cell_type": "markdown",
   "metadata": {
    "graffitiCellId": "id_y3lxp1x"
   },
   "source": [
    "<span class=\"graffiti-highlight graffiti-id_y3lxp1x-id_fkngaks\"><i></i><button>Show Solution</button></span>"
   ]
  },
  {
   "cell_type": "markdown",
   "metadata": {
    "graffitiCellId": "id_ii2o0tq"
   },
   "source": [
    "Below are several different test cases you can use to check your solution."
   ]
  },
  {
   "cell_type": "code",
   "execution_count": 2,
   "metadata": {
    "graffitiCellId": "id_a8bxvyg"
   },
   "outputs": [],
   "source": [
    "def test_function(test_case):\n",
    "    input_list = test_case[0]\n",
    "    number = test_case[1]\n",
    "    solution = test_case[2]\n",
    "    output = first_and_last_index(input_list, number)\n",
    "    if output == solution:\n",
    "        print(\"Pass\")\n",
    "    else:\n",
    "        print(\"Fail\")"
   ]
  },
  {
   "cell_type": "code",
   "execution_count": 3,
   "metadata": {
    "graffitiCellId": "id_20phd4q"
   },
   "outputs": [
    {
     "name": "stdout",
     "output_type": "stream",
     "text": [
      "arr: [1]\n",
      "number: 1\n",
      "lower_idx =  0 :upper_idx = 0 :search_idx = -1\n",
      "C2:target = 1 : search_idx = 0\n",
      "Summary search_idx = 0\n",
      "si1= 0\n",
      "si2= 0\n",
      "ri= 0\n",
      "Pass\n"
     ]
    }
   ],
   "source": [
    "input_list = [1]\n",
    "number = 1\n",
    "solution = [0, 0]\n",
    "test_case_1 = [input_list, number, solution]\n",
    "test_function(test_case_1)"
   ]
  },
  {
   "cell_type": "code",
   "execution_count": 4,
   "metadata": {
    "graffitiCellId": "id_9p3166p"
   },
   "outputs": [
    {
     "name": "stdout",
     "output_type": "stream",
     "text": [
      "arr: [0, 1, 2, 3, 3, 3, 3, 4, 5, 6]\n",
      "number: 3\n",
      "lower_idx =  0 :upper_idx = 9 :search_idx = -1\n",
      "C2:target = 3 : search_idx = 4\n",
      "Summary search_idx = 4\n",
      "si1= 4\n",
      "si2= 4\n",
      "ri= 4\n",
      "Pass\n"
     ]
    }
   ],
   "source": [
    "input_list = [0, 1, 2, 3, 3, 3, 3, 4, 5, 6]\n",
    "number = 3\n",
    "solution = [3, 6]\n",
    "test_case_2 = [input_list, number, solution]\n",
    "test_function(test_case_2)"
   ]
  },
  {
   "cell_type": "code",
   "execution_count": 5,
   "metadata": {
    "graffitiCellId": "id_pcvcepp"
   },
   "outputs": [
    {
     "name": "stdout",
     "output_type": "stream",
     "text": [
      "arr: [0, 1, 2, 3, 4, 5]\n",
      "number: 5\n",
      "lower_idx =  0 :upper_idx = 5 :search_idx = -1\n",
      "lower_idx =  3 :upper_idx = 5 :search_idx = -1\n",
      "lower_idx =  5 :upper_idx = 5 :search_idx = -1\n",
      "C2:target = 5 : search_idx = 5\n",
      "Summary search_idx = 5\n",
      "si1= None\n",
      "si2= None\n",
      "ri= None\n"
     ]
    },
    {
     "ename": "TypeError",
     "evalue": "unsupported operand type(s) for -: 'NoneType' and 'int'",
     "output_type": "error",
     "traceback": [
      "\u001b[0;31m---------------------------------------------------------------------------\u001b[0m",
      "\u001b[0;31mTypeError\u001b[0m                                 Traceback (most recent call last)",
      "\u001b[0;32m<ipython-input-5-f63ea5a63d59>\u001b[0m in \u001b[0;36m<module>\u001b[0;34m\u001b[0m\n\u001b[1;32m      3\u001b[0m \u001b[0msolution\u001b[0m \u001b[0;34m=\u001b[0m \u001b[0;34m[\u001b[0m\u001b[0;36m5\u001b[0m\u001b[0;34m,\u001b[0m \u001b[0;36m5\u001b[0m\u001b[0;34m]\u001b[0m\u001b[0;34m\u001b[0m\u001b[0m\n\u001b[1;32m      4\u001b[0m \u001b[0mtest_case_3\u001b[0m \u001b[0;34m=\u001b[0m \u001b[0;34m[\u001b[0m\u001b[0minput_list\u001b[0m\u001b[0;34m,\u001b[0m \u001b[0mnumber\u001b[0m\u001b[0;34m,\u001b[0m \u001b[0msolution\u001b[0m\u001b[0;34m]\u001b[0m\u001b[0;34m\u001b[0m\u001b[0m\n\u001b[0;32m----> 5\u001b[0;31m \u001b[0mtest_function\u001b[0m\u001b[0;34m(\u001b[0m\u001b[0mtest_case_3\u001b[0m\u001b[0;34m)\u001b[0m\u001b[0;34m\u001b[0m\u001b[0m\n\u001b[0m",
      "\u001b[0;32m<ipython-input-2-f7d10d354a1f>\u001b[0m in \u001b[0;36mtest_function\u001b[0;34m(test_case)\u001b[0m\n\u001b[1;32m      3\u001b[0m     \u001b[0mnumber\u001b[0m \u001b[0;34m=\u001b[0m \u001b[0mtest_case\u001b[0m\u001b[0;34m[\u001b[0m\u001b[0;36m1\u001b[0m\u001b[0;34m]\u001b[0m\u001b[0;34m\u001b[0m\u001b[0m\n\u001b[1;32m      4\u001b[0m     \u001b[0msolution\u001b[0m \u001b[0;34m=\u001b[0m \u001b[0mtest_case\u001b[0m\u001b[0;34m[\u001b[0m\u001b[0;36m2\u001b[0m\u001b[0;34m]\u001b[0m\u001b[0;34m\u001b[0m\u001b[0m\n\u001b[0;32m----> 5\u001b[0;31m     \u001b[0moutput\u001b[0m \u001b[0;34m=\u001b[0m \u001b[0mfirst_and_last_index\u001b[0m\u001b[0;34m(\u001b[0m\u001b[0minput_list\u001b[0m\u001b[0;34m,\u001b[0m \u001b[0mnumber\u001b[0m\u001b[0;34m)\u001b[0m\u001b[0;34m\u001b[0m\u001b[0m\n\u001b[0m\u001b[1;32m      6\u001b[0m     \u001b[0;32mif\u001b[0m \u001b[0moutput\u001b[0m \u001b[0;34m==\u001b[0m \u001b[0msolution\u001b[0m\u001b[0;34m:\u001b[0m\u001b[0;34m\u001b[0m\u001b[0m\n\u001b[1;32m      7\u001b[0m         \u001b[0mprint\u001b[0m\u001b[0;34m(\u001b[0m\u001b[0;34m\"Pass\"\u001b[0m\u001b[0;34m)\u001b[0m\u001b[0;34m\u001b[0m\u001b[0m\n",
      "\u001b[0;32m<ipython-input-1-7721d6296c61>\u001b[0m in \u001b[0;36mfirst_and_last_index\u001b[0;34m(arr, number)\u001b[0m\n\u001b[1;32m    103\u001b[0m     \u001b[0;32melse\u001b[0m\u001b[0;34m:\u001b[0m\u001b[0;34m\u001b[0m\u001b[0m\n\u001b[1;32m    104\u001b[0m         \u001b[0mprint\u001b[0m\u001b[0;34m(\u001b[0m\u001b[0;34m\"si2=\"\u001b[0m\u001b[0;34m,\u001b[0m\u001b[0mstart_idx\u001b[0m\u001b[0;34m)\u001b[0m\u001b[0;34m\u001b[0m\u001b[0m\n\u001b[0;32m--> 105\u001b[0;31m         \u001b[0mfirst_idx\u001b[0m \u001b[0;34m=\u001b[0m \u001b[0mfind_first\u001b[0m\u001b[0;34m(\u001b[0m\u001b[0marr\u001b[0m\u001b[0;34m,\u001b[0m \u001b[0mnumber\u001b[0m\u001b[0;34m,\u001b[0m\u001b[0mstart_idx\u001b[0m\u001b[0;34m)\u001b[0m\u001b[0;34m\u001b[0m\u001b[0m\n\u001b[0m\u001b[1;32m    106\u001b[0m         \u001b[0mlast_idx\u001b[0m  \u001b[0;34m=\u001b[0m \u001b[0mfind_last\u001b[0m\u001b[0;34m(\u001b[0m\u001b[0marr\u001b[0m\u001b[0;34m,\u001b[0m  \u001b[0mnumber\u001b[0m\u001b[0;34m,\u001b[0m\u001b[0mstart_idx\u001b[0m\u001b[0;34m)\u001b[0m\u001b[0;34m\u001b[0m\u001b[0m\n\u001b[1;32m    107\u001b[0m         \u001b[0mreturn_pair\u001b[0m \u001b[0;34m=\u001b[0m \u001b[0;34m[\u001b[0m\u001b[0mfirst_idx\u001b[0m\u001b[0;34m,\u001b[0m\u001b[0mlast_idx\u001b[0m\u001b[0;34m]\u001b[0m\u001b[0;34m\u001b[0m\u001b[0m\n",
      "\u001b[0;32m<ipython-input-1-7721d6296c61>\u001b[0m in \u001b[0;36mfind_first\u001b[0;34m(source, target, start_idx)\u001b[0m\n\u001b[1;32m     55\u001b[0m             \u001b[0;32mif\u001b[0m\u001b[0;34m(\u001b[0m\u001b[0mreturn_idx\u001b[0m \u001b[0;34m==\u001b[0m \u001b[0;36m0\u001b[0m\u001b[0;34m)\u001b[0m\u001b[0;34m:\u001b[0m\u001b[0;34m\u001b[0m\u001b[0m\n\u001b[1;32m     56\u001b[0m                 \u001b[0mfirst_element_reached\u001b[0m \u001b[0;34m=\u001b[0m\u001b[0;32mTrue\u001b[0m\u001b[0;34m\u001b[0m\u001b[0m\n\u001b[0;32m---> 57\u001b[0;31m             \u001b[0;32melif\u001b[0m\u001b[0;34m(\u001b[0m\u001b[0msource\u001b[0m\u001b[0;34m[\u001b[0m\u001b[0mreturn_idx\u001b[0m\u001b[0;34m-\u001b[0m\u001b[0;36m1\u001b[0m\u001b[0;34m]\u001b[0m\u001b[0;34m==\u001b[0m\u001b[0mtarget\u001b[0m\u001b[0;34m)\u001b[0m\u001b[0;34m:\u001b[0m\u001b[0;34m\u001b[0m\u001b[0m\n\u001b[0m\u001b[1;32m     58\u001b[0m                 \u001b[0mreturn_idx\u001b[0m \u001b[0;34m=\u001b[0m \u001b[0mreturn_idx\u001b[0m\u001b[0;34m-\u001b[0m\u001b[0;36m1\u001b[0m\u001b[0;34m\u001b[0m\u001b[0m\n\u001b[1;32m     59\u001b[0m             \u001b[0;32melse\u001b[0m\u001b[0;34m:\u001b[0m\u001b[0;34m\u001b[0m\u001b[0m\n",
      "\u001b[0;31mTypeError\u001b[0m: unsupported operand type(s) for -: 'NoneType' and 'int'"
     ]
    }
   ],
   "source": [
    "input_list = [0, 1, 2, 3, 4, 5]\n",
    "number = 5\n",
    "solution = [5, 5]\n",
    "test_case_3 = [input_list, number, solution]\n",
    "test_function(test_case_3)\n"
   ]
  },
  {
   "cell_type": "code",
   "execution_count": null,
   "metadata": {
    "graffitiCellId": "id_cz075rp"
   },
   "outputs": [],
   "source": [
    "input_list = [0, 1, 2, 3, 4, 5]\n",
    "number = 6\n",
    "solution = [-1, -1]\n",
    "test_case_4 = [input_list, number, solution]\n",
    "test_function(test_case_4)"
   ]
  },
  {
   "cell_type": "code",
   "execution_count": null,
   "metadata": {},
   "outputs": [],
   "source": []
  }
 ],
 "metadata": {
  "graffiti": {
   "firstAuthorId": "dev",
   "id": "id_qwr7xir",
   "language": "EN"
  },
  "kernelspec": {
   "display_name": "Python 3",
   "language": "python",
   "name": "python3"
  },
  "language_info": {
   "codemirror_mode": {
    "name": "ipython",
    "version": 3
   },
   "file_extension": ".py",
   "mimetype": "text/x-python",
   "name": "python",
   "nbconvert_exporter": "python",
   "pygments_lexer": "ipython3",
   "version": "3.5.2"
  },
  "widgets": {
   "state": {},
   "version": "1.1.2"
  }
 },
 "nbformat": 4,
 "nbformat_minor": 2
}
