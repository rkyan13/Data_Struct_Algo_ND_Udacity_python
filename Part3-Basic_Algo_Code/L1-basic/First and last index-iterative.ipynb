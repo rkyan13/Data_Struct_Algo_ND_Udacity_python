{
 "cells": [
  {
   "cell_type": "markdown",
   "metadata": {
    "graffitiCellId": "id_pr3r54a"
   },
   "source": [
    "## Problem statement\n",
    "\n",
    "Given a sorted array that may have duplicate values, use *binary search* to find the **first** and **last** indexes of a given value.\n",
    "\n",
    "For example, if you have the array `[0, 1, 2, 2, 3, 3, 3, 4, 5, 6]` and the given value is `3`, the answer will be `[4, 6]` (because the value `3` occurs first at index `4` and last at index `6` in the array).\n",
    "\n",
    "The expected complexity of the problem is $O(log(n))$."
   ]
  },
  {
   "cell_type": "code",
   "execution_count": 1,
   "metadata": {
    "graffitiCellId": "id_stslkm6"
   },
   "outputs": [],
   "source": [
    "def binary_search(arr, target, debug=0):\n",
    "    '''Write a function that implements the binary search algorithm using iteration\n",
    "   \n",
    "    args:\n",
    "      array: a sorted array of items of the same type\n",
    "      target: the element you're searching for\n",
    "   \n",
    "    returns:\n",
    "      int: the index of the target, if found, in the arr\n",
    "      -1: if the target is not found\n",
    "    '''\n",
    "    search_complete = False\n",
    "    lower_idx = 0\n",
    "    upper_idx = len(arr)-1\n",
    "    search_idx = -1\n",
    "    while(search_complete==False):\n",
    "        \n",
    "        mid_idx = int(0.5*(lower_idx+upper_idx))\n",
    "        if(debug ==1):\n",
    "            print(\"lower_idx = \", lower_idx, \":upper_idx =\", upper_idx,\":mid_idx =\", mid_idx,\":array[mid_idx]=\",array[mid_idx])\n",
    "        \n",
    "        if(target==arr[mid_idx]):\n",
    "            search_complete = True\n",
    "            search_idx = mid_idx\n",
    "            break\n",
    "        elif(target >arr[mid_idx]):\n",
    "            lower_idx = mid_idx+1\n",
    "        else:\n",
    "            upper_idx = mid_idx-1    \n",
    "        \n",
    "        if(lower_idx > upper_idx):\n",
    "            search_complete = True\n",
    "            search_idx = -1\n",
    "            \n",
    "    \n",
    "    print(\"target =\",target,\": search_idx =\", search_idx,\":search_complete =\", search_complete)\n",
    "    return search_idx\n",
    "\n",
    "def find_first(arr,target,start_idx):\n",
    "    if(start_idx == -1):\n",
    "        return_idx = -1\n",
    "    else:\n",
    "        first_element_reached = False\n",
    "        return_idx = start_idx\n",
    "        while(first_element_reached ==False):\n",
    "            if(return_idx == 0):\n",
    "                first_element_reached =True\n",
    "            elif(arr[return_idx-1]==target):\n",
    "                return_idx = return_idx-1\n",
    "            else:\n",
    "                first_element_reached =True\n",
    "    \n",
    "    return return_idx\n",
    "\n",
    "def find_last(arr,target,start_idx):\n",
    "    if(start_idx == -1):\n",
    "        return_idx = -1\n",
    "    else:\n",
    "        last_element_reached = False\n",
    "        return_idx = start_idx\n",
    "        while(last_element_reached ==False):\n",
    "            if(return_idx == len(arr)-1):\n",
    "                last_element_reached =True\n",
    "            elif(arr[return_idx+1]==target):\n",
    "                return_idx = return_idx+1\n",
    "            else:\n",
    "                last_element_reached =True\n",
    "    \n",
    "    return return_idx\n",
    "                \n",
    "        \n",
    "        \n",
    "def first_and_last_index(arr, target):\n",
    "    \"\"\"\n",
    "    Given a sorted array that may have duplicate values, use binary \n",
    "    search to find the first and last indexes of a given value.\n",
    "\n",
    "    Args:\n",
    "        arr(list): Sorted array (or Python list) that may have duplicate values\n",
    "        number(int): Value to search for in the array\n",
    "    Returns:\n",
    "        a list containing the first and last indexes of the given value\n",
    "    \"\"\"\n",
    "        \n",
    "    # TODO: Write your first_and_last function here\n",
    "    # Note that you may want to write helper functions to find the start \n",
    "    # index and the end index\n",
    "    start_idx = binary_search(arr, target)\n",
    "    if(start_idx == -1):\n",
    "        return_pair = [-1,-1]\n",
    "    else:\n",
    "        first_idx   = find_first(arr, target,start_idx)\n",
    "        last_idx    = find_last(arr,  target,start_idx)\n",
    "        return_pair = [first_idx,last_idx]\n",
    "    \n",
    "    return return_pair\n",
    "\n",
    "\n"
   ]
  },
  {
   "cell_type": "markdown",
   "metadata": {
    "graffitiCellId": "id_y3lxp1x"
   },
   "source": [
    "<span class=\"graffiti-highlight graffiti-id_y3lxp1x-id_fkngaks\"><i></i><button>Show Solution</button></span>"
   ]
  },
  {
   "cell_type": "markdown",
   "metadata": {
    "graffitiCellId": "id_ii2o0tq"
   },
   "source": [
    "Below are several different test cases you can use to check your solution."
   ]
  },
  {
   "cell_type": "code",
   "execution_count": 2,
   "metadata": {
    "graffitiCellId": "id_a8bxvyg"
   },
   "outputs": [],
   "source": [
    "def test_function(test_case):\n",
    "    input_list = test_case[0]\n",
    "    number = test_case[1]\n",
    "    solution = test_case[2]\n",
    "    output = first_and_last_index(input_list, number)\n",
    "    if output == solution:\n",
    "        print(\"Pass\")\n",
    "    else:\n",
    "        print(\"Fail\")"
   ]
  },
  {
   "cell_type": "code",
   "execution_count": 3,
   "metadata": {
    "graffitiCellId": "id_20phd4q"
   },
   "outputs": [
    {
     "name": "stdout",
     "output_type": "stream",
     "text": [
      "target = 1 : search_idx = 0 :search_complete = True\n",
      "Pass\n"
     ]
    }
   ],
   "source": [
    "input_list = [1]\n",
    "number = 1\n",
    "solution = [0, 0]\n",
    "test_case_1 = [input_list, number, solution]\n",
    "test_function(test_case_1)"
   ]
  },
  {
   "cell_type": "code",
   "execution_count": 4,
   "metadata": {
    "graffitiCellId": "id_9p3166p"
   },
   "outputs": [
    {
     "name": "stdout",
     "output_type": "stream",
     "text": [
      "target = 3 : search_idx = 4 :search_complete = True\n",
      "Pass\n"
     ]
    }
   ],
   "source": [
    "input_list = [0, 1, 2, 3, 3, 3, 3, 4, 5, 6]\n",
    "number = 3\n",
    "solution = [3, 6]\n",
    "test_case_2 = [input_list, number, solution]\n",
    "test_function(test_case_2)"
   ]
  },
  {
   "cell_type": "code",
   "execution_count": 5,
   "metadata": {
    "graffitiCellId": "id_pcvcepp"
   },
   "outputs": [
    {
     "name": "stdout",
     "output_type": "stream",
     "text": [
      "target = 5 : search_idx = 5 :search_complete = True\n",
      "Pass\n"
     ]
    }
   ],
   "source": [
    "input_list = [0, 1, 2, 3, 4, 5]\n",
    "number = 5\n",
    "solution = [5, 5]\n",
    "test_case_3 = [input_list, number, solution]\n",
    "test_function(test_case_3)\n"
   ]
  },
  {
   "cell_type": "code",
   "execution_count": 6,
   "metadata": {
    "graffitiCellId": "id_cz075rp"
   },
   "outputs": [
    {
     "name": "stdout",
     "output_type": "stream",
     "text": [
      "target = 6 : search_idx = -1 :search_complete = True\n",
      "Pass\n"
     ]
    }
   ],
   "source": [
    "input_list = [0, 1, 2, 3, 4, 5]\n",
    "number = 6\n",
    "solution = [-1, -1]\n",
    "test_case_4 = [input_list, number, solution]\n",
    "test_function(test_case_4)"
   ]
  },
  {
   "cell_type": "code",
   "execution_count": null,
   "metadata": {},
   "outputs": [],
   "source": []
  }
 ],
 "metadata": {
  "graffiti": {
   "firstAuthorId": "dev",
   "id": "id_qwr7xir",
   "language": "EN"
  },
  "kernelspec": {
   "display_name": "Python 3",
   "language": "python",
   "name": "python3"
  },
  "language_info": {
   "codemirror_mode": {
    "name": "ipython",
    "version": 3
   },
   "file_extension": ".py",
   "mimetype": "text/x-python",
   "name": "python",
   "nbconvert_exporter": "python",
   "pygments_lexer": "ipython3",
   "version": "3.5.2"
  },
  "widgets": {
   "state": {},
   "version": "1.1.2"
  }
 },
 "nbformat": 4,
 "nbformat_minor": 2
}
