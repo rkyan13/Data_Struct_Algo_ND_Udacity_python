{
 "cells": [
  {
   "cell_type": "markdown",
   "metadata": {},
   "source": [
    "# Implement a Queue Using Array- concise"
   ]
  },
  {
   "cell_type": "markdown",
   "metadata": {},
   "source": [
    "Implement a Queue using \n",
    "1) array\n",
    "2) linked list\n",
    "3) stack\n",
    "4) python high level linked list\n",
    "\n",
    "I've implemented a queue using an array here. I've not based it off the udacity starter code, but just coded up the entire thing from scratch based on how I would design this(queues are afterall abstract data types and 2 people can have 2 different implmentations of it).\n",
    "\n",
    "\n",
    "I've used the unit tests in the udacity starter code to check \n",
    "the validity of my implementation. I've also created additional unit tests"
   ]
  },
  {
   "cell_type": "code",
   "execution_count": 1,
   "metadata": {},
   "outputs": [],
   "source": [
    "class Queue():\n",
    "    def __init__(self, initial_capacity = 10):\n",
    "        self.capacity     = initial_capacity\n",
    "        self.arr          = [0]*self.capacity \n",
    "        self.head_idx     = -1\n",
    "        self.tail_idx     = -1\n",
    "        self.queue_size   = 0\n",
    "     \n",
    "    \n",
    "    def enqueue(self,value):\n",
    "        if(self.queue_size == self.capacity):\n",
    "            self._increase_capacity()\n",
    "            \n",
    "        #If this is the very first element\n",
    "        if(self.head_idx    == -1):\n",
    "            self.head_idx    = 0\n",
    "        \n",
    "        idx_to_insert           = (self.tail_idx+1)%self.capacity\n",
    "        self.arr[idx_to_insert] =  value\n",
    "        self.tail_idx           = idx_to_insert\n",
    "        self.queue_size         += 1\n",
    "    \n",
    "    def dequeue(self):\n",
    "        if self.size() ==0:\n",
    "            return None\n",
    "        \n",
    "        head_value              =  self.arr[self.head_idx]\n",
    "        self.arr[self.head_idx] = None\n",
    "        self.head_idx           = (self.head_idx+1)%self.capacity\n",
    "        self.queue_size         -=1\n",
    "        \n",
    "        return head_value\n",
    "    \n",
    "    #Peek: only take a look at the head value but done dequeue\n",
    "    def peek(self):\n",
    "        if self.size() ==0:\n",
    "            return None\n",
    "        \n",
    "        head_value         = self.arr[self.head_idx]\n",
    "        return head_value\n",
    "               \n",
    "    \n",
    "    def _increase_capacity(self):\n",
    "        print(\"...increasing_capacity...\")\n",
    "        original_arr  = [0]*self.capacity        \n",
    "        iter_idx      = self.head_idx\n",
    "        for i in range(len(original_arr)):\n",
    "            original_arr[i] = self.arr[iter_idx]\n",
    "            iter_idx        = (iter_idx+1)%self.capacity\n",
    "            \n",
    "        self.capacity *= 2\n",
    "        self.arr       = [0]*self.capacity \n",
    "        for i in range(len(original_arr)):\n",
    "            self.arr[i] = original_arr[i]\n",
    "            \n",
    "        self.head_idx = 0\n",
    "        self.tail_idx = self.queue_size -1\n",
    "            \n",
    "        return\n",
    "    \n",
    "    \n",
    "    def size(self):\n",
    "        return self.queue_size\n",
    "    \n",
    "    def is_empty(self):\n",
    "        if self.size() ==0:\n",
    "            return True\n",
    "        else:\n",
    "            return False\n",
    "            \n",
    "        "
   ]
  },
  {
   "cell_type": "code",
   "execution_count": 2,
   "metadata": {},
   "outputs": [
    {
     "name": "stdout",
     "output_type": "stream",
     "text": [
      "[0, 0, 0, 0, 0, 0, 0, 0, 0, 0]\n",
      "Pass\n"
     ]
    }
   ],
   "source": [
    "q = Queue()\n",
    "print(q.arr)\n",
    "print(\"Pass\" if q.arr == [0, 0, 0, 0, 0, 0, 0, 0, 0, 0] else \"Fail\")\n"
   ]
  },
  {
   "cell_type": "code",
   "execution_count": 3,
   "metadata": {},
   "outputs": [
    {
     "name": "stdout",
     "output_type": "stream",
     "text": [
      "Pass\n",
      "Pass\n",
      "Pass\n",
      "Pass\n",
      "Pass\n",
      "Pass\n"
     ]
    }
   ],
   "source": [
    "# Setup\n",
    "q = Queue(5)\n",
    "q.enqueue(1)\n",
    "q.enqueue(2)\n",
    "q.enqueue(3)\n",
    "\n",
    "# Test size\n",
    "print (\"Pass\" if (q.size() == 3) else \"Fail\")\n",
    "\n",
    "# Test dequeue\n",
    "print (\"Pass\" if (q.dequeue() == 1) else \"Fail\")\n",
    "\n",
    "# Test enqueue\n",
    "q.enqueue(4)\n",
    "print (\"Pass\" if (q.dequeue() == 2) else \"Fail\")\n",
    "print (\"Pass\" if (q.dequeue() == 3) else \"Fail\")\n",
    "print (\"Pass\" if (q.dequeue() == 4) else \"Fail\")\n",
    "q.enqueue(5)\n",
    "print (\"Pass\" if (q.size() == 1) else \"Fail\")"
   ]
  },
  {
   "cell_type": "code",
   "execution_count": 4,
   "metadata": {},
   "outputs": [
    {
     "name": "stdout",
     "output_type": "stream",
     "text": [
      "\n",
      "Pass1\n",
      "\n",
      "Pass2\n",
      "\n",
      "Enquing with 5, but 5 will loop over to start\n",
      "q size at start =  4  : q.arr = [None, 1, 2, 3, 4]\n",
      "q size at end   =  5  : q.arr = [5, 1, 2, 3, 4]\n",
      "Pass3\n",
      "\n",
      "Dequeue-ing twice \n",
      "q size at end of twice dequeue =  3  : q.arr = [5, None, None, 3, 4]\n",
      "Pass4\n",
      "\n",
      "Enqueue-ing twice \n",
      "q size at end of one enqueue =  4  : q.arr = [5, 6, None, 3, 4]\n",
      "Pass5a\n",
      "q size at end of two enqueue =  5  : q.arr = [5, 6, 7, 3, 4]\n",
      "Pass5b\n",
      "\n",
      "Trying to Enqueue with 8.This should increase capacity and also reorder the array beginning at 3 at idx 0 \n",
      "...increasing_capacity...\n",
      "q size at end of increase capacity =  6  : q.arr = [3, 4, 5, 6, 7, 8, 0, 0, 0, 0]\n",
      "Pass6\n",
      "\n",
      "Do another enqueue with 9\n",
      "q size at end   =  7  : q.arr = [3, 4, 5, 6, 7, 8, 9, 0, 0, 0]\n",
      "Pass7\n"
     ]
    }
   ],
   "source": [
    "# Setup\n",
    "q = Queue(5)\n",
    "q.enqueue(0)\n",
    "q.enqueue(1)\n",
    "q.enqueue(2)\n",
    "q.enqueue(3)\n",
    "q.enqueue(4)\n",
    "\n",
    "\n",
    "# Test size\n",
    "print (\"\\nPass1\" if (q.size() == 5) else \"Fail\")\n",
    "\n",
    "\n",
    "# Test dequeue\n",
    "print (\"\\nPass2\" if (q.dequeue() == 0) else \"Fail\")\n",
    "\n",
    "print(\"\\nEnquing with 5, but 5 will loop over to start\")\n",
    "print(\"q size at start = \",q.queue_size, \" : q.arr =\", q.arr)\n",
    "q.enqueue(5)\n",
    "print(\"q size at end   = \",q.queue_size, \" : q.arr =\", q.arr)\n",
    "print(\"Pass3\" if q.arr == [5,1,2,3,4] else \"Fail\")\n",
    "\n",
    "print(\"\\nDequeue-ing twice \")\n",
    "q.dequeue()\n",
    "q.dequeue()\n",
    "print(\"q size at end of twice dequeue = \",q.queue_size, \" : q.arr =\", q.arr)\n",
    "print(\"Pass4\" if q.arr == [5,None,None,3,4] else \"Fail\")\n",
    "\n",
    "\n",
    "print(\"\\nEnqueue-ing twice \")\n",
    "q.enqueue(6)\n",
    "print(\"q size at end of one enqueue = \",q.queue_size, \" : q.arr =\", q.arr)\n",
    "print(\"Pass5a\" if q.arr == [5,6,None,3,4] else \"Fail\")\n",
    "q.enqueue(7)\n",
    "print(\"q size at end of two enqueue = \",q.queue_size, \" : q.arr =\", q.arr)\n",
    "print(\"Pass5b\" if q.arr == [5,6,7,3,4] else \"Fail\")\n",
    "\n",
    "print(\"\\nTrying to Enqueue with 8.This should increase capacity and also reorder the array beginning at 3 at idx 0 \")\n",
    "q.enqueue(8)\n",
    "print(\"q size at end of increase capacity = \",q.queue_size, \" : q.arr =\", q.arr)\n",
    "print(\"Pass6\" if q.arr == [3, 4, 5, 6, 7, 8, 0, 0, 0, 0] else \"Fail\")\n",
    "\n",
    "print(\"\\nDo another enqueue with 9\")\n",
    "q.enqueue(9)\n",
    "print(\"q size at end   = \",q.queue_size, \" : q.arr =\", q.arr)\n",
    "print(\"Pass7\" if q.arr == [3, 4, 5, 6, 7, 8, 9, 0, 0, 0] else \"Fail\")\n",
    "\n"
   ]
  },
  {
   "cell_type": "code",
   "execution_count": null,
   "metadata": {},
   "outputs": [],
   "source": []
  },
  {
   "cell_type": "code",
   "execution_count": null,
   "metadata": {},
   "outputs": [],
   "source": []
  }
 ],
 "metadata": {
  "kernelspec": {
   "display_name": "Python 3",
   "language": "python",
   "name": "python3"
  },
  "language_info": {
   "codemirror_mode": {
    "name": "ipython",
    "version": 3
   },
   "file_extension": ".py",
   "mimetype": "text/x-python",
   "name": "python",
   "nbconvert_exporter": "python",
   "pygments_lexer": "ipython3",
   "version": "3.5.2"
  },
  "widgets": {
   "state": {},
   "version": "1.1.2"
  }
 },
 "nbformat": 4,
 "nbformat_minor": 2
}
