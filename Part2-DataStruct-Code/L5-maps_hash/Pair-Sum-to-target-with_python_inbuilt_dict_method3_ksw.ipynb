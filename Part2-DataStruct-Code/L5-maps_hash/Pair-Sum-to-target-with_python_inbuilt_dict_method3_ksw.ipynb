{
 "cells": [
  {
   "cell_type": "markdown",
   "metadata": {
    "graffitiCellId": "id_486zult"
   },
   "source": [
    "### Problem statement\n",
    "\n",
    "Given an `input_list` and a `target`, return the pair of indices in the list that holds the values which sum to the `target`. For example, \n",
    "\n",
    "`input_list = [1, 5, 9, 7]` and `target = 8`, the answer would be `[0, 3]` \n",
    "\n",
    "**Note**<br>\n",
    "1. The best solution takes O(n) time. *This means that you cannot traverse the given list more than once.* **Hint - Think of an additional data structure that you should use here.** \n",
    "2. You can assume that the list does not have any duplicates."
   ]
  },
  {
   "cell_type": "markdown",
   "metadata": {},
   "source": [
    "## Ksw-comments:  \n",
    "Instead of using creating a class HashMap(), I use python's in built dictionary.Python will internally implement a hash-index  \n",
    "TODO: Find out what sort of an internal Hash-index python dictionary uses"
   ]
  },
  {
   "cell_type": "code",
   "execution_count": 1,
   "metadata": {},
   "outputs": [],
   "source": [
    "def pair_sum_to_target_method3(input_list, target):\n",
    "    \n",
    "    target_achieved = False\n",
    "    my_dict = {}\n",
    "    for number_idx,number in enumerate(input_list):      \n",
    "        complimentary_number = target-number\n",
    "        #Complimentary-value found, it means target_achieved = True, store the indices and break\n",
    "        if complimentary_number in my_dict:\n",
    "            target_achieved   = True\n",
    "            complimentary_idx = my_dict[complimentary_number]\n",
    "            target_indices    = [complimentary_idx,number_idx]\n",
    "            break\n",
    "        #complimentary value not found, insert the number\n",
    "        else:\n",
    "            my_dict[number]=number_idx\n",
    "\n",
    "\n",
    "    \n",
    "    #--------EOF for loop-----------------\n",
    "    if(target_achieved == False):\n",
    "        target_indices          = [-1,-1]\n",
    "    \n",
    "\n",
    "    return target_indices     # If the target is not achieved"
   ]
  },
  {
   "cell_type": "code",
   "execution_count": 2,
   "metadata": {
    "graffitiCellId": "id_gxkqfwu"
   },
   "outputs": [],
   "source": [
    "def test_function(test_case):\n",
    "    output = pair_sum_to_target_method3(test_case[0], test_case[1])\n",
    "    print(\"\\ninput_list:\",test_case[0],\",target:\", test_case[1], \",pair_indices:\", test_case[2])\n",
    "    print(\"output:\",output)\n",
    "    if sorted(output) == test_case[2]:\n",
    "        print(\"----------------- PASS !!! :D :D :D-----------------\")\n",
    "    else:\n",
    "        print(\"-----------------Fail !!! :O :O :O-----------------\")"
   ]
  },
  {
   "cell_type": "code",
   "execution_count": 3,
   "metadata": {
    "graffitiCellId": "id_fqo2ly7"
   },
   "outputs": [
    {
     "name": "stdout",
     "output_type": "stream",
     "text": [
      "Udacity's test cases\n",
      "\n",
      "input_list: [1, 5, 9, 7] ,target: 8 ,pair_indices: [0, 3]\n",
      "output: [0, 3]\n",
      "----------------- PASS !!! :D :D :D-----------------\n",
      "\n",
      "input_list: [10, 5, 9, 8, 12, 1, 16, 6] ,target: 16 ,pair_indices: [0, 7]\n",
      "output: [0, 7]\n",
      "----------------- PASS !!! :D :D :D-----------------\n",
      "\n",
      "input_list: [0, 1, 2, 3, -4] ,target: -4 ,pair_indices: [0, 4]\n",
      "output: [0, 4]\n",
      "----------------- PASS !!! :D :D :D-----------------\n"
     ]
    }
   ],
   "source": [
    "print(\"Udacity's test cases\")\n",
    "udacity_test_case_1 = [[1, 5, 9, 7], 8, [0, 3]]\n",
    "test_function(udacity_test_case_1)\n",
    "\n",
    "udacity_test_case_2 = [[10, 5, 9, 8, 12, 1, 16, 6], 16, [0, 7]]\n",
    "test_function(udacity_test_case_2)\n",
    "\n",
    "udacity_test_case_3 = [[0, 1, 2, 3, -4], -4, [0, 4]]\n",
    "test_function(udacity_test_case_3)"
   ]
  },
  {
   "cell_type": "code",
   "execution_count": 4,
   "metadata": {
    "graffitiCellId": "id_38rw3d3"
   },
   "outputs": [
    {
     "name": "stdout",
     "output_type": "stream",
     "text": [
      "Krithika's test cases\n",
      "\n",
      "input_list: [0, 0, -2, -2, -2, -4] ,target: -4 ,pair_indices: [2, 3]\n",
      "output: [2, 3]\n",
      "----------------- PASS !!! :D :D :D-----------------\n",
      "\n",
      "input_list: [0, 0, -2, 2, -2, -4] ,target: -4 ,pair_indices: [2, 4]\n",
      "output: [2, 4]\n",
      "----------------- PASS !!! :D :D :D-----------------\n",
      "\n",
      "input_list: [0, 0, -2, 2, 3, -4, -4] ,target: -4 ,pair_indices: [0, 5]\n",
      "output: [1, 5]\n",
      "-----------------Fail !!! :O :O :O-----------------\n",
      "\n",
      "input_list: [0, 0, -2, 2, 3, 8] ,target: -4 ,pair_indices: [-1, -1]\n",
      "output: [-1, -1]\n",
      "----------------- PASS !!! :D :D :D-----------------\n",
      "\n",
      "input_list: [0, 1, 2, 3, 4, 5, 6, 7, 8] ,target: 8 ,pair_indices: [3, 5]\n",
      "output: [3, 5]\n",
      "----------------- PASS !!! :D :D :D-----------------\n",
      "\n",
      "input_list: [0, 1, 2, 3, 4, 0, 1, 2, 3] ,target: 8 ,pair_indices: [-1, -1]\n",
      "output: [-1, -1]\n",
      "----------------- PASS !!! :D :D :D-----------------\n"
     ]
    }
   ],
   "source": [
    "print(\"Krithika's test cases\")\n",
    "ksw_test_case_1 = [[0, 0, -2, -2, -2, -4], -4, [2, 3]]\n",
    "test_function(ksw_test_case_1)\n",
    "\n",
    "ksw_test_case_2 = [[0, 0, -2, 2, -2, -4], -4, [2, 4]]\n",
    "test_function(ksw_test_case_2)\n",
    "\n",
    "ksw_test_case_3 = [[0, 0, -2, 2, 3, -4,-4], -4, [0, 5]]\n",
    "test_function(ksw_test_case_3)\n",
    "\n",
    "ksw_test_case_4 = [[0, 0, -2, 2, 3, 8], -4, [-1, -1]]\n",
    "test_function(ksw_test_case_4)\n",
    "\n",
    "ksw_test_case_5 = [[0,1,2,3,4,5,6,7,8], 8, [3, 5]]\n",
    "test_function(ksw_test_case_5)\n",
    "\n",
    "ksw_test_case_5 = [[0,1,2,3,4,0,1,2,3], 8, [-1, -1]]\n",
    "test_function(ksw_test_case_5)"
   ]
  },
  {
   "cell_type": "code",
   "execution_count": null,
   "metadata": {
    "graffitiCellId": "id_lrl4kfz"
   },
   "outputs": [],
   "source": []
  },
  {
   "cell_type": "markdown",
   "metadata": {
    "graffitiCellId": "id_snm0ke6"
   },
   "source": [
    "<span class=\"graffiti-highlight graffiti-id_snm0ke6-id_tv0tye7\"><i></i><button>Show Solution</button></span>"
   ]
  }
 ],
 "metadata": {
  "graffiti": {
   "firstAuthorId": "10694620118",
   "id": "id_vvgwoq6",
   "language": "EN"
  },
  "kernelspec": {
   "display_name": "Python 3",
   "language": "python",
   "name": "python3"
  },
  "language_info": {
   "codemirror_mode": {
    "name": "ipython",
    "version": 3
   },
   "file_extension": ".py",
   "mimetype": "text/x-python",
   "name": "python",
   "nbconvert_exporter": "python",
   "pygments_lexer": "ipython3",
   "version": "3.5.2"
  },
  "widgets": {
   "state": {},
   "version": "1.1.2"
  }
 },
 "nbformat": 4,
 "nbformat_minor": 2
}
