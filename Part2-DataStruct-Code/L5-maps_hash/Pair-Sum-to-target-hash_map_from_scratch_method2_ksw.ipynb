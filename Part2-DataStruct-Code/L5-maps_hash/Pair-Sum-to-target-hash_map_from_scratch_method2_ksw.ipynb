{
 "cells": [
  {
   "cell_type": "markdown",
   "metadata": {
    "graffitiCellId": "id_486zult"
   },
   "source": [
    "### Problem statement\n",
    "\n",
    "Given an `input_list` and a `target`, return the pair of indices in the list that holds the values which sum to the `target`. For example, \n",
    "\n",
    "`input_list = [1, 5, 9, 7]` and `target = 8`, the answer would be `[0, 3]` \n",
    "\n",
    "**Note**<br>\n",
    "1. The best solution takes O(n) time. *This means that you cannot traverse the given list more than once.* **Hint - Think of an additional data structure that you should use here.** \n",
    "2. You can assume that the list does not have any duplicates."
   ]
  },
  {
   "cell_type": "code",
   "execution_count": 1,
   "metadata": {},
   "outputs": [],
   "source": [
    "class Cell():\n",
    "    def __init__(self,key, value):\n",
    "        self.key   = key\n",
    "        self.value = value\n",
    "        \n",
    "class HashMap():\n",
    "    def __init__(self,target):\n",
    "        num_buckets       = abs(target)\n",
    "        self.target       = target\n",
    "        self.bucket_array = []\n",
    "        for i in range(num_buckets):\n",
    "            self.bucket_array.append([])   \n",
    "    \n",
    "    \n",
    "    def calc_hash_index(self,value):\n",
    "        hash_index = abs(value) % abs(self.target)\n",
    "        \n",
    "        return hash_index\n",
    "    \n",
    "    \n",
    "    def insert(self,key,value):\n",
    "        search_indices, search_value, ideal_hashIndex = self.search(key)\n",
    "        #If element does not exist, add it\n",
    "        if(search_indices == [-1,-1]):\n",
    "            cell         = Cell(key,value)\n",
    "            self.bucket_array[ideal_hashIndex].append(cell)\n",
    "            insert_flag = True\n",
    "        \n",
    "        #Element exists already, just increment the number_occurences\n",
    "        else:\n",
    "            insert_flag = False\n",
    "        \n",
    "        return insert_flag\n",
    "    \n",
    "    \n",
    "    def search(self,key):\n",
    "        ideal_hashIndex = self.calc_hash_index(key)\n",
    "        value_found = False\n",
    "\n",
    "        for column_index, current_cell in enumerate(self.bucket_array[ideal_hashIndex]):\n",
    "            if(current_cell.key == key):\n",
    "                search_indices = [ideal_hashIndex, column_index]\n",
    "                search_value   = current_cell.value\n",
    "                value_found    = True\n",
    "                break\n",
    "\n",
    "        if(value_found == False):\n",
    "            search_indices = [-1,-1]\n",
    "            search_value   = None   \n",
    "       \n",
    "        return search_indices, search_value, ideal_hashIndex\n",
    "    \n",
    "    \n",
    "    def __repr__(self):\n",
    "        output=\"\\n-------   (value:#occurences-[input-array index locations list])  -----------\"\n",
    "        for bucket_idx in range(len(self.bucket_array)):\n",
    "            output +=\"\\n[{}]\".format(bucket_idx)\n",
    "            for column_idx, cell in enumerate(self.bucket_array[bucket_idx]):\n",
    "                output+=\"({}:{}), \".format(cell.key,cell.value)\n",
    "                \n",
    "        output+=\"\\n------------------\"\n",
    "        return output\n",
    "        \n",
    "\n",
    "\n",
    "                \n",
    "                \n"
   ]
  },
  {
   "cell_type": "code",
   "execution_count": 2,
   "metadata": {},
   "outputs": [
    {
     "data": {
      "text/plain": [
       "\n",
       "-------   (value:#occurences-[input-array index locations list])  -----------\n",
       "[0]\n",
       "[1](1:0), (9:3), \n",
       "[2]\n",
       "[3]\n",
       "[4]\n",
       "[5](5:1), \n",
       "[6]\n",
       "[7](7:2), \n",
       "------------------"
      ]
     },
     "execution_count": 2,
     "metadata": {},
     "output_type": "execute_result"
    }
   ],
   "source": [
    "#Test HashMap\n",
    "hash_map = HashMap(8)\n",
    "hash_map\n",
    "\n",
    "hash_map.insert(1,0)\n",
    "hash_map.insert(5,1)\n",
    "hash_map.insert(7,2)\n",
    "hash_map.insert(9,3)\n",
    "hash_map.insert(9,4)\n",
    "hash_map\n"
   ]
  },
  {
   "cell_type": "code",
   "execution_count": 3,
   "metadata": {},
   "outputs": [],
   "source": [
    "def pair_sum_to_target_method2(input_list, target):\n",
    "    \n",
    "    target_achieved = False\n",
    "    hash_map = HashMap(target)\n",
    "    for number_idx,number in enumerate(input_list):      \n",
    "        complimentary_number = target-number\n",
    "        search_indices, complimentary_idx, ideal_hashIndex  = hash_map.search(complimentary_number)\n",
    "        #If complimentary value not found, insert the number\n",
    "        if(search_indices==[-1,-1]): \n",
    "            hash_map.insert(number, number_idx)\n",
    "\n",
    "        #Complimentary-value found, it means target_achieved = True, store the indices and break\n",
    "        else:\n",
    "            target_achieved = True\n",
    "            target_indices  = [complimentary_idx,number_idx]\n",
    "            break\n",
    "    \n",
    "    #--------EOF for loop-----------------\n",
    "    if(target_achieved == False):\n",
    "        target_indices          = [-1,-1]\n",
    "    \n",
    "\n",
    "    return target_indices     # If the target is not achieved"
   ]
  },
  {
   "cell_type": "code",
   "execution_count": 4,
   "metadata": {
    "graffitiCellId": "id_gxkqfwu"
   },
   "outputs": [],
   "source": [
    "def test_function(test_case):\n",
    "    output = pair_sum_to_target_method2(test_case[0], test_case[1])\n",
    "    print(\"\\ninput_list:\",test_case[0],\",target:\", test_case[1], \",pair_indices:\", test_case[2])\n",
    "    print(\"output:\",output)\n",
    "    if sorted(output) == test_case[2]:\n",
    "        print(\"----------------- PASS !!! :D :D :D-----------------\")\n",
    "    else:\n",
    "        print(\"-----------------Fail !!! :O :O :O-----------------\")"
   ]
  },
  {
   "cell_type": "code",
   "execution_count": 5,
   "metadata": {
    "graffitiCellId": "id_fqo2ly7"
   },
   "outputs": [
    {
     "name": "stdout",
     "output_type": "stream",
     "text": [
      "Udacity's test cases\n",
      "\n",
      "input_list: [1, 5, 9, 7] ,target: 8 ,pair_indices: [0, 3]\n",
      "output: [0, 3]\n",
      "----------------- PASS !!! :D :D :D-----------------\n",
      "\n",
      "input_list: [10, 5, 9, 8, 12, 1, 16, 6] ,target: 16 ,pair_indices: [0, 7]\n",
      "output: [0, 7]\n",
      "----------------- PASS !!! :D :D :D-----------------\n",
      "\n",
      "input_list: [0, 1, 2, 3, -4] ,target: -4 ,pair_indices: [0, 4]\n",
      "output: [0, 4]\n",
      "----------------- PASS !!! :D :D :D-----------------\n"
     ]
    }
   ],
   "source": [
    "print(\"Udacity's test cases\")\n",
    "udacity_test_case_1 = [[1, 5, 9, 7], 8, [0, 3]]\n",
    "test_function(udacity_test_case_1)\n",
    "\n",
    "udacity_test_case_2 = [[10, 5, 9, 8, 12, 1, 16, 6], 16, [0, 7]]\n",
    "test_function(udacity_test_case_2)\n",
    "\n",
    "udacity_test_case_3 = [[0, 1, 2, 3, -4], -4, [0, 4]]\n",
    "test_function(udacity_test_case_3)"
   ]
  },
  {
   "cell_type": "code",
   "execution_count": 6,
   "metadata": {
    "graffitiCellId": "id_38rw3d3"
   },
   "outputs": [
    {
     "name": "stdout",
     "output_type": "stream",
     "text": [
      "Krithika's test cases\n",
      "\n",
      "input_list: [0, 0, -2, -2, -2, -4] ,target: -4 ,pair_indices: [2, 3]\n",
      "output: [2, 3]\n",
      "----------------- PASS !!! :D :D :D-----------------\n",
      "\n",
      "input_list: [0, 0, -2, 2, -2, -4] ,target: -4 ,pair_indices: [2, 4]\n",
      "output: [2, 4]\n",
      "----------------- PASS !!! :D :D :D-----------------\n",
      "\n",
      "input_list: [0, 0, -2, 2, 3, -4, -4] ,target: -4 ,pair_indices: [0, 5]\n",
      "output: [0, 5]\n",
      "----------------- PASS !!! :D :D :D-----------------\n",
      "\n",
      "input_list: [0, 0, -2, 2, 3, 8] ,target: -4 ,pair_indices: [-1, -1]\n",
      "output: [-1, -1]\n",
      "----------------- PASS !!! :D :D :D-----------------\n",
      "\n",
      "input_list: [0, 1, 2, 3, 4, 5, 6, 7, 8] ,target: 8 ,pair_indices: [3, 5]\n",
      "output: [3, 5]\n",
      "----------------- PASS !!! :D :D :D-----------------\n",
      "\n",
      "input_list: [0, 1, 2, 3, 4, 0, 1, 2, 3] ,target: 8 ,pair_indices: [-1, -1]\n",
      "output: [-1, -1]\n",
      "----------------- PASS !!! :D :D :D-----------------\n"
     ]
    }
   ],
   "source": [
    "print(\"Krithika's test cases\")\n",
    "ksw_test_case_1 = [[0, 0, -2, -2, -2, -4], -4, [2, 3]]\n",
    "test_function(ksw_test_case_1)\n",
    "\n",
    "ksw_test_case_2 = [[0, 0, -2, 2, -2, -4], -4, [2, 4]]\n",
    "test_function(ksw_test_case_2)\n",
    "\n",
    "ksw_test_case_3 = [[0, 0, -2, 2, 3, -4,-4], -4, [0, 5]]\n",
    "test_function(ksw_test_case_3)\n",
    "\n",
    "ksw_test_case_4 = [[0, 0, -2, 2, 3, 8], -4, [-1, -1]]\n",
    "test_function(ksw_test_case_4)\n",
    "\n",
    "ksw_test_case_5 = [[0,1,2,3,4,5,6,7,8], 8, [3, 5]]\n",
    "test_function(ksw_test_case_5)\n",
    "\n",
    "ksw_test_case_5 = [[0,1,2,3,4,0,1,2,3], 8, [-1, -1]]\n",
    "test_function(ksw_test_case_5)"
   ]
  },
  {
   "cell_type": "code",
   "execution_count": null,
   "metadata": {
    "graffitiCellId": "id_lrl4kfz"
   },
   "outputs": [],
   "source": []
  },
  {
   "cell_type": "markdown",
   "metadata": {
    "graffitiCellId": "id_snm0ke6"
   },
   "source": [
    "<span class=\"graffiti-highlight graffiti-id_snm0ke6-id_tv0tye7\"><i></i><button>Show Solution</button></span>"
   ]
  }
 ],
 "metadata": {
  "graffiti": {
   "firstAuthorId": "10694620118",
   "id": "id_vvgwoq6",
   "language": "EN"
  },
  "kernelspec": {
   "display_name": "Python 3",
   "language": "python",
   "name": "python3"
  },
  "language_info": {
   "codemirror_mode": {
    "name": "ipython",
    "version": 3
   },
   "file_extension": ".py",
   "mimetype": "text/x-python",
   "name": "python",
   "nbconvert_exporter": "python",
   "pygments_lexer": "ipython3",
   "version": "3.5.2"
  },
  "widgets": {
   "state": {},
   "version": "1.1.2"
  }
 },
 "nbformat": 4,
 "nbformat_minor": 2
}
