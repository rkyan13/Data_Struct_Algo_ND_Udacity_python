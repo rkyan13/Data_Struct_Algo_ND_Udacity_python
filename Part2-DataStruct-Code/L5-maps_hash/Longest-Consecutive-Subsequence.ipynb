{
 "cells": [
  {
   "cell_type": "markdown",
   "metadata": {
    "graffitiCellId": "id_vhxf50c"
   },
   "source": [
    "### Problem Statement\n",
    "\n",
    "\n",
    "Given a list of integers that contain natural numbers in random order.  Write a program to find the longest possible sub sequence of consecutive numbers in the array. Return this subsequence in sorted order. \n",
    "\n",
    "*In other words, you have to return the sorted longest (sub) list of consecutive numbers present anywhere in the given list.* \n",
    "\n",
    "For example, given the list `5, 4, 7, 10, 1, 3, 55, 2`, the output should be `1, 2, 3, 4, 5`\n",
    "\n",
    "**Note** \n",
    "1. The solution must take O(n) time. *Can you think of using a dictionary here?*\n",
    "2. If two subsequences are of equal length, return the subsequence whose index of smallest element comes first.\n",
    "\n",
    "---\n",
    "\n",
    "### The Idea:\n",
    "Every element of the given `input_list` could be a part of some subsequence. Therefore, we need a way (using a dictionary) to keep track if an element has already been visited. Also, store length of a subsequence if it is maximum. For this purpose, we have to check in **forward** direction, if the `(element+1)` is available in the given dictionary, in a \"while\" loop. Similarly, we will check in **backward** direction for `(element-1)`, in another \"while\" loop. At last, if we have the smallest element and the length of the longest subsequence, we can return a **new** list starting from \"smallest element\" to \"smallest element + length\".\n",
    "\n",
    "The steps would be:\n",
    "\n",
    "\n",
    "1. Create a dictionary, such that the elements of input_list become the \"key\", and the corresponding index become the \"value\" in the dictionary. We are creating a dictionary because the lookup time is considered to be constant in a dictionary. \n",
    "\n",
    "\n",
    "2. For each `element` in the `input_list`, first mark it as visited in the dictionary\n",
    "\n",
    " - Check in forward direction, if the `(element+1)` is available. If yes, increment the length of subsequence\n",
    " \n",
    " - Check in backward direction, if the `(element-1)` is available. If yes, increment the length of subsequence\n",
    "\n",
    " - Keep a track of length of longest subsequence visited so far. For the longest subsequence, store the smallest element (say `start_element`) and its index as well.  \n",
    "\n",
    "\n",
    "3. Return a **new** list starting from `start_element` to `start_element + length`."
   ]
  },
  {
   "cell_type": "markdown",
   "metadata": {
    "graffitiCellId": "id_q492hrd"
   },
   "source": [
    "### Exercise - Write the function definition here"
   ]
  },
  {
   "cell_type": "code",
   "execution_count": 1,
   "metadata": {
    "graffitiCellId": "id_eaee7mz"
   },
   "outputs": [],
   "source": [
    "def longest_consecutive_subsequence(input_list):\n",
    "\n",
    "    \n",
    "    pass"
   ]
  },
  {
   "cell_type": "markdown",
   "metadata": {
    "graffitiCellId": "id_7w3exwo"
   },
   "source": [
    "### Test - Let's test your function"
   ]
  },
  {
   "cell_type": "code",
   "execution_count": 2,
   "metadata": {
    "graffitiCellId": "id_hlznh6q"
   },
   "outputs": [],
   "source": [
    "def test_function(test_case):\n",
    "    output = longest_consecutive_subsequence(test_case[0])\n",
    "    print(\"\\ntest_case      :\",test_case[0])\n",
    "    print(\"intended_output:\",test_case[1])\n",
    "    print(\"code_output    :\",output)\n",
    "    if output == test_case[1]:\n",
    "        print(\"---------PASS!!!! :) :) :)-----------\")\n",
    "    else:\n",
    "        print(\"---------Fail :( :( :O LOL !!!-----------\")\n",
    "    "
   ]
  },
  {
   "cell_type": "code",
   "execution_count": 3,
   "metadata": {
    "graffitiCellId": "id_z2y7gsr"
   },
   "outputs": [
    {
     "name": "stdout",
     "output_type": "stream",
     "text": [
      "Udacity Test Cases\n",
      "\n",
      "test_case      : [5, 4, 7, 10, 1, 3, 55, 2]\n",
      "intended_output: [1, 2, 3, 4, 5]\n",
      "code_output    : [1, 2, 3, 4, 5]\n",
      "---------PASS!!!! :) :) :)-----------\n",
      "\n",
      "test_case      : [2, 12, 9, 16, 10, 5, 3, 20, 25, 11, 1, 8, 6]\n",
      "intended_output: [8, 9, 10, 11, 12]\n",
      "code_output    : [8, 9, 10, 11, 12]\n",
      "---------PASS!!!! :) :) :)-----------\n",
      "\n",
      "test_case      : [0, 1, 2, 3, 4]\n",
      "intended_output: [0, 1, 2, 3, 4]\n",
      "code_output    : [0, 1, 2, 3, 4]\n",
      "---------PASS!!!! :) :) :)-----------\n"
     ]
    }
   ],
   "source": [
    "print(\"Udacity Test Cases\")\n",
    "\n",
    "test_case_1 = [[5, 4, 7, 10, 1, 3, 55, 2], [1, 2, 3, 4, 5]]\n",
    "test_function(test_case_1)\n",
    "\n",
    "test_case_2 = [[2, 12, 9, 16, 10, 5, 3, 20, 25, 11, 1, 8, 6 ], [8, 9, 10, 11, 12]]\n",
    "test_function(test_case_2)\n",
    "\n",
    "test_case_3 = [[0, 1, 2, 3, 4], [0, 1, 2, 3, 4]]\n",
    "test_function(test_case_3)"
   ]
  },
  {
   "cell_type": "code",
   "execution_count": 8,
   "metadata": {},
   "outputs": [
    {
     "name": "stdout",
     "output_type": "stream",
     "text": [
      "Krithika Test Cases\n",
      "\n",
      "test_case      : [25, 27, 31, 29]\n",
      "intended_output: [25]\n",
      "code_output    : [25]\n",
      "---------PASS!!!! :) :) :)-----------\n",
      "\n",
      "test_case      : [2, 12, 9, 16, 10, 5, 3, 20, 25, 11, 8, 1, 4]\n",
      "intended_output: [1, 2, 3, 4, 5]\n",
      "code_output    : [1, 2, 3, 4, 5]\n",
      "---------PASS!!!! :) :) :)-----------\n",
      "\n",
      "test_case      : [7, 12, 9, 16, 6, 10, 5, 3, 20, 25, 11, 1, 4, 13]\n",
      "intended_output: [3, 4, 5, 6, 7]\n",
      "code_output    : [3, 4, 5, 6, 7]\n",
      "---------PASS!!!! :) :) :)-----------\n",
      "\n",
      "test_case      : [2, 11, 12, 9, 9, 16, 10, 5, 3, 20, 25, 11, 8, 1, 4, 8]\n",
      "intended_output: [1, 2, 3, 4, 5]\n",
      "code_output    : [1, 2, 3, 4, 5]\n",
      "---------PASS!!!! :) :) :)-----------\n",
      "\n",
      "test_case      : [2, 11, 12, 9, 9, 16, 10, 5, 3, 20, 25, 11, 8, 2, 4, 8]\n",
      "intended_output: [8, 9, 10, 11, 12]\n",
      "code_output    : [8, 9, 10, 11, 12]\n",
      "---------PASS!!!! :) :) :)-----------\n"
     ]
    }
   ],
   "source": []
  },
  {
   "cell_type": "code",
   "execution_count": null,
   "metadata": {
    "graffitiCellId": "id_a3yf5ol"
   },
   "outputs": [],
   "source": []
  },
  {
   "cell_type": "code",
   "execution_count": null,
   "metadata": {
    "graffitiCellId": "id_u5rs0q7"
   },
   "outputs": [],
   "source": [
    "\n",
    "\n",
    "\n"
   ]
  },
  {
   "cell_type": "markdown",
   "metadata": {
    "graffitiCellId": "id_et1ek54"
   },
   "source": [
    "<span class=\"graffiti-highlight graffiti-id_et1ek54-id_r15x1vg\"><i></i><button>Show Solution</button></span>"
   ]
  }
 ],
 "metadata": {
  "graffiti": {
   "firstAuthorId": "10694620118",
   "id": "id_alotytm",
   "language": "EN"
  },
  "kernelspec": {
   "display_name": "Python 3",
   "language": "python",
   "name": "python3"
  },
  "language_info": {
   "codemirror_mode": {
    "name": "ipython",
    "version": 3
   },
   "file_extension": ".py",
   "mimetype": "text/x-python",
   "name": "python",
   "nbconvert_exporter": "python",
   "pygments_lexer": "ipython3",
   "version": "3.5.2"
  },
  "widgets": {
   "state": {},
   "version": "1.1.2"
  }
 },
 "nbformat": 4,
 "nbformat_minor": 2
}
