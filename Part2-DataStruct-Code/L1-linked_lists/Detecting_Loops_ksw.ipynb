{
 "cells": [
  {
   "cell_type": "markdown",
   "metadata": {},
   "source": [
    "# Detecting Loops in Linked Lists\n",
    "\n",
    "In this notebook, you'll implement a function that detects if a loop exists in a linked list. The way we'll do this is by having two pointers, called \"runners\", moving through the list at different rates. Typically we have a \"slow\" runner which moves at one node per step and a \"fast\" runner that moves at two nodes per step.\n",
    "\n",
    "If a loop exists in the list, the fast runner will eventually move behind the slow runner as it moves to the beginning of the loop. Eventually it will catch up to the slow runner and both runners will be pointing to the same node at the same time. If this happens then you know there is a loop in the linked list. Below is an example where we have a slow runner (the green arrow) and a fast runner (the red arrow).\n",
    "\n",
    "<center><img src='assets/two_runners_circular.png' width=300px></center>"
   ]
  },
  {
   "cell_type": "code",
   "execution_count": 1,
   "metadata": {},
   "outputs": [],
   "source": [
    "class Node:\n",
    "    def __init__(self,value):\n",
    "        self.value = value\n",
    "        self.next  = None\n",
    "        \n",
    "class LinkedList:\n",
    "    def __init__(self,value):\n",
    "        #If value is a list, create linked-list from the input list\n",
    "        if(isinstance(value, list)):\n",
    "            self.head = Node(value[0])\n",
    "            for i in range(1, len(value)):\n",
    "                self.append(value[i])        \n",
    "        #If value is a single number, create only head\n",
    "        else:\n",
    "            self.head = Node(value)\n",
    "\n",
    "    \n",
    "    def append(self, value):\n",
    "        new_node = Node(value)\n",
    "        current = self.head\n",
    "        while(current.next!=None):\n",
    "            current = current.next\n",
    "        current.next = new_node\n",
    "    \n",
    "    def printList(self, printInFunction=True):\n",
    "        INFINITE_LOOP_BREAK_THRESHOLD = 50\n",
    "        current = self.head\n",
    "        output =\"\"\n",
    "        count = 0\n",
    "        while(current != None):\n",
    "            output += \" \"+str(current.value)\n",
    "            current = current.next\n",
    "            count+=1\n",
    "            #When there is a loop in the linked-list, \n",
    "            #the below condition prevents the while from being in an infinite loop\n",
    "            if(count >INFINITE_LOOP_BREAK_THRESHOLD ):\n",
    "                break\n",
    "        \n",
    "        if(printInFunction ==True):\n",
    "            print(output)\n",
    "        else:\n",
    "            return output\n",
    "            \n",
    "\n",
    "            \n",
    "    \n",
    "    \n",
    "        \n",
    "        "
   ]
  },
  {
   "cell_type": "markdown",
   "metadata": {},
   "source": [
    "### Test the Linked List class and class-methods"
   ]
  },
  {
   "cell_type": "code",
   "execution_count": 2,
   "metadata": {},
   "outputs": [
    {
     "name": "stdout",
     "output_type": "stream",
     "text": [
      "linkedlist1\n",
      " 0 1 2 3 4 5\n",
      "\n",
      "linkedlist2\n",
      " 10 20 30 40 50\n"
     ]
    }
   ],
   "source": [
    "\n",
    "#TEST1 create a linked-list using input-list elements, appending 1 at a time\n",
    "input1 = [0,1,2,3,4,5]\n",
    "linkedlist1 = LinkedList(0)\n",
    "for i in range(1, len(input1)):\n",
    "    linkedlist1.append(input1[i])\n",
    "print(\"linkedlist1\")\n",
    "linkedlist1.printList()\n",
    "\n",
    "#TEST2: create a linked-list using and entire input-list\n",
    "input2 = [10,20,30,40,50]\n",
    "linkedlist2 = LinkedList(input2)\n",
    "print(\"\\nlinkedlist2\")\n",
    "linkedlist2.printList()"
   ]
  },
  {
   "cell_type": "markdown",
   "metadata": {},
   "source": [
    "## Create linked list with loop"
   ]
  },
  {
   "cell_type": "code",
   "execution_count": 3,
   "metadata": {},
   "outputs": [
    {
     "name": "stdout",
     "output_type": "stream",
     "text": [
      "ll_with_loop1:5 is loop-linked to 1,1-5 printed in a loop\n",
      " 1 2 3 4 5 1 2 3 4 5 1 2 3 4 5 1 2 3 4 5 1 2 3 4 5 1 2 3 4 5 1 2 3 4 5 1 2 3 4 5 1 2 3 4 5 1 2 3 4 5 1\n",
      "\n",
      "ll_with_loop2: 8 is loop-linked to 3, 3-8 printed in a loop\n",
      " 1 2 3 4 5 6 7 8 3 4 5 6 7 8 3 4 5 6 7 8 3 4 5 6 7 8 3 4 5 6 7 8 3 4 5 6 7 8 3 4 5 6 7 8 3 4 5 6 7 8 3\n"
     ]
    }
   ],
   "source": [
    "#5 is loop-linked to 1\n",
    "input3 = [1,2,3,4,5]\n",
    "ll_with_loop1 = LinkedList(input3)\n",
    "head = ll_with_loop1.head\n",
    "tail = head\n",
    "while(tail.next !=None):\n",
    "    tail = tail.next\n",
    "tail.next = head\n",
    "print(\"ll_with_loop1:5 is loop-linked to 1,1-5 printed in a loop\")\n",
    "ll_with_loop1.printList()\n",
    "\n",
    "#8 is loop-linked to 3\n",
    "input4 = [1,2,3,4,5,6,7,8]\n",
    "ll_with_loop2 = LinkedList(input4)\n",
    "head = ll_with_loop2.head\n",
    "tail = head\n",
    "while(tail.next !=None):\n",
    "    tail = tail.next\n",
    "tail.next = head.next.next\n",
    "print(\"\\nll_with_loop2: 8 is loop-linked to 3, 3-8 printed in a loop\")\n",
    "ll_with_loop2.printList()"
   ]
  },
  {
   "cell_type": "markdown",
   "metadata": {},
   "source": [
    "## Detecting loops using a fast pointer and slow pointer\n",
    "At first it seemed that it might take several iterations for the fast-pointer and slow-pointer to catch up at the same time @the same node. But this is not true. After 1 iteration of the slow-pointer going through the entire list, it returns to the beginning of the loop. In the time the slow-pointer finishes 1 iteration, the fast pointer has iterated through the list twice(since it travels at twice the speed of the slow-pointer) and it too has returned to the beginning of the loop. So 1 iteration of the list is all it takes to detect a loop\n",
    "\n",
    "See notes for further analysis-ksw"
   ]
  },
  {
   "cell_type": "code",
   "execution_count": 4,
   "metadata": {},
   "outputs": [],
   "source": [
    "def loop_detector_with_pointers(linked_list):\n",
    "    slow_pointer = linked_list.head\n",
    "    fast_pointer = linked_list.head\n",
    "    loop_detected = False\n",
    "    while(slow_pointer !=None and fast_pointer!=None):\n",
    "        #increment slow_pointer 1 node at a time \n",
    "        slow_pointer = slow_pointer.next\n",
    "        #increment fast_pointer 2nodes at a time. Check after the first-increment if None is reached\n",
    "        fast_pointer = fast_pointer.next\n",
    "        if(fast_pointer ==None):\n",
    "            break\n",
    "        else:\n",
    "            fast_pointer = fast_pointer.next\n",
    "        if(slow_pointer !=None and fast_pointer!=None and slow_pointer==fast_pointer):\n",
    "            loop_detected = True\n",
    "            break\n",
    "    \n",
    "    output = linked_list.printList(printInFunction=False)\n",
    "    output +=\": loop_detected =\"+str(loop_detected)\n",
    "    print(output)\n",
    "    \n",
    "    return loop_detected\n"
   ]
  },
  {
   "cell_type": "markdown",
   "metadata": {},
   "source": [
    "### Test: loop_detector_with_pointers"
   ]
  },
  {
   "cell_type": "code",
   "execution_count": 5,
   "metadata": {},
   "outputs": [
    {
     "name": "stdout",
     "output_type": "stream",
     "text": [
      "linkedlist1\n",
      " 0 1 2 3 4 5: loop_detected =False\n",
      "\n",
      "linkedlist2\n",
      " 10 20 30 40 50: loop_detected =False\n",
      "\n",
      "ll_with_loop1\n",
      " 1 2 3 4 5 1 2 3 4 5 1 2 3 4 5 1 2 3 4 5 1 2 3 4 5 1 2 3 4 5 1 2 3 4 5 1 2 3 4 5 1 2 3 4 5 1 2 3 4 5 1: loop_detected =True\n",
      "\n",
      "ll_with_loop2\n",
      " 1 2 3 4 5 6 7 8 3 4 5 6 7 8 3 4 5 6 7 8 3 4 5 6 7 8 3 4 5 6 7 8 3 4 5 6 7 8 3 4 5 6 7 8 3 4 5 6 7 8 3: loop_detected =True\n"
     ]
    },
    {
     "data": {
      "text/plain": [
       "True"
      ]
     },
     "execution_count": 5,
     "metadata": {},
     "output_type": "execute_result"
    }
   ],
   "source": [
    "print(\"linkedlist1\")\n",
    "loop_detector_with_pointers(linkedlist1)\n",
    "\n",
    "print(\"\\nlinkedlist2\")\n",
    "loop_detector_with_pointers(linkedlist2)\n",
    "\n",
    "print(\"\\nll_with_loop1\")\n",
    "loop_detector_with_pointers(ll_with_loop1)\n",
    "\n",
    "print(\"\\nll_with_loop2\")\n",
    "loop_detector_with_pointers(ll_with_loop2)"
   ]
  },
  {
   "cell_type": "markdown",
   "metadata": {},
   "source": [
    "## Detecting loops using a hashtable\n",
    "This method involves creating another data structure , so this might not be a good method in terms of memory usage. I've just created this function as a way to demonstrate the use of hashtables"
   ]
  },
  {
   "cell_type": "code",
   "execution_count": 6,
   "metadata": {},
   "outputs": [],
   "source": [
    "def loop_detector_with_hashtable(linked_list):\n",
    "    loop_detector_hashtable = {}\n",
    "    \n",
    "    loop_detected = False\n",
    "    current = linked_list.head     \n",
    "    while(current != None):\n",
    "        if current in loop_detector_hashtable:\n",
    "            loop_detected = True\n",
    "            break\n",
    "        else:\n",
    "            loop_detector_hashtable[current]=True\n",
    "            current = current.next\n",
    "    \n",
    "    output = linked_list.printList(printInFunction=False)\n",
    "    output +=\": loop_detected =\"+str(loop_detected)\n",
    "    print(output)\n",
    "    \n",
    "    del loop_detector_hashtable\n",
    "    \n",
    "    return loop_detected\n",
    "    \n",
    "        "
   ]
  },
  {
   "cell_type": "markdown",
   "metadata": {},
   "source": [
    "### Test: loop_detector_with_hashtable"
   ]
  },
  {
   "cell_type": "code",
   "execution_count": 7,
   "metadata": {},
   "outputs": [
    {
     "name": "stdout",
     "output_type": "stream",
     "text": [
      "linkedlist1\n",
      " 0 1 2 3 4 5: loop_detected =False\n",
      "\n",
      "linkedlist2\n",
      " 10 20 30 40 50: loop_detected =False\n",
      "\n",
      "ll_with_loop1\n",
      " 1 2 3 4 5 1 2 3 4 5 1 2 3 4 5 1 2 3 4 5 1 2 3 4 5 1 2 3 4 5 1 2 3 4 5 1 2 3 4 5 1 2 3 4 5 1 2 3 4 5 1: loop_detected =True\n",
      "\n",
      "ll_with_loop2\n",
      " 1 2 3 4 5 6 7 8 3 4 5 6 7 8 3 4 5 6 7 8 3 4 5 6 7 8 3 4 5 6 7 8 3 4 5 6 7 8 3 4 5 6 7 8 3 4 5 6 7 8 3: loop_detected =True\n"
     ]
    },
    {
     "data": {
      "text/plain": [
       "True"
      ]
     },
     "execution_count": 7,
     "metadata": {},
     "output_type": "execute_result"
    }
   ],
   "source": [
    "print(\"linkedlist1\")\n",
    "loop_detector_with_hashtable(linkedlist1)\n",
    "\n",
    "print(\"\\nlinkedlist2\")\n",
    "loop_detector_with_hashtable(linkedlist2)\n",
    "\n",
    "print(\"\\nll_with_loop1\")\n",
    "loop_detector_with_hashtable(ll_with_loop1)\n",
    "\n",
    "print(\"\\nll_with_loop2\")\n",
    "loop_detector_with_hashtable(ll_with_loop2)"
   ]
  },
  {
   "cell_type": "code",
   "execution_count": null,
   "metadata": {},
   "outputs": [],
   "source": []
  },
  {
   "cell_type": "code",
   "execution_count": null,
   "metadata": {},
   "outputs": [],
   "source": []
  },
  {
   "cell_type": "code",
   "execution_count": null,
   "metadata": {},
   "outputs": [],
   "source": []
  }
 ],
 "metadata": {
  "kernelspec": {
   "display_name": "Python 3",
   "language": "python",
   "name": "python3"
  },
  "language_info": {
   "codemirror_mode": {
    "name": "ipython",
    "version": 3
   },
   "file_extension": ".py",
   "mimetype": "text/x-python",
   "name": "python",
   "nbconvert_exporter": "python",
   "pygments_lexer": "ipython3",
   "version": "3.5.2"
  },
  "widgets": {
   "state": {},
   "version": "1.1.2"
  }
 },
 "nbformat": 4,
 "nbformat_minor": 2
}
