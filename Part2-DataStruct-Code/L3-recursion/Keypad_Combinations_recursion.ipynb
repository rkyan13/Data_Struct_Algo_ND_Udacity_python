{
 "cells": [
  {
   "cell_type": "markdown",
   "metadata": {
    "graffitiCellId": "id_twe5ety"
   },
   "source": [
    "## Keypad Combinations\n",
    "\n",
    "A keypad on a cellphone has alphabets for all numbers between 2 and 9, as shown in the figure below:\n",
    "\n",
    "<img style=\"float: center;height:200px;\" src=\"Keypad.png\"><br>\n",
    "\n",
    "You can make different combinations of alphabets by pressing the numbers.\n",
    "\n",
    "For example, if you press 23, the following combinations are possible:\n",
    "\n",
    "`ad, ae, af, bd, be, bf, cd, ce, cf`\n",
    "\n",
    "Note that because 2 is pressed before 3, the first letter is always an alphabet on the number 2.\n",
    "Likewise, if the user types 32, the order would be\n",
    "\n",
    "`da, db, dc, ea, eb, ec, fa, fb, fc`\n",
    "\n",
    "\n",
    "Given an integer `num`, find out all the possible strings that can be made using digits of input `num`. \n",
    "Return these strings in a list. The order of strings in the list does not matter. However, as stated earlier, the order of letters in a particular string matters."
   ]
  },
  {
   "cell_type": "code",
   "execution_count": 1,
   "metadata": {
    "graffitiCellId": "id_ffyjq5w"
   },
   "outputs": [
    {
     "name": "stdout",
     "output_type": "stream",
     "text": [
      "['']\n"
     ]
    }
   ],
   "source": [
    "DEBUG = 0\n",
    "def get_characters(num):\n",
    "    if num == 2:\n",
    "        return \"abc\"\n",
    "    elif num == 3:\n",
    "        return \"def\"\n",
    "    elif num == 4:\n",
    "        return \"ghi\"\n",
    "    elif num == 5:\n",
    "        return \"jkl\"\n",
    "    elif num == 6:\n",
    "        return \"mno\"\n",
    "    elif num == 7:\n",
    "        return \"pqrs\"\n",
    "    elif num == 8:\n",
    "        return \"tuv\"\n",
    "    elif num == 9:\n",
    "        return \"wxyz\"\n",
    "    else:\n",
    "        return \"\"\n",
    "\n",
    "\n",
    "#input num is an integer\n",
    "def keypad(num):    \n",
    "\n",
    "    # TODO: Write your keypad solution here!\n",
    "    num_digits       = len(str(num))\n",
    "    combination_list = []\n",
    "    \n",
    "    if(num_digits==0):\n",
    "        combination_list.append(\"\")\n",
    "    elif (num_digits==1):\n",
    "        characters       = get_characters(num)\n",
    "        if(characters ==\"\"): #for 0, 1\n",
    "            combination_list.append(\"\")\n",
    "        else:\n",
    "            combination_list = [ch for ch in str(characters)]\n",
    "\n",
    "    else:        \n",
    "        first_digit          = int(num/pow(10,num_digits-1))\n",
    "        remaining_digits     = int(num%pow(10,num_digits-1))\n",
    "        first_digit_list     = keypad(first_digit)\n",
    "        remaining_digit_list = keypad(remaining_digits)\n",
    "        combination_list     = combine(first_digit_list,remaining_digit_list)\n",
    "    \n",
    "    return combination_list\n",
    "\n",
    "\n",
    "def combine(list1,list2):\n",
    "    combined_list = []\n",
    "    if(list1 == \"\" and list2 ==\"\"):\n",
    "        combined_list.append(\"\")\n",
    "    elif(list1 ==\"\"):\n",
    "        combined_list = list2\n",
    "    elif(list2==\"\"):\n",
    "        combined_list = list1\n",
    "    else:        \n",
    "        for item1 in list1:\n",
    "            for item2 in list2:\n",
    "                combined_list.append(item1+item2)\n",
    "    \n",
    "    return combined_list\n",
    "\n",
    "print(keypad(1))"
   ]
  },
  {
   "cell_type": "markdown",
   "metadata": {
    "graffitiCellId": "id_9ibtd5w"
   },
   "source": [
    "<span class=\"graffiti-highlight graffiti-id_9ibtd5w-id_haj1ksk\"><i></i><button>Show Solution</button></span>"
   ]
  },
  {
   "cell_type": "code",
   "execution_count": 2,
   "metadata": {
    "graffitiCellId": "id_l66zrar"
   },
   "outputs": [],
   "source": [
    "def test_keypad(input, expected_output):\n",
    "    if sorted(keypad(input)) == expected_output:\n",
    "        print(\"Yay. We got it right.\")\n",
    "    else:\n",
    "        print(\"Oops! That was incorrect.\")"
   ]
  },
  {
   "cell_type": "code",
   "execution_count": 3,
   "metadata": {
    "graffitiCellId": "id_vnyax73"
   },
   "outputs": [
    {
     "name": "stdout",
     "output_type": "stream",
     "text": [
      "Yay. We got it right.\n"
     ]
    }
   ],
   "source": [
    "# Base case: list with empty string\n",
    "input = 0\n",
    "expected_output = [\"\"]\n",
    "test_keypad(input, expected_output)"
   ]
  },
  {
   "cell_type": "code",
   "execution_count": 4,
   "metadata": {
    "graffitiCellId": "id_458su6i"
   },
   "outputs": [
    {
     "name": "stdout",
     "output_type": "stream",
     "text": [
      "Yay. We got it right.\n"
     ]
    }
   ],
   "source": [
    "# Example case\n",
    "input = 23\n",
    "expected_output = sorted([\"ad\", \"ae\", \"af\", \"bd\", \"be\", \"bf\", \"cd\", \"ce\", \"cf\"])\n",
    "test_keypad(input, expected_output)"
   ]
  },
  {
   "cell_type": "code",
   "execution_count": 5,
   "metadata": {
    "graffitiCellId": "id_j04lazf"
   },
   "outputs": [
    {
     "name": "stdout",
     "output_type": "stream",
     "text": [
      "Yay. We got it right.\n"
     ]
    }
   ],
   "source": [
    "# Example case\n",
    "input = 32\n",
    "expected_output = sorted([\"da\", \"db\", \"dc\", \"ea\", \"eb\", \"ec\", \"fa\", \"fb\", \"fc\"])\n",
    "test_keypad(input, expected_output)"
   ]
  },
  {
   "cell_type": "code",
   "execution_count": 6,
   "metadata": {
    "graffitiCellId": "id_4ziwk7w"
   },
   "outputs": [
    {
     "name": "stdout",
     "output_type": "stream",
     "text": [
      "Yay. We got it right.\n"
     ]
    }
   ],
   "source": [
    "# Example case\n",
    "input = 8\n",
    "expected_output = sorted([\"t\", \"u\", \"v\"])\n",
    "test_keypad(input, expected_output)"
   ]
  },
  {
   "cell_type": "code",
   "execution_count": 7,
   "metadata": {
    "graffitiCellId": "id_u7fe0h1"
   },
   "outputs": [
    {
     "name": "stdout",
     "output_type": "stream",
     "text": [
      "Yay. We got it right.\n"
     ]
    }
   ],
   "source": [
    "input = 354\n",
    "expected_output = sorted([\"djg\", \"ejg\", \"fjg\", \"dkg\", \"ekg\", \"fkg\", \"dlg\", \"elg\", \"flg\", \"djh\", \"ejh\", \"fjh\", \"dkh\", \"ekh\", \"fkh\", \"dlh\", \"elh\", \"flh\", \"dji\", \"eji\", \"fji\", \"dki\", \"eki\", \"fki\", \"dli\", \"eli\", \"fli\"])\n",
    "test_keypad(input, expected_output)"
   ]
  },
  {
   "cell_type": "code",
   "execution_count": 8,
   "metadata": {},
   "outputs": [
    {
     "name": "stdout",
     "output_type": "stream",
     "text": [
      "\n",
      "Ex 1: input = 1\n",
      "Yay. We got it right.\n",
      "\n",
      "Ex 2: input = 0000\n",
      "Yay. We got it right.\n",
      "\n",
      "Ex 3: input = 11111\n",
      "Yay. We got it right.\n",
      "\n",
      "Ex 4: input = 213\n",
      "Yay. We got it right.\n",
      "\n",
      "Ex 5: input = 12103\n",
      "Yay. We got it right.\n",
      "\n",
      "Ex 6: input = 101010\n",
      "Yay. We got it right.\n"
     ]
    }
   ],
   "source": [
    "#Krithika's additional test case\n",
    "\n",
    "print(\"\\nEx 1: input = 1\")\n",
    "input = 1\n",
    "expected_output = [\"\"]\n",
    "test_keypad(input, expected_output)\n",
    "\n",
    "print(\"\\nEx 2: input = 0000\")\n",
    "input = 0000 \n",
    "expected_output = [\"\"]\n",
    "test_keypad(input, expected_output)\n",
    "\n",
    "print(\"\\nEx 3: input = 11111\")\n",
    "input = 11111\n",
    "expected_output = [\"\"]\n",
    "test_keypad(input, expected_output)\n",
    "\n",
    "print(\"\\nEx 4: input = 213\")\n",
    "input = 213\n",
    "expected_output = sorted([\"ad\", \"ae\", \"af\", \"bd\", \"be\", \"bf\", \"cd\", \"ce\", \"cf\"])\n",
    "test_keypad(input, expected_output)\n",
    "\n",
    "print(\"\\nEx 5: input = 12103\")\n",
    "input = 12103\n",
    "expected_output = sorted([\"ad\", \"ae\", \"af\", \"bd\", \"be\", \"bf\", \"cd\", \"ce\", \"cf\"])\n",
    "test_keypad(input, expected_output)\n",
    "\n",
    "print(\"\\nEx 6: input = 101010\")\n",
    "input = 101010\n",
    "expected_output = [\"\"]\n",
    "test_keypad(input, expected_output)\n"
   ]
  },
  {
   "cell_type": "code",
   "execution_count": null,
   "metadata": {},
   "outputs": [],
   "source": []
  },
  {
   "cell_type": "code",
   "execution_count": null,
   "metadata": {},
   "outputs": [],
   "source": []
  },
  {
   "cell_type": "code",
   "execution_count": null,
   "metadata": {},
   "outputs": [],
   "source": []
  },
  {
   "cell_type": "code",
   "execution_count": null,
   "metadata": {},
   "outputs": [],
   "source": []
  }
 ],
 "metadata": {
  "graffiti": {
   "firstAuthorId": "10694620118",
   "id": "id_c01kx0l",
   "language": "EN"
  },
  "kernelspec": {
   "display_name": "Python 3",
   "language": "python",
   "name": "python3"
  },
  "language_info": {
   "codemirror_mode": {
    "name": "ipython",
    "version": 3
   },
   "file_extension": ".py",
   "mimetype": "text/x-python",
   "name": "python",
   "nbconvert_exporter": "python",
   "pygments_lexer": "ipython3",
   "version": "3.5.2"
  },
  "widgets": {
   "state": {},
   "version": "1.1.2"
  }
 },
 "nbformat": 4,
 "nbformat_minor": 2
}
