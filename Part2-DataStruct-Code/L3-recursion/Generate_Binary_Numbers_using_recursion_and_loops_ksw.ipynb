{
 "cells": [
  {
   "cell_type": "markdown",
   "metadata": {},
   "source": [
    "## Generate Binary Numbers: Recursive Solution"
   ]
  },
  {
   "cell_type": "code",
   "execution_count": 1,
   "metadata": {},
   "outputs": [],
   "source": [
    "def binary_numbers_recursive(num_digits):\n",
    "    if(num_digits>0):\n",
    "        numbers_list = create_binary_numbers_recursive(num_digits-1)\n",
    "    else:\n",
    "        numbers_list = []\n",
    "        \n",
    "    print(\"---------------------Recursive Solution---------------------------------\")    \n",
    "    print(numbers_list)\n",
    "    \n",
    "    return numbers_list\n",
    "\n",
    "def create_binary_numbers_recursive(digit_pos):\n",
    "    if(digit_pos ==0):\n",
    "        return ['0','1']\n",
    "    else:\n",
    "        this_digit_list      = []\n",
    "        previous_digits_list = create_binary_numbers_recursive(digit_pos-1)\n",
    "        for item in previous_digits_list :\n",
    "            this_digit_list.append('0'+item)\n",
    "        for item in previous_digits_list :\n",
    "            this_digit_list.append('1'+item)\n",
    "            \n",
    "        return this_digit_list"
   ]
  },
  {
   "cell_type": "markdown",
   "metadata": {},
   "source": [
    "## Generate Binary Numbers: Loops Solution"
   ]
  },
  {
   "cell_type": "code",
   "execution_count": 2,
   "metadata": {},
   "outputs": [],
   "source": [
    "def binary_numbers_loops(num_digits):\n",
    "    if(num_digits<1):\n",
    "        numbers_list = []\n",
    "    else:\n",
    "        partial_list = ['0', '1']\n",
    "        numbers_list = ['0', '1']\n",
    "        for digit_pos in range(1, num_digits):\n",
    "            numbers_list.clear()\n",
    "            for item in partial_list:\n",
    "                numbers_list.append('0'+item)\n",
    "            for item in partial_list:\n",
    "                numbers_list.append('1'+item)\n",
    "            partial_list = copy.deepcopy(numbers_list)\n",
    "            \n",
    "            \n",
    "    print(\"---------------------Loops Solution---------------------------------\")    \n",
    "    print(numbers_list)\n",
    "    \n",
    "    return numbers_list"
   ]
  },
  {
   "cell_type": "markdown",
   "metadata": {},
   "source": [
    "### Test:Recursive Solution"
   ]
  },
  {
   "cell_type": "code",
   "execution_count": 3,
   "metadata": {},
   "outputs": [],
   "source": [
    "def test_recursive_solution(test_case):\n",
    "    input = test_case[0]\n",
    "    ideal_output = test_case[1]\n",
    "    actual_output = binary_numbers_recursive(input)\n",
    "    if(ideal_output == actual_output):\n",
    "        print(\"Recursive Solution:Pass\")\n",
    "    else:\n",
    "        print(\"Recursive Solution:Fail\")\n",
    "    print(\"------------------------------------------------------------------------\\n\")"
   ]
  },
  {
   "cell_type": "markdown",
   "metadata": {},
   "source": [
    "### Test:Loops Solution"
   ]
  },
  {
   "cell_type": "code",
   "execution_count": 4,
   "metadata": {},
   "outputs": [],
   "source": [
    "import copy\n",
    "\n",
    "def test_loops_solution(test_case):\n",
    "    input = test_case[0]\n",
    "    ideal_output = test_case[1]\n",
    "    actual_output = binary_numbers_loops(input)\n",
    "    if(ideal_output == actual_output):\n",
    "        print(\"Loops Solution:Pass\")\n",
    "    else:\n",
    "        print(\"Loops Solution:Fail\")\n",
    "    print(\"------------------------------------------------------------------------\\n\")"
   ]
  },
  {
   "cell_type": "markdown",
   "metadata": {},
   "source": [
    "### Test-Cases"
   ]
  },
  {
   "cell_type": "code",
   "execution_count": 5,
   "metadata": {},
   "outputs": [
    {
     "name": "stdout",
     "output_type": "stream",
     "text": [
      "num_digits: -5\n",
      "---------------------Recursive Solution---------------------------------\n",
      "[]\n",
      "Recursive Solution:Pass\n",
      "------------------------------------------------------------------------\n",
      "\n",
      "---------------------Loops Solution---------------------------------\n",
      "[]\n",
      "Loops Solution:Pass\n",
      "------------------------------------------------------------------------\n",
      "\n"
     ]
    }
   ],
   "source": [
    "num_digits = -5\n",
    "solution   = []\n",
    "test_case  = [num_digits, solution]\n",
    "print(\"num_digits:\",num_digits)\n",
    "test_recursive_solution(test_case)\n",
    "test_loops_solution(test_case)"
   ]
  },
  {
   "cell_type": "code",
   "execution_count": 6,
   "metadata": {},
   "outputs": [
    {
     "name": "stdout",
     "output_type": "stream",
     "text": [
      "num_digits: 0\n",
      "---------------------Recursive Solution---------------------------------\n",
      "[]\n",
      "Recursive Solution:Pass\n",
      "------------------------------------------------------------------------\n",
      "\n",
      "---------------------Loops Solution---------------------------------\n",
      "[]\n",
      "Loops Solution:Pass\n",
      "------------------------------------------------------------------------\n",
      "\n"
     ]
    }
   ],
   "source": [
    "num_digits = 0\n",
    "solution   = []\n",
    "test_case  = [num_digits, solution]\n",
    "print(\"num_digits:\",num_digits)\n",
    "test_recursive_solution(test_case)\n",
    "test_loops_solution(test_case)"
   ]
  },
  {
   "cell_type": "code",
   "execution_count": 7,
   "metadata": {},
   "outputs": [
    {
     "name": "stdout",
     "output_type": "stream",
     "text": [
      "num_digits: 1\n",
      "---------------------Recursive Solution---------------------------------\n",
      "['0', '1']\n",
      "Recursive Solution:Pass\n",
      "------------------------------------------------------------------------\n",
      "\n",
      "---------------------Loops Solution---------------------------------\n",
      "['0', '1']\n",
      "Loops Solution:Pass\n",
      "------------------------------------------------------------------------\n",
      "\n"
     ]
    }
   ],
   "source": [
    "num_digits = 1\n",
    "solution   = ['0', '1']\n",
    "test_case  = [num_digits, solution]\n",
    "print(\"num_digits:\",num_digits)\n",
    "test_recursive_solution(test_case)\n",
    "test_loops_solution(test_case)"
   ]
  },
  {
   "cell_type": "code",
   "execution_count": 8,
   "metadata": {},
   "outputs": [
    {
     "name": "stdout",
     "output_type": "stream",
     "text": [
      "num_digits: 2\n",
      "---------------------Recursive Solution---------------------------------\n",
      "['00', '01', '10', '11']\n",
      "Recursive Solution:Pass\n",
      "------------------------------------------------------------------------\n",
      "\n",
      "---------------------Loops Solution---------------------------------\n",
      "['00', '01', '10', '11']\n",
      "Loops Solution:Pass\n",
      "------------------------------------------------------------------------\n",
      "\n"
     ]
    }
   ],
   "source": [
    "num_digits = 2\n",
    "solution   = ['00', '01', '10', '11']\n",
    "test_case  = [num_digits, solution]\n",
    "print(\"num_digits:\",num_digits)\n",
    "test_recursive_solution(test_case)\n",
    "test_loops_solution(test_case)"
   ]
  },
  {
   "cell_type": "code",
   "execution_count": 9,
   "metadata": {},
   "outputs": [
    {
     "name": "stdout",
     "output_type": "stream",
     "text": [
      "num_digits: 3\n",
      "---------------------Recursive Solution---------------------------------\n",
      "['000', '001', '010', '011', '100', '101', '110', '111']\n",
      "Recursive Solution:Pass\n",
      "------------------------------------------------------------------------\n",
      "\n",
      "---------------------Loops Solution---------------------------------\n",
      "['000', '001', '010', '011', '100', '101', '110', '111']\n",
      "Loops Solution:Pass\n",
      "------------------------------------------------------------------------\n",
      "\n"
     ]
    }
   ],
   "source": [
    "num_digits = 3\n",
    "solution   = ['000', '001', '010', '011', '100', '101', '110', '111']\n",
    "test_case  = [num_digits, solution]\n",
    "print(\"num_digits:\",num_digits)\n",
    "test_recursive_solution(test_case)\n",
    "test_loops_solution(test_case)"
   ]
  },
  {
   "cell_type": "code",
   "execution_count": 10,
   "metadata": {},
   "outputs": [
    {
     "name": "stdout",
     "output_type": "stream",
     "text": [
      "num_digits: 4\n",
      "---------------------Recursive Solution---------------------------------\n",
      "['0000', '0001', '0010', '0011', '0100', '0101', '0110', '0111', '1000', '1001', '1010', '1011', '1100', '1101', '1110', '1111']\n",
      "Recursive Solution:Pass\n",
      "------------------------------------------------------------------------\n",
      "\n",
      "---------------------Loops Solution---------------------------------\n",
      "['0000', '0001', '0010', '0011', '0100', '0101', '0110', '0111', '1000', '1001', '1010', '1011', '1100', '1101', '1110', '1111']\n",
      "Loops Solution:Pass\n",
      "------------------------------------------------------------------------\n",
      "\n"
     ]
    }
   ],
   "source": [
    "num_digits = 4\n",
    "solution   = ['0000', '0001', '0010', '0011', '0100', '0101', '0110', '0111', \\\n",
    "              '1000', '1001', '1010', '1011', '1100', '1101', '1110', '1111']\n",
    "test_case  = [num_digits, solution]\n",
    "print(\"num_digits:\",num_digits)\n",
    "test_recursive_solution(test_case)\n",
    "test_loops_solution(test_case)"
   ]
  },
  {
   "cell_type": "code",
   "execution_count": 11,
   "metadata": {},
   "outputs": [
    {
     "name": "stdout",
     "output_type": "stream",
     "text": [
      "num_digits: 5\n",
      "---------------------Recursive Solution---------------------------------\n",
      "['00000', '00001', '00010', '00011', '00100', '00101', '00110', '00111', '01000', '01001', '01010', '01011', '01100', '01101', '01110', '01111', '10000', '10001', '10010', '10011', '10100', '10101', '10110', '10111', '11000', '11001', '11010', '11011', '11100', '11101', '11110', '11111']\n",
      "Recursive Solution:Pass\n",
      "------------------------------------------------------------------------\n",
      "\n",
      "---------------------Loops Solution---------------------------------\n",
      "['00000', '00001', '00010', '00011', '00100', '00101', '00110', '00111', '01000', '01001', '01010', '01011', '01100', '01101', '01110', '01111', '10000', '10001', '10010', '10011', '10100', '10101', '10110', '10111', '11000', '11001', '11010', '11011', '11100', '11101', '11110', '11111']\n",
      "Loops Solution:Pass\n",
      "------------------------------------------------------------------------\n",
      "\n"
     ]
    }
   ],
   "source": [
    "num_digits = 5\n",
    "solution   = ['00000', '00001', '00010', '00011','00100', '00101', '00110', '00111', \\\n",
    "              '01000', '01001', '01010', '01011','01100', '01101', '01110', '01111', \\\n",
    "              '10000', '10001', '10010', '10011','10100', '10101', '10110', '10111', \\\n",
    "              '11000', '11001', '11010', '11011','11100', '11101', '11110', '11111']\n",
    "test_case  = [num_digits, solution]\n",
    "print(\"num_digits:\",num_digits)\n",
    "test_recursive_solution(test_case)\n",
    "test_loops_solution(test_case)"
   ]
  }
 ],
 "metadata": {
  "kernelspec": {
   "display_name": "Python 3",
   "language": "python",
   "name": "python3"
  },
  "language_info": {
   "codemirror_mode": {
    "name": "ipython",
    "version": 3
   },
   "file_extension": ".py",
   "mimetype": "text/x-python",
   "name": "python",
   "nbconvert_exporter": "python",
   "pygments_lexer": "ipython3",
   "version": "3.5.2"
  },
  "widgets": {
   "state": {},
   "version": "1.1.2"
  }
 },
 "nbformat": 4,
 "nbformat_minor": 2
}
