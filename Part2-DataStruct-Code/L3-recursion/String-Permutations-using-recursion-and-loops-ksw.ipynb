{
 "cells": [
  {
   "cell_type": "markdown",
   "metadata": {
    "graffitiCellId": "id_3ajxm94"
   },
   "source": [
    "### Problem Statement\n",
    "\n",
    "Given an input string, return all permutations of the string in an array.\n",
    "\n",
    "**Example 1:**\n",
    "* `string = 'ab'`\n",
    "* `output = ['ab', 'ba']`\n",
    "\n",
    "**Example 2:**\n",
    "* `string = 'abc'`\n",
    "* `output = ['abc', 'bac', 'bca', 'acb', 'cab', 'cba']`\n",
    "---\n",
    "\n",
    "#### Note - Strings are Immutable \n",
    "Strings in Python are immutable, whch means that we cannot overwrite the characters of the String objects. For example:\n",
    "```\n",
    "str1 = \"Hello\"\n",
    "str1[0] = 'K'                         # Try changing the first character\n",
    "```\n",
    "will lead to \n",
    "```\n",
    "TypeError: 'str' object does not support item assignment\n",
    "```\n",
    "    \n",
    "We can only re-assign the variable to a new value (string), as follows:\n",
    "```\n",
    "str1 = \"Udacity\"                      # re-assignment\n",
    "str2 = \"Welcome to the \" + str1[3:]   # Returns 'Welcome to the city'\n",
    "```\n",
    "**Therefore, we do not require a deep copy in this exercise, as it was the case in our last example of list permutation.** \n",
    "\n",
    "---\n",
    "\n",
    "**The Idea**<br>\n",
    "Starting with a blank list, add each character of original input string at all possible positions. <br><br>\n",
    "\n",
    "For example, take `\"abc\"` as the original string:<br>\n",
    "\n",
    "1. Start with a blank `list()` object. This is actually the last call of recursive function stack. Pick a character `'c'` of original string, making the output as `['c']`<br><br>\n",
    "\n",
    "2. Pick next character `b` of original input string, and place the current character at different indices of the each sub-string of previous output. **We can make use of the sub-string of previous output, to create a new sub-string.** Now, the output will become `['bc', 'cb']`.<br><br>\n",
    "\n",
    "3. Pick next character `a` of original input string, and place the current character at different indices of the each sub-string of previous output. Now, the output will become `['abc', 'bac', 'bca', 'acb', 'cab', 'cba']`. .<br><br>\n",
    "---\n",
    "### Exercise - Write the function definition here\n"
   ]
  },
  {
   "cell_type": "markdown",
   "metadata": {},
   "source": [
    "## Generate Permutations: Recursive Solution"
   ]
  },
  {
   "cell_type": "code",
   "execution_count": 1,
   "metadata": {
    "graffitiCellId": "id_nv5urta"
   },
   "outputs": [],
   "source": [
    "def permutations_recursive(string):\n",
    "    \"\"\"\n",
    "    :param: input string\n",
    "    Return - list of all permutations of the input string\n",
    "    TODO: complete this function to return a list of all permutations of the string\n",
    "    \"\"\"\n",
    "    start_element_num = 0\n",
    "    all_permutations = create_permutations_recursive(string, start_element_num)\n",
    "    print(\"---------------------Recursive Solution---------------------------------\")\n",
    "    print(all_permutations)\n",
    "    \n",
    "    return all_permutations\n",
    "\n",
    "def create_permutations_recursive(string,element_idx):\n",
    "    if(element_idx == len(string)-1):\n",
    "        return [string[element_idx]]\n",
    "    else:\n",
    "        permutations_n_1    = create_permutations_recursive(string, element_idx+1)\n",
    "        character_to_insert = string[element_idx]\n",
    "        permutations_n = []\n",
    "        for partial_permutation in permutations_n_1:\n",
    "            for idx in range(0, len(partial_permutation)+1):\n",
    "                permutations_n.append(partial_permutation[:idx] + character_to_insert + partial_permutation[idx:])\n",
    "\n",
    "        del permutations_n_1\n",
    "        return permutations_n\n",
    "    return\n",
    "        \n",
    "        "
   ]
  },
  {
   "cell_type": "markdown",
   "metadata": {},
   "source": [
    "## Generate Permutations: Loops Solution"
   ]
  },
  {
   "cell_type": "code",
   "execution_count": 2,
   "metadata": {},
   "outputs": [],
   "source": [
    "import copy\n",
    "\n",
    "def permutations_loops(string):\n",
    "    \n",
    "    #the previous_partial_list begins with the last character of the string\n",
    "    max_idx               = len(string)-1\n",
    "    previous_partial_list =[string[max_idx]]\n",
    "    \n",
    "    character_to_insert_idx  = max_idx -1\n",
    "    character_to_insert      = string[character_to_insert_idx]\n",
    "    #while-loop-1 step through each character in the string\n",
    "    current_partial_list  =  []\n",
    "    while(character_to_insert_idx >=0):\n",
    "        #for-loop-2 , iterate through every element in the previous_partial_list\n",
    "        #example of partial_list : iteration 0 = [c]\n",
    "        #Example of partial_list: iteration 1 = [bc,cb]\n",
    "        current_partial_list.clear()\n",
    "        \n",
    "        #ppl_item : previous_partial_list_item\n",
    "        #cpl_item : current_partial_list_item\n",
    "        for ppl_item in previous_partial_list:\n",
    "            \n",
    "            #for-loop-3: iterate through every idx in the ppl_item and insert the current_string_idx element\n",
    "            #Note: you need to insert the current_string_idx element after the ppl_item too, hence range(len(item)+1):\n",
    "            #for ppl_item ='bc', it is possible to inser 'a' at 3 locations 0,1,2\n",
    "            for ppl_item_idx in range(len(ppl_item)+1):\n",
    "                cpl_item =ppl_item[0:ppl_item_idx]+character_to_insert+ppl_item[ppl_item_idx:]\n",
    "                current_partial_list.append(cpl_item)\n",
    "            #EOF:for-loop-3-------------------------------------\n",
    "            \n",
    "        #EOF:for-loop-2-----------------------------------------\n",
    "        \n",
    "        previous_partial_list   = copy.deepcopy(current_partial_list)\n",
    "        character_to_insert_idx = character_to_insert_idx -1\n",
    "        character_to_insert     = string[character_to_insert_idx]\n",
    "    #EOF:while-loop-1-------------------------------------------\n",
    "    \n",
    "    #At the end current_partial_list contains all the permuations\n",
    "    permutations_list = copy.deepcopy(current_partial_list)\n",
    "    \n",
    "    print(\"---------------------Loops Solution---------------------------------\")\n",
    "    print(permutations_list)\n",
    "    \n",
    "    return permutations_list\n",
    "        \n",
    "        \n",
    "                \n",
    "            \n",
    "            \n",
    "    "
   ]
  },
  {
   "cell_type": "markdown",
   "metadata": {
    "graffitiCellId": "id_2d0q2u5"
   },
   "source": [
    "<span class=\"graffiti-highlight graffiti-id_2d0q2u5-id_vkbq25t\"><i></i><button>Show Solution</button></span>"
   ]
  },
  {
   "cell_type": "markdown",
   "metadata": {
    "graffitiCellId": "id_bmpcwu8"
   },
   "source": [
    "### Test -Recursive Solution "
   ]
  },
  {
   "cell_type": "code",
   "execution_count": 3,
   "metadata": {
    "graffitiCellId": "id_mhqifv4"
   },
   "outputs": [],
   "source": [
    "def test_recursive_solution(test_case):\n",
    "    string   = test_case[0]\n",
    "    solution = test_case[1]\n",
    "    output   = permutations_recursive(string)\n",
    "    \n",
    "    output.sort()\n",
    "    solution.sort()\n",
    "    \n",
    "    if output == solution:\n",
    "        print(\"Recursive Solution:Pass\")\n",
    "    else:\n",
    "        print(\"Recursive Solution:Fail\")\n",
    "    print(\"------------------------------------------------------------------------\\n\")"
   ]
  },
  {
   "cell_type": "markdown",
   "metadata": {},
   "source": [
    "### Test-Loops Solution"
   ]
  },
  {
   "cell_type": "code",
   "execution_count": 4,
   "metadata": {},
   "outputs": [],
   "source": [
    "def test_loops_solution(test_case):\n",
    "    string        = test_case[0]\n",
    "    ideal_output  = test_case[1]\n",
    "    actual_output = permutations_loops(string) \n",
    "        \n",
    "    ideal_output.sort()\n",
    "    actual_output.sort()\n",
    "    if(ideal_output == actual_output):\n",
    "        print(\"Loops Solution:Pass\")\n",
    "    else:\n",
    "        print(\"Loops Solution:Fail\")\n",
    "    print(\"------------------------------------------------------------------------\\n\")"
   ]
  },
  {
   "cell_type": "markdown",
   "metadata": {},
   "source": [
    "### Test Cases"
   ]
  },
  {
   "cell_type": "code",
   "execution_count": 5,
   "metadata": {
    "graffitiCellId": "id_tfd0a1l"
   },
   "outputs": [
    {
     "name": "stdout",
     "output_type": "stream",
     "text": [
      "input-string: ab\n",
      "---------------------Recursive Solution---------------------------------\n",
      "['ab', 'ba']\n",
      "Recursive Solution:Pass\n",
      "------------------------------------------------------------------------\n",
      "\n",
      "---------------------Loops Solution---------------------------------\n",
      "['ab', 'ba']\n",
      "Loops Solution:Pass\n",
      "------------------------------------------------------------------------\n",
      "\n"
     ]
    }
   ],
   "source": [
    "string = 'ab'\n",
    "solution = ['ab', 'ba']\n",
    "test_case = [string, solution]\n",
    "print(\"input-string:\",string)\n",
    "test_recursive_solution(test_case)\n",
    "test_loops_solution(test_case)"
   ]
  },
  {
   "cell_type": "code",
   "execution_count": 6,
   "metadata": {
    "graffitiCellId": "id_j5hyexv",
    "scrolled": true
   },
   "outputs": [
    {
     "name": "stdout",
     "output_type": "stream",
     "text": [
      "input-string: abc\n",
      "---------------------Recursive Solution---------------------------------\n",
      "['abc', 'bac', 'bca', 'acb', 'cab', 'cba']\n",
      "Recursive Solution:Pass\n",
      "------------------------------------------------------------------------\n",
      "\n",
      "---------------------Loops Solution---------------------------------\n",
      "['abc', 'bac', 'bca', 'acb', 'cab', 'cba']\n",
      "Loops Solution:Pass\n",
      "------------------------------------------------------------------------\n",
      "\n"
     ]
    }
   ],
   "source": [
    "string = 'abc'\n",
    "output = ['abc', 'bac', 'bca', 'acb', 'cab', 'cba']\n",
    "test_case = [string, output]\n",
    "print(\"input-string:\",string)\n",
    "test_recursive_solution(test_case)\n",
    "test_loops_solution(test_case)"
   ]
  },
  {
   "cell_type": "code",
   "execution_count": 7,
   "metadata": {
    "graffitiCellId": "id_5e53dq2"
   },
   "outputs": [
    {
     "name": "stdout",
     "output_type": "stream",
     "text": [
      "input-string: abcd\n",
      "---------------------Recursive Solution---------------------------------\n",
      "['abcd', 'bacd', 'bcad', 'bcda', 'acbd', 'cabd', 'cbad', 'cbda', 'acdb', 'cadb', 'cdab', 'cdba', 'abdc', 'badc', 'bdac', 'bdca', 'adbc', 'dabc', 'dbac', 'dbca', 'adcb', 'dacb', 'dcab', 'dcba']\n",
      "Recursive Solution:Pass\n",
      "------------------------------------------------------------------------\n",
      "\n",
      "---------------------Loops Solution---------------------------------\n",
      "['abcd', 'bacd', 'bcad', 'bcda', 'acbd', 'cabd', 'cbad', 'cbda', 'acdb', 'cadb', 'cdab', 'cdba', 'abdc', 'badc', 'bdac', 'bdca', 'adbc', 'dabc', 'dbac', 'dbca', 'adcb', 'dacb', 'dcab', 'dcba']\n",
      "Loops Solution:Pass\n",
      "------------------------------------------------------------------------\n",
      "\n"
     ]
    }
   ],
   "source": [
    "string = 'abcd'\n",
    "output = ['abcd', 'bacd', 'bcad', 'bcda', 'acbd', 'cabd', 'cbad', 'cbda', 'acdb', 'cadb', 'cdab', 'cdba', 'abdc', 'badc', 'bdac', 'bdca', 'adbc', 'dabc', 'dbac', 'dbca', 'adcb', 'dacb', 'dcab', 'dcba']\n",
    "test_case = [string, output]\n",
    "print(\"input-string:\",string)\n",
    "test_recursive_solution(test_case)\n",
    "test_loops_solution(test_case)"
   ]
  },
  {
   "cell_type": "code",
   "execution_count": null,
   "metadata": {},
   "outputs": [],
   "source": []
  },
  {
   "cell_type": "code",
   "execution_count": null,
   "metadata": {},
   "outputs": [],
   "source": []
  }
 ],
 "metadata": {
  "graffiti": {
   "firstAuthorId": "dev",
   "id": "id_lyhj8gh",
   "language": "EN"
  },
  "kernelspec": {
   "display_name": "Python 3",
   "language": "python",
   "name": "python3"
  },
  "language_info": {
   "codemirror_mode": {
    "name": "ipython",
    "version": 3
   },
   "file_extension": ".py",
   "mimetype": "text/x-python",
   "name": "python",
   "nbconvert_exporter": "python",
   "pygments_lexer": "ipython3",
   "version": "3.5.2"
  },
  "widgets": {
   "state": {},
   "version": "1.1.2"
  }
 },
 "nbformat": 4,
 "nbformat_minor": 2
}
