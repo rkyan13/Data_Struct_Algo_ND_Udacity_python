{
 "cells": [
  {
   "cell_type": "markdown",
   "metadata": {
    "graffitiCellId": "id_v5swjqy"
   },
   "source": [
    "### Problem Statement\n",
    "\n",
    "Suppose there is a staircase that you can climb in either 1 step, 2 steps, or 3 steps. In how many possible ways can you climb the staircase if the staircase has `n` steps? Write a recursive function to solve the problem.\n",
    "\n",
    "**Example:**\n",
    "\n",
    "* `n == 1` then `answer = 1`\n",
    "\n",
    "* `n == 3` then `answer = 4`<br>\n",
    "   The output is `4` because there are four ways we can climb the staircase:\n",
    "    - 1 step +  1 step + 1 step\n",
    "    - 1 step + 2 steps \n",
    "    - 2 steps + 1 step\n",
    "    - 3 steps\n",
    "* `n == 5` then `answer = 13`\n"
   ]
  },
  {
   "cell_type": "markdown",
   "metadata": {
    "graffitiCellId": "id_74s7rzj"
   },
   "source": [
    "### Exercise - Write a recursive function to solve this problem"
   ]
  },
  {
   "cell_type": "code",
   "execution_count": 1,
   "metadata": {
    "graffitiCellId": "id_yv3ymjf"
   },
   "outputs": [],
   "source": [
    "\"\"\"\n",
    "param: n - number of steps in the staircase\n",
    "Return number of possible ways in which you can climb the staircase\n",
    "\"\"\"\n",
    "def staircase(n):\n",
    "    '''Hint'''\n",
    "    # Base Case - What holds true for minimum steps possible i.e., n == 0, 1, 2 or 3? Return the number of ways the child can climb n steps.\n",
    "    if  (n==0):\n",
    "        ways = 0\n",
    "    elif(n==1):\n",
    "        ways = 1\n",
    "    elif(n==2):\n",
    "        #possible ways = 1+1(take 2 single steps), 2(take 1 2 steps)\n",
    "        ways = 2\n",
    "    elif(n==3):\n",
    "        #possible ways 1+1+1, 1+2, 2+1,3\n",
    "        ways = 4        \n",
    "    # Recursive Step - Split the solution into base case if n > 3.\n",
    "    else:\n",
    "        ways_a = staircase(n-1) #The last step take 1 step.  so number of ways to reach (n-1)th step\n",
    "        ways_b = staircase(n-2) #The last step take 2 steps. so number of ways to reach (n-2)th step\n",
    "        ways_c = staircase(n-3) #The last step take 3 steps. so number of ways to reach (n-3)th step\n",
    "        ways   = ways_a + ways_b + ways_c\n",
    "    \n",
    "    return ways"
   ]
  },
  {
   "cell_type": "markdown",
   "metadata": {
    "graffitiCellId": "id_w7lklez"
   },
   "source": [
    "<span class=\"graffiti-highlight graffiti-id_w7lklez-id_brqvnra\"><i></i><button>Show Solution</button></span>"
   ]
  },
  {
   "cell_type": "code",
   "execution_count": 2,
   "metadata": {
    "graffitiCellId": "id_qnr80ry"
   },
   "outputs": [],
   "source": [
    "def test_function(test_case):\n",
    "    n = test_case[0]\n",
    "    solution = test_case[1]\n",
    "    output = staircase(n)\n",
    "    if output == solution:\n",
    "        print(\"Pass\")\n",
    "    else:\n",
    "        print(\"Fail\")"
   ]
  },
  {
   "cell_type": "code",
   "execution_count": 3,
   "metadata": {
    "graffitiCellId": "id_6g7yxbj"
   },
   "outputs": [
    {
     "name": "stdout",
     "output_type": "stream",
     "text": [
      "Pass\n"
     ]
    }
   ],
   "source": [
    "n = 3\n",
    "solution = 4\n",
    "test_case = [n, solution]\n",
    "test_function(test_case)"
   ]
  },
  {
   "cell_type": "code",
   "execution_count": 4,
   "metadata": {
    "graffitiCellId": "id_1q0pz7y"
   },
   "outputs": [
    {
     "name": "stdout",
     "output_type": "stream",
     "text": [
      "Pass\n"
     ]
    }
   ],
   "source": [
    "n = 4\n",
    "solution = 7\n",
    "test_case = [n, solution]\n",
    "test_function(test_case)"
   ]
  },
  {
   "cell_type": "code",
   "execution_count": 5,
   "metadata": {
    "graffitiCellId": "id_p3uxb7h"
   },
   "outputs": [
    {
     "name": "stdout",
     "output_type": "stream",
     "text": [
      "Pass\n"
     ]
    }
   ],
   "source": [
    "n = 7\n",
    "solution = 44\n",
    "test_case = [n, solution]\n",
    "test_function(test_case)"
   ]
  },
  {
   "cell_type": "code",
   "execution_count": 6,
   "metadata": {},
   "outputs": [
    {
     "name": "stdout",
     "output_type": "stream",
     "text": [
      "Pass\n",
      "Pass\n",
      "Pass\n"
     ]
    }
   ],
   "source": [
    "#Krithika's additional test cases\n",
    "n = 0\n",
    "solution = 0\n",
    "test_case = [n, solution]\n",
    "test_function(test_case)\n",
    "\n",
    "n = 1\n",
    "solution = 1\n",
    "test_case = [n, solution]\n",
    "test_function(test_case)\n",
    "\n",
    "n = 2\n",
    "solution = 2\n",
    "test_case = [n, solution]\n",
    "test_function(test_case)"
   ]
  },
  {
   "cell_type": "code",
   "execution_count": null,
   "metadata": {},
   "outputs": [],
   "source": []
  }
 ],
 "metadata": {
  "graffiti": {
   "firstAuthorId": "dev",
   "id": "id_qnn6fxn",
   "language": "EN"
  },
  "kernelspec": {
   "display_name": "Python 3",
   "language": "python",
   "name": "python3"
  },
  "language_info": {
   "codemirror_mode": {
    "name": "ipython",
    "version": 3
   },
   "file_extension": ".py",
   "mimetype": "text/x-python",
   "name": "python",
   "nbconvert_exporter": "python",
   "pygments_lexer": "ipython3",
   "version": "3.5.2"
  },
  "widgets": {
   "state": {},
   "version": "1.1.2"
  }
 },
 "nbformat": 4,
 "nbformat_minor": 2
}
