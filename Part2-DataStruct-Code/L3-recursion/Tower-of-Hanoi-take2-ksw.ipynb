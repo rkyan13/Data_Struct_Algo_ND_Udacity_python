{
 "cells": [
  {
   "cell_type": "markdown",
   "metadata": {
    "graffitiCellId": "id_wzbr23x"
   },
   "source": [
    "### Problem Statement\n",
    "\n",
    "The Tower of Hanoi is a puzzle where we have three rods and `n` unique sized disks. The three rods are - source, destination, and auxiliary as shown in the figure below.\n",
    "<br><img style=\"float: center;\" src=\"TOH.png\"><br>\n",
    "Initally, all the `n` disks are present on the source rod. The final objective of the puzzle is to move all disks from the source rod to the destination rod using the auxiliary rod.<br><br> \n",
    "**However, there are some rules applicable to all rods:**\n",
    "    1. Only one disk can be moved at a time.\n",
    "    2. A disk can be moved only if it is on the top of a rod.\n",
    "    3. No disk can be placed on the top of a smaller disk.\n",
    "    \n",
    "You will be given the number of disks `num_disks` as the input parameter. Write a **recursive function** `tower_of_Hanoi()` that prints the \"move\" steps in order to move `num_disks` number of disks from Source to Destination using the help of Auxiliary rod.\n",
    "\n",
    "---\n",
    "### Example Illustration\n",
    "For example, if you have `num_disks = 3`, then the disks should be moved as follows:\n",
    "    \n",
    "        1. move disk from source to destination\n",
    "        2. move disk from source to auxiliary\n",
    "        3. move disk from destination to auxiliary\n",
    "        4. move disk from source to destination\n",
    "        5. move disk from auxiliary to source\n",
    "        6. move disk from auxiliary to destination\n",
    "        7. move disk from source to destination\n",
    "        \n",
    "You must print these steps as follows:    \n",
    "\n",
    "                S D\n",
    "                S A\n",
    "                D A\n",
    "                S D\n",
    "                A S\n",
    "                A D\n",
    "                S D\n",
    "        \n",
    "Where S = source, D = destination, A = auxiliary <br><br>\n",
    "An example illustration for `num_disks = 4` can be visualized in this [GIF from wikipedia](https://en.wikipedia.org/wiki/Tower_of_Hanoi#/media/File:Tower_of_Hanoi_4.gif)\n",
    "\n",
    "---\n",
    "\n",
    "### The Idea\n",
    "Assume you are writing a function that accepts the following arguments:\n",
    "        1. arg1 - number of disks\n",
    "        2. arg2 - rod A - this rod acts as the source (at the time of calling the function)\n",
    "        2. arg3 - rod B - this rod acts as the auxiliary\n",
    "        2. arg4 - rod C - this rod acts as the destination\n",
    "        \n",
    "Follow the steps below:\n",
    "1. Given the `num_disks` disks on the source, along with auxiliary and destination rods<br><br>\n",
    "2. Check if `num_disks == 1`. This must be the termination condition, therefore use recursion to reach at this moment. \n",
    " - If yes, move disk from source to destination. (Termination condition)<br><br>\n",
    "3. For `num_disks > 1`, just think of your FIRST set of steps. You want to pick the bottom most disk on the source, to be transferred to the destination. For this reason, you will will perform the steps below:\n",
    " - Step 1: Move `num_disks - 1` from source to auxiliary<br><br>\n",
    " - Step 2: Now you are left with only the largest disk at source. Move the only leftover disk from source to destination<br><br>\n",
    " - Step 3: You had `num_disks - 1` disks available on the auxiliary, as a result of Step 1. Move `num_disks - 1` from auxiliary to destination\n",
    "\n",
    "---\n",
    "### Exercise - Write the function definition here"
   ]
  },
  {
   "cell_type": "code",
   "execution_count": 1,
   "metadata": {
    "graffitiCellId": "id_8tcr5o8"
   },
   "outputs": [
    {
     "name": "stdout",
     "output_type": "stream",
     "text": [
      "-------------------------\n"
     ]
    }
   ],
   "source": [
    "\"\"\"\n",
    ":param: num_disks - number of disks\n",
    "TODO: print the steps required to move all disks from source to destination\n",
    "\"\"\"\n",
    "class TOH:\n",
    "    def __init__(self, disk_count,verbose=False):\n",
    "        self.num_disks   = disk_count\n",
    "        self.source      = []\n",
    "        self.auxiliary   = []\n",
    "        self.destination = []\n",
    "        count            = self.num_disks\n",
    "        while(count !=0):\n",
    "            self.source.append(count)\n",
    "            count-=1\n",
    "            \n",
    "        self.name_stackPtr_dict = {\"source\": self.source, \"aux\": self.auxiliary, \"dest\": self.destination}\n",
    "        self.name_acronym_dict  = {\"source\": \"S\",         \"aux\": \"A\",            \"dest\": \"D\"}\n",
    "        self.verbose            = verbose\n",
    "        \n",
    "        #Print initial towers state & Start the transfer\n",
    "        self.print_towers(acronym1 = \"THE\", acronym2 =\"BEGINNING!\")  \n",
    "        self.start_transfer()\n",
    "    \n",
    "    def start_transfer(self):\n",
    "        self.move_disks(num_disks=self.num_disks, start_name=\"source\", helper_name=\"aux\", end_name=\"dest\")\n",
    "    \n",
    "    def move_disks(self,num_disks, start_name, helper_name,end_name):\n",
    "        if(self.verbose==True):\n",
    "            print(\"-------move_disks: N=\",num_disks,\",From:\", start_name, \",To:\",end_name,\",Via:\",helper_name,\"--------------\")\n",
    "\n",
    "\n",
    "        #Get the stacks(pointers-to-the-stack rather) corresponding to the names\n",
    "        start  = self.name_stackPtr_dict[start_name]\n",
    "        helper = self.name_stackPtr_dict[helper_name]\n",
    "        end    = self.name_stackPtr_dict[end_name]\n",
    "\n",
    "        #Get the acronyms corresponding to the names: acronyms will be used for printing\n",
    "        start_acronym  = self.name_acronym_dict[start_name]\n",
    "        helper_acronym = self.name_acronym_dict[helper_name]\n",
    "        end_acronym    = self.name_acronym_dict[end_name]\n",
    "\n",
    "\n",
    "        if(num_disks == 1):\n",
    "            #Move 1 from start to end\n",
    "            disk = start.pop()        \n",
    "            end.append(disk)\n",
    "            #print\n",
    "            acronym1 = start_acronym;   acronym2 = end_acronym\n",
    "            self.print_towers(acronym1, acronym2)   \n",
    "            return\n",
    "        \n",
    "        else:\n",
    "            #Move:propagate:n-1 from start to the helper\n",
    "            self.move_disks(num_disks-1, start_name= start_name, helper_name=end_name,end_name=helper_name)\n",
    "\n",
    "            #Pop-n: from start to end\n",
    "            if(self.verbose == True):\n",
    "                print(\"-------popN: N=\",num_disks,\",From:\", start_name, \",To:\",end_name,\"--------------\")\n",
    "            disk = start.pop()        \n",
    "            end.append(disk)\n",
    "            #print\n",
    "            acronym1 = start_acronym;  acronym2 = end_acronym\n",
    "            self.print_towers(acronym1, acronym2)\n",
    "\n",
    "\n",
    "            ##Move:propagate:n-1 from helper to end \n",
    "            self.move_disks(num_disks-1, start_name= helper_name, helper_name=start_name,end_name=end_name)\n",
    "\n",
    "\n",
    "\n",
    "        return\n",
    "        \n",
    "\n",
    "    \n",
    "    def print_towers(self, acronym1, acronym2):\n",
    "        if(self.verbose == True):\n",
    "            output = acronym1+\" \"+acronym2\n",
    "            output += \": S=\"+str(self.source)+ \" :A=\"+str(self.auxiliary)+ \" :D=\"+str(self.destination)\n",
    "        else:\n",
    "            output = acronym1+\" \"+acronym2\n",
    "            \n",
    "        print(output)\n",
    "        return\n",
    "    \n",
    "#----------------------------------------------------------------------------------------------------------\n",
    "    \n",
    "    \n",
    "def tower_of_Hanoi(disk_count,verbose=True):\n",
    "    \n",
    "    toh = TOH(disk_count,verbose)    \n",
    "            \n",
    "    return\n",
    "\n",
    "\n",
    "        \n",
    "        \n",
    "\n",
    "    \n",
    "\n",
    "\n",
    " \n",
    "print(\"-------------------------\")"
   ]
  },
  {
   "cell_type": "code",
   "execution_count": 2,
   "metadata": {},
   "outputs": [
    {
     "name": "stdout",
     "output_type": "stream",
     "text": [
      "THE BEGINNING!: S=[1] :A=[] :D=[]\n",
      "-------move_disks: N= 1 ,From: source ,To: dest ,Via: aux --------------\n",
      "S D: S=[] :A=[] :D=[1]\n"
     ]
    }
   ],
   "source": [
    "tower_of_Hanoi(1)"
   ]
  },
  {
   "cell_type": "code",
   "execution_count": 3,
   "metadata": {},
   "outputs": [
    {
     "name": "stdout",
     "output_type": "stream",
     "text": [
      "THE BEGINNING!: S=[2, 1] :A=[] :D=[]\n",
      "-------move_disks: N= 2 ,From: source ,To: dest ,Via: aux --------------\n",
      "-------move_disks: N= 1 ,From: source ,To: aux ,Via: dest --------------\n",
      "S A: S=[2] :A=[1] :D=[]\n",
      "-------popN: N= 2 ,From: source ,To: dest --------------\n",
      "S D: S=[] :A=[1] :D=[2]\n",
      "-------move_disks: N= 1 ,From: aux ,To: dest ,Via: source --------------\n",
      "A D: S=[] :A=[] :D=[2, 1]\n"
     ]
    }
   ],
   "source": [
    "tower_of_Hanoi(2)"
   ]
  },
  {
   "cell_type": "code",
   "execution_count": 4,
   "metadata": {},
   "outputs": [
    {
     "name": "stdout",
     "output_type": "stream",
     "text": [
      "THE BEGINNING!: S=[3, 2, 1] :A=[] :D=[]\n",
      "-------move_disks: N= 3 ,From: source ,To: dest ,Via: aux --------------\n",
      "-------move_disks: N= 2 ,From: source ,To: aux ,Via: dest --------------\n",
      "-------move_disks: N= 1 ,From: source ,To: dest ,Via: aux --------------\n",
      "S D: S=[3, 2] :A=[] :D=[1]\n",
      "-------popN: N= 2 ,From: source ,To: aux --------------\n",
      "S A: S=[3] :A=[2] :D=[1]\n",
      "-------move_disks: N= 1 ,From: dest ,To: aux ,Via: source --------------\n",
      "D A: S=[3] :A=[2, 1] :D=[]\n",
      "-------popN: N= 3 ,From: source ,To: dest --------------\n",
      "S D: S=[] :A=[2, 1] :D=[3]\n",
      "-------move_disks: N= 2 ,From: aux ,To: dest ,Via: source --------------\n",
      "-------move_disks: N= 1 ,From: aux ,To: source ,Via: dest --------------\n",
      "A S: S=[1] :A=[2] :D=[3]\n",
      "-------popN: N= 2 ,From: aux ,To: dest --------------\n",
      "A D: S=[1] :A=[] :D=[3, 2]\n",
      "-------move_disks: N= 1 ,From: source ,To: dest ,Via: aux --------------\n",
      "S D: S=[] :A=[] :D=[3, 2, 1]\n"
     ]
    }
   ],
   "source": [
    "tower_of_Hanoi(3)"
   ]
  },
  {
   "cell_type": "markdown",
   "metadata": {
    "graffitiCellId": "id_rh9jy5w"
   },
   "source": [
    "<span class=\"graffiti-highlight graffiti-id_rh9jy5w-id_aaedpt9\"><i></i><button>Hide Solution</button></span>"
   ]
  },
  {
   "cell_type": "code",
   "execution_count": 5,
   "metadata": {},
   "outputs": [
    {
     "name": "stdout",
     "output_type": "stream",
     "text": [
      "THE BEGINNING!: S=[4, 3, 2, 1] :A=[] :D=[]\n",
      "-------move_disks: N= 4 ,From: source ,To: dest ,Via: aux --------------\n",
      "-------move_disks: N= 3 ,From: source ,To: aux ,Via: dest --------------\n",
      "-------move_disks: N= 2 ,From: source ,To: dest ,Via: aux --------------\n",
      "-------move_disks: N= 1 ,From: source ,To: aux ,Via: dest --------------\n",
      "S A: S=[4, 3, 2] :A=[1] :D=[]\n",
      "-------popN: N= 2 ,From: source ,To: dest --------------\n",
      "S D: S=[4, 3] :A=[1] :D=[2]\n",
      "-------move_disks: N= 1 ,From: aux ,To: dest ,Via: source --------------\n",
      "A D: S=[4, 3] :A=[] :D=[2, 1]\n",
      "-------popN: N= 3 ,From: source ,To: aux --------------\n",
      "S A: S=[4] :A=[3] :D=[2, 1]\n",
      "-------move_disks: N= 2 ,From: dest ,To: aux ,Via: source --------------\n",
      "-------move_disks: N= 1 ,From: dest ,To: source ,Via: aux --------------\n",
      "D S: S=[4, 1] :A=[3] :D=[2]\n",
      "-------popN: N= 2 ,From: dest ,To: aux --------------\n",
      "D A: S=[4, 1] :A=[3, 2] :D=[]\n",
      "-------move_disks: N= 1 ,From: source ,To: aux ,Via: dest --------------\n",
      "S A: S=[4] :A=[3, 2, 1] :D=[]\n",
      "-------popN: N= 4 ,From: source ,To: dest --------------\n",
      "S D: S=[] :A=[3, 2, 1] :D=[4]\n",
      "-------move_disks: N= 3 ,From: aux ,To: dest ,Via: source --------------\n",
      "-------move_disks: N= 2 ,From: aux ,To: source ,Via: dest --------------\n",
      "-------move_disks: N= 1 ,From: aux ,To: dest ,Via: source --------------\n",
      "A D: S=[] :A=[3, 2] :D=[4, 1]\n",
      "-------popN: N= 2 ,From: aux ,To: source --------------\n",
      "A S: S=[2] :A=[3] :D=[4, 1]\n",
      "-------move_disks: N= 1 ,From: dest ,To: source ,Via: aux --------------\n",
      "D S: S=[2, 1] :A=[3] :D=[4]\n",
      "-------popN: N= 3 ,From: aux ,To: dest --------------\n",
      "A D: S=[2, 1] :A=[] :D=[4, 3]\n",
      "-------move_disks: N= 2 ,From: source ,To: dest ,Via: aux --------------\n",
      "-------move_disks: N= 1 ,From: source ,To: aux ,Via: dest --------------\n",
      "S A: S=[2] :A=[1] :D=[4, 3]\n",
      "-------popN: N= 2 ,From: source ,To: dest --------------\n",
      "S D: S=[] :A=[1] :D=[4, 3, 2]\n",
      "-------move_disks: N= 1 ,From: aux ,To: dest ,Via: source --------------\n",
      "A D: S=[] :A=[] :D=[4, 3, 2, 1]\n"
     ]
    }
   ],
   "source": [
    "tower_of_Hanoi(4,verbose=True)\n"
   ]
  },
  {
   "cell_type": "code",
   "execution_count": 6,
   "metadata": {
    "graffitiCellId": "id_aaedpt9"
   },
   "outputs": [],
   "source": [
    "# Solution\n",
    "def tower_of_Hanoi_soln(num_disks, source, auxiliary, destination):\n",
    "    \n",
    "    if num_disks == 0:\n",
    "        return\n",
    "    \n",
    "    if num_disks == 1:\n",
    "        print(\"{} {}\".format(source, destination))\n",
    "        return\n",
    "    \n",
    "    tower_of_Hanoi_soln(num_disks - 1, source, destination, auxiliary)\n",
    "    print(\"{} {}\".format(source, destination))\n",
    "    tower_of_Hanoi_soln(num_disks - 1, auxiliary, source, destination)\n",
    "    \n",
    "def tower_of_Hanoi(num_disks):\n",
    "    tower_of_Hanoi_soln(num_disks, 'S', 'A', 'D')"
   ]
  },
  {
   "cell_type": "markdown",
   "metadata": {
    "graffitiCellId": "id_6dm5twe"
   },
   "source": [
    "#### Compare your results with the following test cases\n",
    "* num_disks = 2\n",
    "\n",
    "        solution \n",
    "                S A\n",
    "                S D\n",
    "                A D\n",
    "                \n",
    "* num_disks = 3\n",
    "\n",
    "        solution \n",
    "                S D\n",
    "                S A\n",
    "                D A\n",
    "                S D\n",
    "                A S\n",
    "                A D\n",
    "                S D\n",
    "\n",
    "* num_disks = 4\n",
    "    \n",
    "        solution\n",
    "                S A\n",
    "                S D\n",
    "                A D\n",
    "                S A\n",
    "                D S\n",
    "                D A\n",
    "                S A\n",
    "                S D\n",
    "                A D\n",
    "                A S\n",
    "                D S\n",
    "                A D\n",
    "                S A\n",
    "                S D\n",
    "                A D"
   ]
  },
  {
   "cell_type": "code",
   "execution_count": 7,
   "metadata": {
    "graffitiCellId": "id_zia79bz"
   },
   "outputs": [
    {
     "data": {
      "text/plain": [
       "'\\nelif(num_disks == 2):\\n    #Move 1 from start to helper\\n    disk = start.pop()        \\n    helper.append(disk)\\n    #print\\n    acronym1 = start_acronym;   acronym2 = helper_acronym\\n    self.print_towers(acronym1, acronym2)\\n\\n    #Move 2 from start to end\\n    disk = start.pop() \\n    end.append(disk)\\n    #print\\n    acronym1 = start_acronym;   acronym2 = end_acronym\\n    self.print_towers(acronym1, acronym2)\\n\\n    #Move 1 from helper to end\\n    disk = helper.pop() \\n    end.append(disk)\\n    #print\\n    acronym1 = helper_acronym;  acronym2 = end_acronym\\n    self.print_towers(acronym1, acronym2)\\n\\n    return\\n'"
      ]
     },
     "execution_count": 7,
     "metadata": {},
     "output_type": "execute_result"
    }
   ],
   "source": [
    "'''\n",
    "elif(num_disks == 2):\n",
    "    #Move 1 from start to helper\n",
    "    disk = start.pop()        \n",
    "    helper.append(disk)\n",
    "    #print\n",
    "    acronym1 = start_acronym;   acronym2 = helper_acronym\n",
    "    self.print_towers(acronym1, acronym2)\n",
    "\n",
    "    #Move 2 from start to end\n",
    "    disk = start.pop() \n",
    "    end.append(disk)\n",
    "    #print\n",
    "    acronym1 = start_acronym;   acronym2 = end_acronym\n",
    "    self.print_towers(acronym1, acronym2)\n",
    "\n",
    "    #Move 1 from helper to end\n",
    "    disk = helper.pop() \n",
    "    end.append(disk)\n",
    "    #print\n",
    "    acronym1 = helper_acronym;  acronym2 = end_acronym\n",
    "    self.print_towers(acronym1, acronym2)\n",
    "\n",
    "    return\n",
    "'''"
   ]
  },
  {
   "cell_type": "code",
   "execution_count": null,
   "metadata": {},
   "outputs": [],
   "source": []
  }
 ],
 "metadata": {
  "graffiti": {
   "firstAuthorId": "dev",
   "id": "id_at34t9a",
   "language": "EN"
  },
  "kernelspec": {
   "display_name": "Python 3",
   "language": "python",
   "name": "python3"
  },
  "language_info": {
   "codemirror_mode": {
    "name": "ipython",
    "version": 3
   },
   "file_extension": ".py",
   "mimetype": "text/x-python",
   "name": "python",
   "nbconvert_exporter": "python",
   "pygments_lexer": "ipython3",
   "version": "3.5.2"
  },
  "widgets": {
   "state": {},
   "version": "1.1.2"
  }
 },
 "nbformat": 4,
 "nbformat_minor": 2
}
