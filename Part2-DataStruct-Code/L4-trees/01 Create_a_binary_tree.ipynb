{
 "cells": [
  {
   "cell_type": "markdown",
   "metadata": {},
   "source": [
    "# Create a binary tree"
   ]
  },
  {
   "cell_type": "markdown",
   "metadata": {},
   "source": [
    "![tree image](images/tree_01.png \"Tree\")"
   ]
  },
  {
   "cell_type": "markdown",
   "metadata": {},
   "source": [
    "## Task 01: build a node\n",
    "\n",
    "* on a piece of paper, draw a tree.\n",
    "* Define a node, what are the three things you'd expect in a node?\n",
    "* Define class called `Node`, and define a constructor that takes no arguments, and sets the three instance variables to `None`.\n",
    "* Note: coding from a blank cell (or blank piece of paper) is good practice for interviews!"
   ]
  },
  {
   "cell_type": "code",
   "execution_count": 8,
   "metadata": {},
   "outputs": [],
   "source": [
    "## Define a node\n",
    "class Node:\n",
    "    def __init__(self):\n",
    "        self.value = None\n",
    "        self.left  = None\n",
    "        self.right = None\n",
    "\n"
   ]
  },
  {
   "cell_type": "code",
   "execution_count": 9,
   "metadata": {},
   "outputs": [
    {
     "name": "stdout",
     "output_type": "stream",
     "text": [
      "\n",
      "value: {node0.value}\n",
      "left: {node0.left}\n",
      "right: {node0.right}\n",
      "\n"
     ]
    }
   ],
   "source": [
    "node0 = Node()\n",
    "print(\"\"\"\n",
    "value: {node0.value}\n",
    "left: {node0.left}\n",
    "right: {node0.right}\n",
    "\"\"\")"
   ]
  },
  {
   "cell_type": "markdown",
   "metadata": {},
   "source": [
    "## Task 02: add a constructor that takes the value as a parameter\n",
    "\n",
    "Copy what you just made, and modify the constructor so that it takes in an optional value, which it assigns as the node's value.  Otherwise, it sets the node's value to `None`.\n"
   ]
  },
  {
   "cell_type": "code",
   "execution_count": 16,
   "metadata": {},
   "outputs": [],
   "source": [
    "## Your code here\n",
    "## Define a node\n",
    "## Define a node\n",
    "class Node:\n",
    "    def __init__(self, value= None):\n",
    "        self.value = value\n",
    "        self.left  = None\n",
    "        self.right = None"
   ]
  },
  {
   "cell_type": "code",
   "execution_count": 28,
   "metadata": {},
   "outputs": [
    {
     "name": "stdout",
     "output_type": "stream",
     "text": [
      "value= None , left= None , right= None\n",
      "value= apple , left= None , right= None\n"
     ]
    }
   ],
   "source": [
    "## Check\n",
    "\n",
    "node0 = Node()\n",
    "print(\"value=\",node0.value,\", left=\" ,node0.left, \", right=\" ,node0.right)\n",
    "\n",
    "node0 = Node(\"apple\")\n",
    "print(\"value=\",node0.value,\", left=\" ,node0.left, \", right=\" ,node0.right)"
   ]
  },
  {
   "cell_type": "code",
   "execution_count": 29,
   "metadata": {},
   "outputs": [
    {
     "ename": "SyntaxError",
     "evalue": "invalid syntax (<ipython-input-29-d66e12873b58>, line 5)",
     "output_type": "error",
     "traceback": [
      "\u001b[0;36m  File \u001b[0;32m\"<ipython-input-29-d66e12873b58>\"\u001b[0;36m, line \u001b[0;32m5\u001b[0m\n\u001b[0;31m    value: {node0.value}\u001b[0m\n\u001b[0m         ^\u001b[0m\n\u001b[0;31mSyntaxError\u001b[0m\u001b[0;31m:\u001b[0m invalid syntax\n"
     ]
    }
   ],
   "source": [
    "\n",
    "\n",
    "\"\"\"\n",
    "print(f\"\"\"\n",
    "value: {node0.value}\n",
    "left: {node0.left}\n",
    "right: {node0.right}\n",
    "\"\"\")\n",
    "\"\"\""
   ]
  },
  {
   "cell_type": "markdown",
   "metadata": {},
   "source": [
    "# The Cell below constructs the Node Class and Tree Class"
   ]
  },
  {
   "cell_type": "code",
   "execution_count": 36,
   "metadata": {},
   "outputs": [],
   "source": [
    "\n",
    "\n",
    "class Node:\n",
    "    def __init__(self, value = None, left = None, right = None):\n",
    "        self.value = value\n",
    "        self.left  = left\n",
    "        self.right = right\n",
    "    \n",
    "    def set_value(self,value):\n",
    "        self.value = value\n",
    "    \n",
    "    def set_left_child(self, left):\n",
    "        self.left = left\n",
    "    \n",
    "    def set_right_child(self, right):\n",
    "        self.right = right\n",
    "        \n",
    "    def get_value(self):\n",
    "        return self.value\n",
    "    \n",
    "    def get_left_child(self):\n",
    "        return self.left\n",
    "    \n",
    "    def get_right_child(self):\n",
    "        return self.right\n",
    "    \n",
    "    def has_value(self):\n",
    "        if(self.value !=None):\n",
    "            return True\n",
    "        else:\n",
    "            return False\n",
    "    \n",
    "    def has_left_child(self):\n",
    "        if(self.left !=None):\n",
    "            return True\n",
    "        else:\n",
    "            return False\n",
    "    \n",
    "    def has_right_child(self):\n",
    "        if(self.right!=None):\n",
    "            return True\n",
    "        else:\n",
    "            return False\n",
    "        \n",
    "\n",
    "class Tree:\n",
    "    def __init__(self, root_node = None, root_node_value = None):\n",
    "        if(root !=None):\n",
    "            self.root = root_node\n",
    "        elif(root_value !=None):\n",
    "            self.root = Node(root_node_value)\n",
    "        else:\n",
    "            self.root = Node()\n",
    "    \n",
    "    def get_root(self):\n",
    "        return self.root"
   ]
  },
  {
   "cell_type": "code",
   "execution_count": 40,
   "metadata": {},
   "outputs": [
    {
     "name": "stdout",
     "output_type": "stream",
     "text": [
      "has left child?  False\n",
      "has right child?  False\n",
      "\n",
      "adding left and right children\n",
      "has left child?  True\n",
      "has right child? True\n",
      "\n",
      "node 0-value := apple\n",
      "node 0-left child := banana\n",
      "node 0-right child := orange\n"
     ]
    }
   ],
   "source": [
    "## check\n",
    "\n",
    "node0 = Node(\"apple\")\n",
    "node1 = Node(\"banana\")\n",
    "node2 = Node(\"orange\")\n",
    "\n",
    "print(\"has left child? \", node0.has_left_child())\n",
    "print(\"has right child? \",node0.has_right_child())\n",
    "\n",
    "print(\"\\nadding left and right children\")\n",
    "node0.set_left_child(node1)\n",
    "node0.set_right_child(node2)\n",
    "\n",
    "print(\"has left child? \",node0.has_left_child())\n",
    "print(\"has right child?\",node0.has_right_child())\n",
    "\n",
    "print(\"\\nnode 0-value :=\"       ,node0.value)\n",
    "print(\"node 0-left child :=\"  ,node0.left.value)\n",
    "print(\"node 0-right child :=\" ,node0.right.value)"
   ]
  },
  {
   "cell_type": "markdown",
   "metadata": {},
   "source": [
    "## Task 03: add functions to set and get the value of the node\n",
    "\n",
    "Add functions `get_value` and `set_value`"
   ]
  },
  {
   "cell_type": "code",
   "execution_count": 31,
   "metadata": {},
   "outputs": [],
   "source": [
    "# add set_value and get_value functions\n"
   ]
  },
  {
   "cell_type": "code",
   "execution_count": null,
   "metadata": {},
   "outputs": [],
   "source": []
  },
  {
   "cell_type": "markdown",
   "metadata": {},
   "source": [
    "## Task 04: add functions that assign a left child, or right child\n",
    "\n",
    "Define a function `set_left_child` and a function `set_right_child`.  Each function takes in a node that it assigns as the left or right child, respectively.  Note that we can assume that this will replace any existing node if it's already assigned as a left or right child.\n",
    "\n",
    "Also, define `get_left_child` and `get_right_child` functions."
   ]
  },
  {
   "cell_type": "code",
   "execution_count": 32,
   "metadata": {},
   "outputs": [],
   "source": [
    "## your code here\n"
   ]
  },
  {
   "cell_type": "code",
   "execution_count": null,
   "metadata": {},
   "outputs": [],
   "source": []
  },
  {
   "cell_type": "code",
   "execution_count": 34,
   "metadata": {},
   "outputs": [
    {
     "ename": "SyntaxError",
     "evalue": "EOL while scanning string literal (<ipython-input-34-c49140ab2f58>, line 9)",
     "output_type": "error",
     "traceback": [
      "\u001b[0;36m  File \u001b[0;32m\"<ipython-input-34-c49140ab2f58>\"\u001b[0;36m, line \u001b[0;32m9\u001b[0m\n\u001b[0;31m    print(f'\u001b[0m\n\u001b[0m            ^\u001b[0m\n\u001b[0;31mSyntaxError\u001b[0m\u001b[0;31m:\u001b[0m EOL while scanning string literal\n"
     ]
    }
   ],
   "source": [
    "## check\n",
    "\n",
    "node0 = Node(\"apple\")\n",
    "node1 = Node(\"banana\")\n",
    "node2 = Node(\"orange\")\n",
    "node0.set_left_child(node1)\n",
    "node0.set_right_child(node2)\n",
    "\n",
    "print(f\"\"\"\n",
    "node 0: {node0.value}\n",
    "node 0 left child: {node0.left.value}\n",
    "node 0 right child: {node0.right.value}\n",
    "\"\"\")"
   ]
  },
  {
   "cell_type": "markdown",
   "metadata": {},
   "source": [
    "## Task 05: check if left or right child exists\n",
    "\n",
    "Define functions `has_left_child`, `has_right_child`, so that they return true if the node has left child, or right child respectively."
   ]
  },
  {
   "cell_type": "code",
   "execution_count": 7,
   "metadata": {},
   "outputs": [],
   "source": [
    "## your code here\n",
    "    "
   ]
  },
  {
   "cell_type": "code",
   "execution_count": 43,
   "metadata": {},
   "outputs": [],
   "source": []
  },
  {
   "cell_type": "code",
   "execution_count": 8,
   "metadata": {},
   "outputs": [
    {
     "name": "stdout",
     "output_type": "stream",
     "text": [
      "has left child? False\n",
      "has right child? False\n",
      "adding left and right children\n",
      "has left child? True\n",
      "has right child? True\n"
     ]
    }
   ],
   "source": [
    "## check\n",
    "\n",
    "node0 = Node(\"apple\")\n",
    "node1 = Node(\"banana\")\n",
    "node2 = Node(\"orange\")\n",
    "\n",
    "print(f\"has left child? {node0.has_left_child()}\")\n",
    "print(f\"has right child? {node0.has_right_child()}\")\n",
    "\n",
    "print(\"adding left and right children\")\n",
    "node0.set_left_child(node1)\n",
    "node0.set_right_child(node2)\n",
    "\n",
    "print(f\"has left child? {node0.has_left_child()}\")\n",
    "print(f\"has right child? {node0.has_right_child()}\")"
   ]
  },
  {
   "cell_type": "markdown",
   "metadata": {},
   "source": [
    "## Task 06: Create a binary tree\n",
    "\n",
    "Create a class called `Tree` that has a \"root\" instance variable of type `Node`.\n",
    "\n",
    "Also define a get_root method that returns the root node."
   ]
  },
  {
   "cell_type": "code",
   "execution_count": null,
   "metadata": {},
   "outputs": [],
   "source": [
    "# define a Tree class here\n",
    "    "
   ]
  },
  {
   "cell_type": "code",
   "execution_count": 1,
   "metadata": {},
   "outputs": [],
   "source": []
  },
  {
   "cell_type": "markdown",
   "metadata": {},
   "source": [
    "## Task 07: setting root node in constructor\n",
    "\n",
    "Let's modify the `Tree` constructor so that it takes an input that initializes the root node.  Choose between one of two options: \n",
    "1) the constructor takes a `Node` object  \n",
    "2) the constructor takes a value, then creates a new `Node` object using that value.  \n",
    "\n",
    "Which do you think is better?"
   ]
  },
  {
   "cell_type": "code",
   "execution_count": null,
   "metadata": {},
   "outputs": [],
   "source": [
    "# choose option 1 or 2 (you can try both), and explain why you made this choice\n",
    "    "
   ]
  },
  {
   "cell_type": "code",
   "execution_count": 9,
   "metadata": {},
   "outputs": [],
   "source": []
  },
  {
   "cell_type": "code",
   "execution_count": 16,
   "metadata": {},
   "outputs": [],
   "source": []
  },
  {
   "cell_type": "markdown",
   "metadata": {},
   "source": [
    "#### Discussion\n",
    "Write your thoughts here:"
   ]
  },
  {
   "cell_type": "markdown",
   "metadata": {},
   "source": [
    "## Next:\n",
    "\n",
    "Before we learn how to insert values into a tree, we'll first want to learn how to traverse a tree. We'll practice tree traversal next!"
   ]
  }
 ],
 "metadata": {
  "kernelspec": {
   "display_name": "Python 3",
   "language": "python",
   "name": "python3"
  },
  "language_info": {
   "codemirror_mode": {
    "name": "ipython",
    "version": 3
   },
   "file_extension": ".py",
   "mimetype": "text/x-python",
   "name": "python",
   "nbconvert_exporter": "python",
   "pygments_lexer": "ipython3",
   "version": "3.5.2"
  },
  "widgets": {
   "state": {},
   "version": "1.1.2"
  }
 },
 "nbformat": 4,
 "nbformat_minor": 2
}
