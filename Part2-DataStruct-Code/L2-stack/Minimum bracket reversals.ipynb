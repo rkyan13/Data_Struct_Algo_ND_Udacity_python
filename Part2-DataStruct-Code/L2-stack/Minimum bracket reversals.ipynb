{
 "cells": [
  {
   "cell_type": "markdown",
   "metadata": {
    "graffitiCellId": "id_vxtrcg7"
   },
   "source": [
    "### Problem Statement\n",
    "\n",
    "Given an input string consisting of only `{` and `}`, figure out the minimum number of reversals required to make the brackets balanced.\n",
    "\n",
    "For example:\n",
    "* For `input_string = \"}}}}`, the number of reversals required is `2`.\n",
    "\n",
    "\n",
    "* For `input_string = \"}{}}`, the number of reversals required is `1`.\n",
    "\n",
    "\n",
    "If the brackets cannot be balanced, return `-1` to indicate that it is not possible to balance them."
   ]
  },
  {
   "cell_type": "code",
   "execution_count": 1,
   "metadata": {
    "graffitiCellId": "id_jlfcw5k"
   },
   "outputs": [],
   "source": [
    "class LinkedListNode:\n",
    "\n",
    "    def __init__(self, data):\n",
    "        self.data = data\n",
    "        self.next = None\n",
    "\n",
    "class Stack:\n",
    "\n",
    "    def __init__(self):\n",
    "        self.num_elements = 0\n",
    "        self.head = None\n",
    "\n",
    "    def push(self, data):\n",
    "        new_node = LinkedListNode(data)\n",
    "        if self.head is None:\n",
    "            self.head = new_node\n",
    "        else:\n",
    "            new_node.next = self.head\n",
    "            self.head = new_node\n",
    "        self.num_elements += 1\n",
    "\n",
    "    def pop(self):\n",
    "        if self.is_empty():\n",
    "            return None\n",
    "        temp = self.head.data\n",
    "        self.head = self.head.next\n",
    "        self.num_elements -= 1\n",
    "        return temp\n",
    "\n",
    "    def top(self):\n",
    "        if self.head is None:\n",
    "            return None\n",
    "        return self.head.data\n",
    "\n",
    "    def size(self):\n",
    "        return self.num_elements\n",
    "\n",
    "    def is_empty(self):\n",
    "        return self.num_elements == 0\n",
    "    \n",
    "    \n"
   ]
  },
  {
   "cell_type": "code",
   "execution_count": 2,
   "metadata": {
    "graffitiCellId": "id_8y5l66z"
   },
   "outputs": [],
   "source": [
    "DEBUG=1\n",
    "def minimum_bracket_reversals(input_string):\n",
    "    \"\"\"\n",
    "    Calculate the number of reversals to fix the brackets\n",
    "\n",
    "    Args:\n",
    "       input_string(string): Strings to be used for bracket reversal calculation\n",
    "    Returns:\n",
    "       int: Number of bracket reversals needed\n",
    "    \"\"\"\n",
    "    \n",
    "    # TODO: Write function here\n",
    "    bracket_stack = Stack()\n",
    "    if(len(input_string)%2!=0):\n",
    "        num_reversals = -1\n",
    "    else:\n",
    "        num_reversals = 0\n",
    "        #While Traversing the input string \n",
    "        #i) for every { - push\n",
    "        #i) for every } - pop: If popped value is None that warrants reversing } to { and pushing it to the bracket_stack\n",
    "        for i in range(len(input_string)):\n",
    "            if(input_string[i]==\"{\"):\n",
    "                bracket_stack.push(\"{\")\n",
    "            elif(input_string[i]==\"}\"):\n",
    "                popped_value = bracket_stack.pop()\n",
    "                #If popped value is None that warrants reversing } to { and pushing it to the bracket_stack\n",
    "                if(popped_value ==None):\n",
    "                    bracket_stack.push(\"{\")\n",
    "                    num_reversals +=1\n",
    "        \n",
    "        #At the end of the for loop(i.e after traversing the input string) \n",
    "        #for a well balanced expression #{ = #} i.e. #push = #pop\n",
    "        #but if there is an outstanding string of \"{{{{ it means that it is imbalanced. So reverse exactly half of them to balance it out\"\n",
    "        #Note : if there is an outstanding string, the size should be even at this point(otherwise the code is buggy)\n",
    "        if(bracket_stack.size()%2!=0):\n",
    "            num_reversals = -1\n",
    "        else:\n",
    "            num_reversals += bracket_stack.size()/2\n",
    "        \n",
    "    num_reversals = int(num_reversals)\n",
    "    if(DEBUG==1):\n",
    "        print(\"input_string =\",input_string)\n",
    "        print(\"num_reversals =\", num_reversals)\n",
    "        \n",
    "    return num_reversals"
   ]
  },
  {
   "cell_type": "code",
   "execution_count": 3,
   "metadata": {
    "graffitiCellId": "id_z5q6m05"
   },
   "outputs": [],
   "source": [
    "def test_function(test_case):\n",
    "    input_string = test_case[0]\n",
    "    expected_output = test_case[1]\n",
    "    output = minimum_bracket_reversals(input_string)\n",
    "    \n",
    "    if output == expected_output:\n",
    "        print(\"Pass\")\n",
    "    else:\n",
    "        print(\"Fail\")\n"
   ]
  },
  {
   "cell_type": "code",
   "execution_count": 4,
   "metadata": {
    "graffitiCellId": "id_y67zaj9"
   },
   "outputs": [
    {
     "name": "stdout",
     "output_type": "stream",
     "text": [
      "input_string = }}}}\n",
      "num_reversals = 2\n",
      "Pass\n"
     ]
    }
   ],
   "source": [
    "test_case_1 = [\"}}}}\", 2]\n",
    "test_function(test_case_1)"
   ]
  },
  {
   "cell_type": "code",
   "execution_count": 5,
   "metadata": {
    "graffitiCellId": "id_yt04y7c"
   },
   "outputs": [
    {
     "name": "stdout",
     "output_type": "stream",
     "text": [
      "input_string = }}{{\n",
      "num_reversals = 2\n",
      "Pass\n"
     ]
    }
   ],
   "source": [
    "test_case_2 = [\"}}{{\", 2]          \n",
    "test_function(test_case_2)"
   ]
  },
  {
   "cell_type": "code",
   "execution_count": 6,
   "metadata": {
    "graffitiCellId": "id_m8kpqt1"
   },
   "outputs": [
    {
     "name": "stdout",
     "output_type": "stream",
     "text": [
      "input_string = {{{{{{{{{{{{{{{{{{{{{{{{{{{{{{{}}}}}\n",
      "num_reversals = 13\n",
      "Pass\n"
     ]
    }
   ],
   "source": [
    "test_case_3 = [\"{{{{{{{{{{{{{{{{{{{{{{{{{{{{{{{}}}}}\", 13]\n",
    "\n",
    "test_function(test_case_3)"
   ]
  },
  {
   "cell_type": "code",
   "execution_count": 7,
   "metadata": {
    "graffitiCellId": "id_mp0csx6"
   },
   "outputs": [
    {
     "name": "stdout",
     "output_type": "stream",
     "text": [
      "input_string = }{}{}{}{}{}{}{}{}{}{}{}{}{}{}{\n",
      "num_reversals = 2\n",
      "Pass\n"
     ]
    }
   ],
   "source": [
    "test_case_4= [\"}{}{}{}{}{}{}{}{}{}{}{}{}{}{}{\", 2]\n",
    "test_function(test_case_4)"
   ]
  },
  {
   "cell_type": "code",
   "execution_count": 8,
   "metadata": {
    "graffitiCellId": "id_1732mey"
   },
   "outputs": [
    {
     "name": "stdout",
     "output_type": "stream",
     "text": [
      "input_string = }}{}{}{}{}{}{}{}{}{}{}{}{}{}{}\n",
      "num_reversals = 1\n",
      "Pass\n"
     ]
    }
   ],
   "source": [
    "test_case_5 = [\"}}{}{}{}{}{}{}{}{}{}{}{}{}{}{}\", 1]\n",
    "\n",
    "test_function(test_case_5)"
   ]
  },
  {
   "cell_type": "markdown",
   "metadata": {
    "graffitiCellId": "id_nswj6h2"
   },
   "source": [
    "<span class=\"graffiti-highlight graffiti-id_nswj6h2-id_mclvpey\"><i></i><button>Show Solution</button></span>"
   ]
  },
  {
   "cell_type": "code",
   "execution_count": 9,
   "metadata": {},
   "outputs": [
    {
     "name": "stdout",
     "output_type": "stream",
     "text": [
      "input_string = }}{}{}{}{}{}{}{}{}{}{}{}{}{}{}}\n",
      "num_reversals = -1\n",
      "Pass\n"
     ]
    }
   ],
   "source": [
    "test_case_6 = [\"}}{}{}{}{}{}{}{}{}{}{}{}{}{}{}}\", -1]\n",
    "\n",
    "test_function(test_case_6)"
   ]
  },
  {
   "cell_type": "code",
   "execution_count": 10,
   "metadata": {},
   "outputs": [
    {
     "name": "stdout",
     "output_type": "stream",
     "text": [
      "input_string = {}{}{}{}{}{}{}{}{}{}{}{}{}{}{}}}\n",
      "num_reversals = 1\n",
      "Pass\n"
     ]
    }
   ],
   "source": [
    "test_case_7 = [\"{}{}{}{}{}{}{}{}{}{}{}{}{}{}{}}}\", 1]\n",
    "\n",
    "test_function(test_case_7)"
   ]
  },
  {
   "cell_type": "code",
   "execution_count": 11,
   "metadata": {},
   "outputs": [
    {
     "name": "stdout",
     "output_type": "stream",
     "text": [
      "input_string = }}}{}\n",
      "num_reversals = -1\n",
      "Pass\n"
     ]
    }
   ],
   "source": [
    "test_case_8 = [\"}}}{}\", -1]\n",
    "\n",
    "test_function(test_case_8)"
   ]
  },
  {
   "cell_type": "code",
   "execution_count": null,
   "metadata": {},
   "outputs": [],
   "source": []
  }
 ],
 "metadata": {
  "graffiti": {
   "firstAuthorId": "10694620118",
   "id": "id_m05og16",
   "language": "EN"
  },
  "kernelspec": {
   "display_name": "Python 3",
   "language": "python",
   "name": "python3"
  },
  "language_info": {
   "codemirror_mode": {
    "name": "ipython",
    "version": 3
   },
   "file_extension": ".py",
   "mimetype": "text/x-python",
   "name": "python",
   "nbconvert_exporter": "python",
   "pygments_lexer": "ipython3",
   "version": "3.5.2"
  },
  "widgets": {
   "state": {},
   "version": "1.1.2"
  }
 },
 "nbformat": 4,
 "nbformat_minor": 2
}
