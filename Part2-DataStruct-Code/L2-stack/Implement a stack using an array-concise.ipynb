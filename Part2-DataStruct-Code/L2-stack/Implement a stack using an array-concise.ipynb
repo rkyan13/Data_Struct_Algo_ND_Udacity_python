{
 "cells": [
  {
   "cell_type": "markdown",
   "metadata": {},
   "source": [
    "## Implement a stack using an array\n",
    "Must have a constructor that initialises an array with zero\n",
    "Create the following methods\n",
    "1) Push\n",
    "2) Pop\n",
    "3) size of\n",
    "4) is empty \n",
    "5) handle capacity"
   ]
  },
  {
   "cell_type": "code",
   "execution_count": 5,
   "metadata": {},
   "outputs": [],
   "source": [
    "class Stack():\n",
    "    def __init__(self, initial_size = 10):\n",
    "        self.capacity     = initial_size\n",
    "        self.arr          = [0] *initial_size\n",
    "        self.next_idx     = 0;\n",
    "        self.num_elements = 0;\n",
    "    \n",
    "    def push(self, value):\n",
    "        if(self.next_idx >=self.capacity):\n",
    "            self._handle_over_capacity()\n",
    "            \n",
    "        self.arr[self.next_idx] = value\n",
    "        self.next_idx           +=1\n",
    "        self.num_elements       +=1\n",
    "    \n",
    "    def pop(self):\n",
    "        self.next_idx     -= 1\n",
    "        \n",
    "        if(self.next_idx<0):\n",
    "            #reset to zero\n",
    "            self.next_idx     = 0\n",
    "            self.num_elements = 0\n",
    "            return None\n",
    "        else:\n",
    "            self.num_elements -= 1\n",
    "            return self.arr[self.next_idx]\n",
    "    \n",
    "    def size(self):\n",
    "        return self.num_elements\n",
    "    \n",
    "    def is_empty(self):\n",
    "        if(self.num_elements==0):\n",
    "            return True\n",
    "        else:\n",
    "            return False\n",
    "    \n",
    "    def _handle_over_capacity(self):\n",
    "        print(\"_handle_over_capacity\")\n",
    "        old_arr       = self.arr;\n",
    "        self.capacity = self.capacity*2\n",
    "        self.arr      = [0]*self.capacity;\n",
    "        for idx in range(len(old_arr)):\n",
    "            self.arr[idx]=old_arr[idx]\n",
    "    \n",
    "    def print_stack(self):\n",
    "        print(foo.arr)\n",
    "            \n",
    "            \n",
    "        "
   ]
  },
  {
   "cell_type": "code",
   "execution_count": 6,
   "metadata": {},
   "outputs": [
    {
     "name": "stdout",
     "output_type": "stream",
     "text": [
      "['Test!', 0, 0, 0, 0, 0, 0, 0, 0, 0]\n",
      "Pass\n"
     ]
    }
   ],
   "source": [
    "#Let's test it by creating a stack object and pushing an item onto the stack:\n",
    "foo = Stack()\n",
    "foo.push(\"Test!\")\n",
    "foo.print_stack()\n",
    "print(\"Pass\" if foo.arr[0] == \"Test!\" else \"Fail\")"
   ]
  },
  {
   "cell_type": "code",
   "execution_count": 7,
   "metadata": {},
   "outputs": [
    {
     "name": "stdout",
     "output_type": "stream",
     "text": [
      "Pushing 0\n",
      "[0, 0, 0, 0, 0, 0, 0, 0, 0, 0]\n",
      "\n",
      "Pushing 1\n",
      "[0, 1, 0, 0, 0, 0, 0, 0, 0, 0]\n",
      "\n",
      "Pushing 2\n",
      "[0, 1, 2, 0, 0, 0, 0, 0, 0, 0]\n",
      "\n",
      "Pushing 3\n",
      "[0, 1, 2, 3, 0, 0, 0, 0, 0, 0]\n",
      "\n",
      "Pushing 4\n",
      "[0, 1, 2, 3, 4, 0, 0, 0, 0, 0]\n",
      "\n",
      "Pushing 5\n",
      "[0, 1, 2, 3, 4, 5, 0, 0, 0, 0]\n",
      "\n",
      "Pushing 6\n",
      "[0, 1, 2, 3, 4, 5, 6, 0, 0, 0]\n",
      "\n",
      "Pushing 7\n",
      "[0, 1, 2, 3, 4, 5, 6, 7, 0, 0]\n",
      "\n",
      "Pushing 8\n",
      "[0, 1, 2, 3, 4, 5, 6, 7, 8, 0]\n",
      "\n",
      "Pushing 9\n",
      "[0, 1, 2, 3, 4, 5, 6, 7, 8, 9]\n",
      "\n",
      "Pushing 10\n",
      "_handle_over_capacity\n",
      "[0, 1, 2, 3, 4, 5, 6, 7, 8, 9, 10, 0, 0, 0, 0, 0, 0, 0, 0, 0]\n",
      "\n",
      "Pushing 11\n",
      "[0, 1, 2, 3, 4, 5, 6, 7, 8, 9, 10, 11, 0, 0, 0, 0, 0, 0, 0, 0]\n",
      "Pass\n"
     ]
    }
   ],
   "source": [
    "foo = Stack()\n",
    "\n",
    "print(\"Pushing 0\")\n",
    "foo.push(0)\n",
    "foo.print_stack()\n",
    "\n",
    "print(\"\\nPushing 1\")\n",
    "foo.push(1)\n",
    "foo.print_stack()\n",
    "\n",
    "print(\"\\nPushing 2\")\n",
    "foo.push(2)\n",
    "foo.print_stack()\n",
    "\n",
    "print(\"\\nPushing 3\")\n",
    "foo.push(3)\n",
    "foo.print_stack()\n",
    "\n",
    "print(\"\\nPushing 4\")\n",
    "foo.push(4)\n",
    "foo.print_stack()\n",
    "\n",
    "print(\"\\nPushing 5\")\n",
    "foo.push(5)\n",
    "foo.print_stack()\n",
    "\n",
    "print(\"\\nPushing 6\")\n",
    "foo.push(6)\n",
    "foo.print_stack()\n",
    "\n",
    "print(\"\\nPushing 7\")\n",
    "foo.push(7)\n",
    "foo.print_stack()\n",
    "\n",
    "print(\"\\nPushing 8\")\n",
    "foo.push(8)\n",
    "foo.print_stack()\n",
    "\n",
    "print(\"\\nPushing 9\")\n",
    "foo.push(9)\n",
    "foo.print_stack()\n",
    "\n",
    "print(\"\\nPushing 10\")\n",
    "foo.push(10) # The array is now at capacity!\n",
    "foo.print_stack()\n",
    "\n",
    "print(\"\\nPushing 11\")\n",
    "foo.push(11) # This one should cause the array to increase in size\n",
    "foo.print_stack() # Let's see what the array looks like now!\n",
    "\n",
    "print(\"Pass\" if len(foo.arr) == 20 else \"Fail\") # If we successfully doubled the array size, it should now be 20."
   ]
  },
  {
   "cell_type": "code",
   "execution_count": 8,
   "metadata": {},
   "outputs": [
    {
     "name": "stdout",
     "output_type": "stream",
     "text": [
      "0\n",
      "True\n",
      "1\n",
      "False\n"
     ]
    }
   ],
   "source": [
    "#Test the size, is_empty methods\n",
    "\n",
    "foo = Stack()\n",
    "print(foo.size()) # Should return 0\n",
    "print(foo.is_empty()) # Should return True\n",
    "foo.push(\"Test\") # Let's push an item onto the stack and check again\n",
    "print(foo.size()) # Should return 1\n",
    "print(foo.is_empty()) # Should return False"
   ]
  },
  {
   "cell_type": "code",
   "execution_count": 9,
   "metadata": {},
   "outputs": [
    {
     "name": "stdout",
     "output_type": "stream",
     "text": [
      "Test\n",
      "None\n"
     ]
    }
   ],
   "source": [
    "#Test the Pop Method\n",
    "foo = Stack()\n",
    "foo.push(\"Test\") # We first have to push an item so that we'll have something to pop\n",
    "print(foo.pop()) # Should return the popped item, which is \"Test\"\n",
    "print(foo.pop()) # Should return None, since there's nothing left in the stack"
   ]
  },
  {
   "cell_type": "code",
   "execution_count": null,
   "metadata": {},
   "outputs": [],
   "source": []
  }
 ],
 "metadata": {
  "kernelspec": {
   "display_name": "Python 3",
   "language": "python",
   "name": "python3"
  },
  "language_info": {
   "codemirror_mode": {
    "name": "ipython",
    "version": 3
   },
   "file_extension": ".py",
   "mimetype": "text/x-python",
   "name": "python",
   "nbconvert_exporter": "python",
   "pygments_lexer": "ipython3",
   "version": "3.5.2"
  },
  "widgets": {
   "state": {},
   "version": "1.1.2"
  }
 },
 "nbformat": 4,
 "nbformat_minor": 2
}
