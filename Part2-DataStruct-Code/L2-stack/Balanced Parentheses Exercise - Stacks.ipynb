{
 "cells": [
  {
   "cell_type": "markdown",
   "metadata": {
    "graffitiCellId": "id_qv9zph7"
   },
   "source": [
    "# Balanced Parentheses Exercise"
   ]
  },
  {
   "cell_type": "markdown",
   "metadata": {
    "graffitiCellId": "id_qgcww8j"
   },
   "source": [
    "In this exercise you are going to apply what you learned about stacks with a real world problem. We will be using stacks to make sure the parentheses are balanced in mathematical expressions such as: $((3^2 + 8)*(5/2))/(2+6).$ In real life you can see this extend to many things such as text editor plugins and interactive development environments for all sorts of bracket completion checks. \n",
    "\n",
    "Take a string as an input and return `True` if it's parentheses are balanced or `False` if it is not. \n",
    "\n",
    "Try to code up a solution and pass the test cases. "
   ]
  },
  {
   "cell_type": "markdown",
   "metadata": {
    "graffitiCellId": "id_e0xici2"
   },
   "source": [
    "#### Code"
   ]
  },
  {
   "cell_type": "code",
   "execution_count": 1,
   "metadata": {
    "graffitiCellId": "id_iwaeo1q"
   },
   "outputs": [],
   "source": [
    "DEBUG = 0\n",
    "\n",
    "# Our Stack Class - Brought from previous concept\n",
    "# No need to modify this\n",
    "class Stack:\n",
    "    def __init__(self):\n",
    "        self.items = []\n",
    "    \n",
    "    def size(self):\n",
    "        return len(self.items)\n",
    "    \n",
    "    def push(self, item):\n",
    "        self.items.append(item)\n",
    "\n",
    "    def pop(self):\n",
    "        if self.size()==0:\n",
    "            return None\n",
    "        else:\n",
    "            return self.items.pop()\n",
    "\n",
    "def equation_checker(equation):\n",
    "    \"\"\"\n",
    "    Check equation for balanced parentheses\n",
    "\n",
    "    Args:\n",
    "       equation(string): String form of equation\n",
    "    Returns:\n",
    "       bool: Return if parentheses are balanced or not\n",
    "       Return True if balanced and False if not\n",
    "    \"\"\"\n",
    "    \n",
    "    \n",
    "    # TODO: Intiate stack object\n",
    "    parentheses_st = Stack()\n",
    "    \n",
    "    # TODO: Interate through equation checking parentheses\n",
    "    balanced = True\n",
    "    for idx in range(len(equation)):\n",
    "        if(equation[idx]==\"(\"):            \n",
    "            #We are just pushing onto the stack the location of the left parentheses\n",
    "            #we can push anything really. The parentheses itself, and even \n",
    "            parentheses_st.push(idx)\n",
    "            #print(\"idx=\",idx, \":equation[idx]= \",equation[idx])\n",
    "            #print(parentheses_st.items)\n",
    "        elif(equation[idx]==\")\"):\n",
    "            value = parentheses_st.pop()\n",
    "            #print(\"idx=\",idx, \":equation[idx]= \",equation[idx],\":value=\",value)\n",
    "            #print(parentheses_st.items)\n",
    "            if(value == None):\n",
    "                balanced = False\n",
    "                if(DEBUG == 1):\n",
    "                    print(\"imbalanced: encountered an extra )\")\n",
    "                break\n",
    "    \n",
    "    # TODO: Return True if balanced and False if not\n",
    "    #If balanced continues to remain True (i.e. has not become imbalanced in the previous steps ,\n",
    "    #Then check that the stack size has been reduced to zero after all the push and pop,for it to be balanced\n",
    "    if (balanced == True):\n",
    "        if(parentheses_st.size() == 0):\n",
    "            balanced = True\n",
    "        else:\n",
    "            if(DEBUG == 1):\n",
    "                print(\"imbalanced: contains extra (\")\n",
    "            balanced = False\n",
    "        \n",
    "    if(DEBUG == 1):\n",
    "        print(\"final parentheses_st.items=\",parentheses_st.items)\n",
    "    print(\"final balanced value =\", balanced)\n",
    "    return balanced"
   ]
  },
  {
   "cell_type": "markdown",
   "metadata": {
    "graffitiCellId": "id_rp5s7ca"
   },
   "source": [
    "#### Test Cases"
   ]
  },
  {
   "cell_type": "code",
   "execution_count": 3,
   "metadata": {
    "graffitiCellId": "id_kaesfdd"
   },
   "outputs": [
    {
     "name": "stdout",
     "output_type": "stream",
     "text": [
      "\n",
      "Test1: balanced expression:(output-Pass)\n",
      "final balanced value = True\n",
      "Pass\n",
      "\n",
      "Test2: Balanced Expression, but has a not in front:(output-Fail)\n",
      "final balanced value = True\n",
      "Fail\n",
      "\n",
      "Test3: extra bracket before ((2+6):(output-Fail)\n",
      "final balanced value = False\n",
      "Fail\n",
      "\n",
      "Test4: extra bracket before (((3^2 : (output-Fail)\n",
      "final balanced value = False\n",
      "Fail\n",
      "\n",
      "Test5: Extra bracket after (2+6)):(output-Fail)\n",
      "final balanced value = False\n",
      "Fail\n",
      "\n",
      "Test6: Extra bracket after (5/2)):(output-Fail)\n",
      "final balanced value = False\n",
      "Fail\n",
      "\n",
      "Test7: This is technically balanced. But the bracket position in (3^2 +) does not make sense. But this code is not capable of identifying matehmatical correctness. This is out of scope, (hence output -Pass)\n",
      "final balanced value = True\n",
      "Pass\n"
     ]
    }
   ],
   "source": [
    "print(\"\\nTest1: balanced expression:(output-Pass)\")\n",
    "print (\"Pass\" if (equation_checker('((3^2 + 8)*(5/2))/(2+6)')) else \"Fail\")    #should Pass\n",
    "\n",
    "print(\"\\nTest2: Balanced Expression, but has a not in front:(output-Fail)\")\n",
    "print (\"Pass\" if not (equation_checker('((3^2 + 8)*(5/2))/(2+6)')) else \"Fail\")#should Fail\n",
    "\n",
    "print(\"\\nTest3: extra bracket before ((2+6):(output-Fail)\")\n",
    "print (\"Pass\" if (equation_checker('((3^2 + 8)*(5/2))/((2+6)')) else \"Fail\")#should Fail\n",
    "\n",
    "print(\"\\nTest4: extra bracket before (((3^2 : (output-Fail)\")\n",
    "print (\"Pass\" if (equation_checker('(((3^2 + 8)*(5/2))/(2+6)')) else \"Fail\")#should Fail   \n",
    "\n",
    "print(\"\\nTest5: Extra bracket after (2+6)):(output-Fail)\")\n",
    "print (\"Pass\" if (equation_checker('((3^2 + 8)*(5/2))/(2+6))')) else \"Fail\") #should Fail\n",
    "\n",
    "print(\"\\nTest6: Extra bracket after (5/2)):(output-Fail)\")\n",
    "print (\"Pass\" if (equation_checker('((3^2 + 8))*(5/2))/(2+6)')) else \"Fail\") #should Fail \n",
    "\n",
    "print(\"\\nTest7: This is technically balanced. But the bracket position in (3^2 +) does not make sense. \\\n",
    "But this code is not capable of identifying matehmatical correctness. This is out of scope, (hence output -Pass)\")\n",
    "print (\"Pass\" if (equation_checker('(((3^2 +) 8)*(5/2))/(2+6)')) else \"Fail\") #should Pass"
   ]
  },
  {
   "cell_type": "code",
   "execution_count": null,
   "metadata": {},
   "outputs": [],
   "source": []
  },
  {
   "cell_type": "markdown",
   "metadata": {
    "graffitiCellId": "id_ky3qi6e"
   },
   "source": [
    "<span class=\"graffiti-highlight graffiti-id_ky3qi6e-id_jfute45\"><i></i><button>Show Solution</button></span>"
   ]
  },
  {
   "cell_type": "code",
   "execution_count": null,
   "metadata": {
    "graffitiCellId": "id_up9r3oj"
   },
   "outputs": [],
   "source": []
  },
  {
   "cell_type": "code",
   "execution_count": null,
   "metadata": {},
   "outputs": [],
   "source": []
  }
 ],
 "metadata": {
  "graffiti": {
   "firstAuthorId": "10694620118",
   "id": "id_5jzd4pe",
   "language": "EN"
  },
  "kernelspec": {
   "display_name": "Python 3",
   "language": "python",
   "name": "python3"
  },
  "language_info": {
   "codemirror_mode": {
    "name": "ipython",
    "version": 3
   },
   "file_extension": ".py",
   "mimetype": "text/x-python",
   "name": "python",
   "nbconvert_exporter": "python",
   "pygments_lexer": "ipython3",
   "version": "3.5.2"
  },
  "widgets": {
   "state": {},
   "version": "1.1.2"
  }
 },
 "nbformat": 4,
 "nbformat_minor": 2
}
